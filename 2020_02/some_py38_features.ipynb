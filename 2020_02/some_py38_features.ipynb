{
 "cells": [
  {
   "cell_type": "code",
   "execution_count": 1,
   "metadata": {},
   "outputs": [
    {
     "name": "stdout",
     "output_type": "stream",
     "text": [
      "3.8.1\n"
     ]
    }
   ],
   "source": [
    "from platform import python_version\n",
    "print(python_version())"
   ]
  },
  {
   "cell_type": "code",
   "execution_count": 2,
   "metadata": {},
   "outputs": [],
   "source": [
    "import numpy as np"
   ]
  },
  {
   "cell_type": "markdown",
   "metadata": {},
   "source": [
    "Full list of python 3.8 new features at:  \n",
    "https://docs.python.org/3/whatsnew/3.8.html"
   ]
  },
  {
   "cell_type": "markdown",
   "metadata": {},
   "source": [
    "# Walrus operator"
   ]
  },
  {
   "cell_type": "code",
   "execution_count": 9,
   "metadata": {},
   "outputs": [],
   "source": [
    "a = np.random.randn(np.random.randint(20))"
   ]
  },
  {
   "cell_type": "code",
   "execution_count": 12,
   "metadata": {},
   "outputs": [
    {
     "name": "stdout",
     "output_type": "stream",
     "text": [
      "[ 0.18282134 -0.53053723  2.56244017  0.51370463  1.50090912  1.3282187\n",
      " -0.07390832]\n"
     ]
    }
   ],
   "source": [
    "# Without a walrus\n",
    "if len(a) > 10:\n",
    "    print(f\"Your list is {len(a)} items long, I'm not printing all that.\")\n",
    "else:\n",
    "    print(a)"
   ]
  },
  {
   "cell_type": "code",
   "execution_count": 70,
   "metadata": {},
   "outputs": [
    {
     "name": "stdout",
     "output_type": "stream",
     "text": [
      "[ 0.18282134 -0.53053723  2.56244017  0.51370463  1.50090912  1.3282187\n",
      " -0.07390832]\n"
     ]
    }
   ],
   "source": [
    "# With a walrus\n",
    "if (n := len(a)) > 10:\n",
    "    print(f\"Your list is {n} items long, I'm not printing all that.\")\n",
    "else:\n",
    "    print(a)"
   ]
  },
  {
   "cell_type": "code",
   "execution_count": 71,
   "metadata": {},
   "outputs": [
    {
     "name": "stdout",
     "output_type": "stream",
     "text": [
      "7\n"
     ]
    }
   ],
   "source": [
    "print(n)"
   ]
  },
  {
   "cell_type": "code",
   "execution_count": 22,
   "metadata": {},
   "outputs": [],
   "source": [
    "ics = [\"National Cancer Institute (NCI)\",\n",
    "    \"National Eye Institute (NEI)\",\n",
    "    \"National Heart, Lung, and Blood Institute (NHLBI)\",\n",
    "    \"National Human Genome Research Institute (NHGRI)\",\n",
    "    \"National Institute on Aging (NIA)\",\n",
    "    \"National Institute on Alcohol Abuse and Alcoholism (NIAAA)\",\n",
    "    \"National Institute of Allergy and Infectious Diseases (NIAID)\",\n",
    "    \"National Institute of Arthritis and Musculoskeletal and Skin Diseases (NIAMS)\",\n",
    "    \"National Institute of Biomedical Imaging and Bioengineering (NIBIB)\",\n",
    "    \"Eunice Kennedy Shriver National Institute of Child Health and Human Development (NICHD)\",\n",
    "    \"National Institute on Deafness and Other Communication Disorders (NIDCD)\",\n",
    "    \"National Institute of Dental and Craniofacial Research (NIDCR)\",\n",
    "    \"National Institute of Diabetes and Digestive and Kidney Diseases (NIDDK)\",\n",
    "    \"National Institute on Drug Abuse (NIDA)\",\n",
    "    \"National Institute of Environmental Health Sciences (NIEHS)\",\n",
    "    \"National Institute of General Medical Sciences (NIGMS)\",\n",
    "    \"National Institute of Mental Health (NIMH)\",\n",
    "    \"National Institute on Minority Health and Health Disparities (NIMHD)\",\n",
    "    \"National Institute of Neurological Disorders and Stroke (NINDS)\",\n",
    "    \"National Institute of Nursing Research (NINR)\",\n",
    "    \"National Library of Medicine (NLM)\",\n",
    "    \"Center for Information Technology (CIT)\",\n",
    "    \"Center for Scientific Review (CSR)\",\n",
    "    \"Fogarty International Center (FIC)\",\n",
    "    \"National Center for Advancing Translational Sciences (NCATS)\",\n",
    "    \"National Center for Complementary and Integrative Health (NCCIH)\",\n",
    "    \"NIH Clinical Center (CC)\"]"
   ]
  },
  {
   "cell_type": "code",
   "execution_count": 24,
   "metadata": {},
   "outputs": [
    {
     "data": {
      "text/plain": [
       "['CIT', 'CSR', 'FIC', 'CC']"
      ]
     },
     "execution_count": 24,
     "metadata": {},
     "output_type": "execute_result"
    }
   ],
   "source": [
    "# Let's get all of the abreviations that don't start with N\n",
    "[ic.split('(')[-1].replace(')','') for ic in ics \n",
    " if ic.split('(')[-1].replace(')','')[0] != 'N']"
   ]
  },
  {
   "cell_type": "code",
   "execution_count": 29,
   "metadata": {},
   "outputs": [],
   "source": [
    "# make a function out of it\n",
    "def pull_initials(ss):\n",
    "    return ss.split('(')[-1].replace(')','')\n",
    "assert pull_initials(\"National Cancer Institute (NCI)\") == \"NCI\"\n",
    "\n",
    "[pull_initials(ic) for ic in ics \n",
    " if pull_initials(ic)[0] != 'N']"
   ]
  },
  {
   "cell_type": "code",
   "execution_count": 31,
   "metadata": {},
   "outputs": [
    {
     "data": {
      "text/plain": [
       "['CIT', 'CSR', 'FIC', 'CC']"
      ]
     },
     "execution_count": 31,
     "metadata": {},
     "output_type": "execute_result"
    }
   ],
   "source": []
  },
  {
   "cell_type": "code",
   "execution_count": 32,
   "metadata": {},
   "outputs": [
    {
     "data": {
      "text/plain": [
       "['CIT', 'CSR', 'FIC', 'CC']"
      ]
     },
     "execution_count": 32,
     "metadata": {},
     "output_type": "execute_result"
    }
   ],
   "source": [
    "[initials for ic in ics \n",
    " if (initials := pull_initials(ic))[0] != 'N']"
   ]
  },
  {
   "cell_type": "code",
   "execution_count": 75,
   "metadata": {},
   "outputs": [],
   "source": [
    "initials = []\n",
    "for ic in ics:\n",
    "    if ic.split('(')[-1].replace(')','')[0] != 'N': \n",
    "        initials.append(ic.split('(')[-1].replace(')',''))"
   ]
  },
  {
   "cell_type": "code",
   "execution_count": 76,
   "metadata": {},
   "outputs": [],
   "source": [
    "initials = []\n",
    "for ic in ics:\n",
    "    if (initial := ic.split('(')[-1].replace(')',''))[0] != 'N': \n",
    "        initials.append(initial)"
   ]
  },
  {
   "cell_type": "code",
   "execution_count": 77,
   "metadata": {},
   "outputs": [
    {
     "data": {
      "text/plain": [
       "['CIT', 'CSR', 'FIC', 'CC']"
      ]
     },
     "execution_count": 77,
     "metadata": {},
     "output_type": "execute_result"
    }
   ],
   "source": [
    "initials"
   ]
  },
  {
   "cell_type": "code",
   "execution_count": null,
   "metadata": {},
   "outputs": [],
   "source": [
    "[initials for ic in ics]"
   ]
  },
  {
   "cell_type": "code",
   "execution_count": 33,
   "metadata": {},
   "outputs": [
    {
     "data": {
      "text/plain": [
       "['CIT', 'CSR', 'FIC', 'CC']"
      ]
     },
     "execution_count": 33,
     "metadata": {},
     "output_type": "execute_result"
    }
   ],
   "source": [
    "[initials for ic in ics \n",
    " if (initials := ic.split('(')[-1].replace(')',''))[0] != 'N']"
   ]
  },
  {
   "cell_type": "markdown",
   "metadata": {},
   "source": [
    "# Positional only parameters\n",
    "There is a new function parameter syntax `/` to indicate that some function parameters must be specified positionally and cannot be used as keyword arguments. This is the same notation shown by `help()` for C functions annotated with Larry Hastings’ Argument Clinic tool.\n",
    "\n",
    "Allows python to emulate C coded functions\n",
    "\n",
    "Also allows you to prevent downstream users from depending on a prameter name that you're not certain of yet."
   ]
  },
  {
   "cell_type": "code",
   "execution_count": 35,
   "metadata": {},
   "outputs": [
    {
     "data": {
      "text/plain": [
       "'NCI'"
      ]
     },
     "execution_count": 35,
     "metadata": {},
     "output_type": "execute_result"
    }
   ],
   "source": [
    "pull_initials(ss=\"National Cancer Institute (NCI)\")"
   ]
  },
  {
   "cell_type": "code",
   "execution_count": 36,
   "metadata": {},
   "outputs": [],
   "source": [
    "def pull_initials(name):\n",
    "    return name.split('(')[-1].replace(')','')"
   ]
  },
  {
   "cell_type": "code",
   "execution_count": 37,
   "metadata": {},
   "outputs": [
    {
     "ename": "TypeError",
     "evalue": "pull_initials() got an unexpected keyword argument 'ss'",
     "output_type": "error",
     "traceback": [
      "\u001b[0;31m---------------------------------------------------------------------------\u001b[0m",
      "\u001b[0;31mTypeError\u001b[0m                                 Traceback (most recent call last)",
      "\u001b[0;32m<ipython-input-37-0962d8bdff62>\u001b[0m in \u001b[0;36m<module>\u001b[0;34m\u001b[0m\n\u001b[0;32m----> 1\u001b[0;31m \u001b[0mpull_initials\u001b[0m\u001b[0;34m(\u001b[0m\u001b[0mss\u001b[0m\u001b[0;34m=\u001b[0m\u001b[0;34m\"National Cancer Institute (NCI)\"\u001b[0m\u001b[0;34m)\u001b[0m\u001b[0;34m\u001b[0m\u001b[0;34m\u001b[0m\u001b[0m\n\u001b[0m",
      "\u001b[0;31mTypeError\u001b[0m: pull_initials() got an unexpected keyword argument 'ss'"
     ]
    }
   ],
   "source": [
    "pull_initials(ss=\"National Cancer Institute (NCI)\")"
   ]
  },
  {
   "cell_type": "code",
   "execution_count": 38,
   "metadata": {},
   "outputs": [],
   "source": [
    "def pull_initials(name='foo', /):\n",
    "    return name.split('(')[-1].replace(')','')"
   ]
  },
  {
   "cell_type": "code",
   "execution_count": 40,
   "metadata": {},
   "outputs": [
    {
     "data": {
      "text/plain": [
       "'NCI'"
      ]
     },
     "execution_count": 40,
     "metadata": {},
     "output_type": "execute_result"
    }
   ],
   "source": [
    "pull_initials(\"National Cancer Institute (NCI)\")"
   ]
  },
  {
   "cell_type": "code",
   "execution_count": 41,
   "metadata": {},
   "outputs": [
    {
     "ename": "TypeError",
     "evalue": "pull_initials() got some positional-only arguments passed as keyword arguments: 'name'",
     "output_type": "error",
     "traceback": [
      "\u001b[0;31m---------------------------------------------------------------------------\u001b[0m",
      "\u001b[0;31mTypeError\u001b[0m                                 Traceback (most recent call last)",
      "\u001b[0;32m<ipython-input-41-850878eaad67>\u001b[0m in \u001b[0;36m<module>\u001b[0;34m\u001b[0m\n\u001b[0;32m----> 1\u001b[0;31m \u001b[0mpull_initials\u001b[0m\u001b[0;34m(\u001b[0m\u001b[0mname\u001b[0m\u001b[0;34m=\u001b[0m\u001b[0;34m\"National Cancer Institute (NCI)\"\u001b[0m\u001b[0;34m)\u001b[0m\u001b[0;34m\u001b[0m\u001b[0;34m\u001b[0m\u001b[0m\n\u001b[0m",
      "\u001b[0;31mTypeError\u001b[0m: pull_initials() got some positional-only arguments passed as keyword arguments: 'name'"
     ]
    }
   ],
   "source": [
    "pull_initials(name=\"National Cancer Institute (NCI)\")"
   ]
  },
  {
   "cell_type": "markdown",
   "metadata": {},
   "source": [
    "# f-strings support = for simpler code and debugging"
   ]
  },
  {
   "cell_type": "code",
   "execution_count": 78,
   "metadata": {},
   "outputs": [],
   "source": [
    "import math"
   ]
  },
  {
   "cell_type": "code",
   "execution_count": 79,
   "metadata": {},
   "outputs": [
    {
     "name": "stdout",
     "output_type": "stream",
     "text": [
      "pi = 3.14\n"
     ]
    }
   ],
   "source": [
    "print('pi = %0.2f'%math.pi)"
   ]
  },
  {
   "cell_type": "code",
   "execution_count": 81,
   "metadata": {},
   "outputs": [
    {
     "name": "stdout",
     "output_type": "stream",
     "text": [
      "pi = 3.141592653589793\n"
     ]
    }
   ],
   "source": [
    "print(f'pi = {math.pi}')"
   ]
  },
  {
   "cell_type": "code",
   "execution_count": 82,
   "metadata": {},
   "outputs": [
    {
     "name": "stdout",
     "output_type": "stream",
     "text": [
      "pi = 3\n"
     ]
    }
   ],
   "source": [
    "print(f'pi = {int(math.pi)}')"
   ]
  },
  {
   "cell_type": "code",
   "execution_count": 80,
   "metadata": {},
   "outputs": [
    {
     "name": "stdout",
     "output_type": "stream",
     "text": [
      "pi = 3.14\n"
     ]
    }
   ],
   "source": [
    "print(f'pi = {math.pi:0.2f}')"
   ]
  },
  {
   "cell_type": "code",
   "execution_count": 84,
   "metadata": {},
   "outputs": [
    {
     "name": "stdout",
     "output_type": "stream",
     "text": [
      "math.pi=3.141592653589793\n"
     ]
    }
   ],
   "source": [
    "print(f'{math.pi=}')"
   ]
  },
  {
   "cell_type": "code",
   "execution_count": 49,
   "metadata": {
    "scrolled": true
   },
   "outputs": [
    {
     "name": "stdout",
     "output_type": "stream",
     "text": [
      "initials=NCI, name_letters=23, savings_ratio=0.8695652173913043\n",
      "initials=NEI, name_letters=20, savings_ratio=0.85\n",
      "initials=NHLBI, name_letters=36, savings_ratio=0.8611111111111112\n",
      "initials=NHGRI, name_letters=36, savings_ratio=0.8611111111111112\n",
      "initials=NIA, name_letters=24, savings_ratio=0.875\n",
      "initials=NIAAA, name_letters=44, savings_ratio=0.8863636363636364\n",
      "initials=NIAID, name_letters=47, savings_ratio=0.8936170212765957\n",
      "initials=NIAMS, name_letters=61, savings_ratio=0.9180327868852459\n",
      "initials=NIBIB, name_letters=53, savings_ratio=0.9056603773584906\n",
      "initials=NICHD, name_letters=69, savings_ratio=0.927536231884058\n",
      "initials=NIDCD, name_letters=57, savings_ratio=0.9122807017543859\n",
      "initials=NIDCR, name_letters=48, savings_ratio=0.8958333333333334\n",
      "initials=NIDDK, name_letters=56, savings_ratio=0.9107142857142857\n",
      "initials=NIDA, name_letters=28, savings_ratio=0.8571428571428571\n",
      "initials=NIEHS, name_letters=46, savings_ratio=0.8913043478260869\n",
      "initials=NIGMS, name_letters=41, savings_ratio=0.8780487804878049\n",
      "initials=NIMH, name_letters=31, savings_ratio=0.8709677419354839\n",
      "initials=NIMHD, name_letters=53, savings_ratio=0.9056603773584906\n",
      "initials=NINDS, name_letters=49, savings_ratio=0.8979591836734694\n",
      "initials=NINR, name_letters=34, savings_ratio=0.8823529411764706\n",
      "initials=NLM, name_letters=25, savings_ratio=0.88\n",
      "initials=CIT, name_letters=30, savings_ratio=0.9\n",
      "initials=CSR, name_letters=25, savings_ratio=0.88\n",
      "initials=FIC, name_letters=26, savings_ratio=0.8846153846153846\n",
      "initials=NCATS, name_letters=47, savings_ratio=0.8936170212765957\n",
      "initials=NCCIH, name_letters=50, savings_ratio=0.9\n",
      "initials=CC, name_letters=17, savings_ratio=0.8823529411764706\n"
     ]
    }
   ],
   "source": [
    "for ic in ics:\n",
    "    name = ic.split('(')[0]\n",
    "    initials = pull_initials(ic)\n",
    "    name_letters = len(name.replace(' ', ''))\n",
    "    letter_savings = name_letters - len(initials)\n",
    "    savings_ratio = letter_savings / name_letters\n",
    "    print(f'initials={initials}, name_letters={name_letters}, savings_ratio={savings_ratio}')"
   ]
  },
  {
   "cell_type": "code",
   "execution_count": 50,
   "metadata": {},
   "outputs": [
    {
     "name": "stdout",
     "output_type": "stream",
     "text": [
      "initials='NCI', name_letters=23, savings_ratio=0.8695652173913043\n",
      "initials='NEI', name_letters=20, savings_ratio=0.85\n",
      "initials='NHLBI', name_letters=36, savings_ratio=0.8611111111111112\n",
      "initials='NHGRI', name_letters=36, savings_ratio=0.8611111111111112\n",
      "initials='NIA', name_letters=24, savings_ratio=0.875\n",
      "initials='NIAAA', name_letters=44, savings_ratio=0.8863636363636364\n",
      "initials='NIAID', name_letters=47, savings_ratio=0.8936170212765957\n",
      "initials='NIAMS', name_letters=61, savings_ratio=0.9180327868852459\n",
      "initials='NIBIB', name_letters=53, savings_ratio=0.9056603773584906\n",
      "initials='NICHD', name_letters=69, savings_ratio=0.927536231884058\n",
      "initials='NIDCD', name_letters=57, savings_ratio=0.9122807017543859\n",
      "initials='NIDCR', name_letters=48, savings_ratio=0.8958333333333334\n",
      "initials='NIDDK', name_letters=56, savings_ratio=0.9107142857142857\n",
      "initials='NIDA', name_letters=28, savings_ratio=0.8571428571428571\n",
      "initials='NIEHS', name_letters=46, savings_ratio=0.8913043478260869\n",
      "initials='NIGMS', name_letters=41, savings_ratio=0.8780487804878049\n",
      "initials='NIMH', name_letters=31, savings_ratio=0.8709677419354839\n",
      "initials='NIMHD', name_letters=53, savings_ratio=0.9056603773584906\n",
      "initials='NINDS', name_letters=49, savings_ratio=0.8979591836734694\n",
      "initials='NINR', name_letters=34, savings_ratio=0.8823529411764706\n",
      "initials='NLM', name_letters=25, savings_ratio=0.88\n",
      "initials='CIT', name_letters=30, savings_ratio=0.9\n",
      "initials='CSR', name_letters=25, savings_ratio=0.88\n",
      "initials='FIC', name_letters=26, savings_ratio=0.8846153846153846\n",
      "initials='NCATS', name_letters=47, savings_ratio=0.8936170212765957\n",
      "initials='NCCIH', name_letters=50, savings_ratio=0.9\n",
      "initials='CC', name_letters=17, savings_ratio=0.8823529411764706\n"
     ]
    }
   ],
   "source": [
    "for ic in ics:\n",
    "    name = ic.split('(')[0]\n",
    "    initials = pull_initials(ic)\n",
    "    name_letters = len(name.replace(' ', ''))\n",
    "    letter_savings = name_letters - len(initials)\n",
    "    savings_ratio = letter_savings / name_letters\n",
    "    print(f'{initials=}, {name_letters=}, {savings_ratio=}')"
   ]
  },
  {
   "cell_type": "code",
   "execution_count": 86,
   "metadata": {},
   "outputs": [
    {
     "name": "stdout",
     "output_type": "stream",
     "text": [
      "initials=NCI, name_letters=23, savings_ratio=86.96%\n",
      "initials=NEI, name_letters=20, savings_ratio=85.00%\n",
      "initials=NHLBI, name_letters=36, savings_ratio=86.11%\n",
      "initials=NHGRI, name_letters=36, savings_ratio=86.11%\n",
      "initials=NIA, name_letters=24, savings_ratio=87.50%\n",
      "initials=NIAAA, name_letters=44, savings_ratio=88.64%\n",
      "initials=NIAID, name_letters=47, savings_ratio=89.36%\n",
      "initials=NIAMS, name_letters=61, savings_ratio=91.80%\n",
      "initials=NIBIB, name_letters=53, savings_ratio=90.57%\n",
      "initials=NICHD, name_letters=69, savings_ratio=92.75%\n",
      "initials=NIDCD, name_letters=57, savings_ratio=91.23%\n",
      "initials=NIDCR, name_letters=48, savings_ratio=89.58%\n",
      "initials=NIDDK, name_letters=56, savings_ratio=91.07%\n",
      "initials=NIDA, name_letters=28, savings_ratio=85.71%\n",
      "initials=NIEHS, name_letters=46, savings_ratio=89.13%\n",
      "initials=NIGMS, name_letters=41, savings_ratio=87.80%\n",
      "initials=NIMH, name_letters=31, savings_ratio=87.10%\n",
      "initials=NIMHD, name_letters=53, savings_ratio=90.57%\n",
      "initials=NINDS, name_letters=49, savings_ratio=89.80%\n",
      "initials=NINR, name_letters=34, savings_ratio=88.24%\n",
      "initials=NLM, name_letters=25, savings_ratio=88.00%\n",
      "initials=CIT, name_letters=30, savings_ratio=90.00%\n",
      "initials=CSR, name_letters=25, savings_ratio=88.00%\n",
      "initials=FIC, name_letters=26, savings_ratio=88.46%\n",
      "initials=NCATS, name_letters=47, savings_ratio=89.36%\n",
      "initials=NCCIH, name_letters=50, savings_ratio=90.00%\n",
      "initials=CC, name_letters=17, savings_ratio=88.24%\n"
     ]
    }
   ],
   "source": [
    "for ic in ics:\n",
    "    name = ic.split('(')[0]\n",
    "    initials = pull_initials(ic)\n",
    "    name_letters = len(name.replace(' ', ''))\n",
    "    letter_savings = name_letters - len(initials)\n",
    "    savings_ratio = letter_savings / name_letters\n",
    "    print(f'{initials=!s}, {name_letters=}, {savings_ratio=:0.2%}')"
   ]
  },
  {
   "cell_type": "code",
   "execution_count": 54,
   "metadata": {},
   "outputs": [
    {
     "name": "stdout",
     "output_type": "stream",
     "text": [
      "initials=NCI, name_letters=23, (letter_savings / name_letters)=86.96%\n",
      "initials=NEI, name_letters=20, (letter_savings / name_letters)=85.00%\n",
      "initials=NHLBI, name_letters=36, (letter_savings / name_letters)=86.11%\n",
      "initials=NHGRI, name_letters=36, (letter_savings / name_letters)=86.11%\n",
      "initials=NIA, name_letters=24, (letter_savings / name_letters)=87.50%\n",
      "initials=NIAAA, name_letters=44, (letter_savings / name_letters)=88.64%\n",
      "initials=NIAID, name_letters=47, (letter_savings / name_letters)=89.36%\n",
      "initials=NIAMS, name_letters=61, (letter_savings / name_letters)=91.80%\n",
      "initials=NIBIB, name_letters=53, (letter_savings / name_letters)=90.57%\n",
      "initials=NICHD, name_letters=69, (letter_savings / name_letters)=92.75%\n",
      "initials=NIDCD, name_letters=57, (letter_savings / name_letters)=91.23%\n",
      "initials=NIDCR, name_letters=48, (letter_savings / name_letters)=89.58%\n",
      "initials=NIDDK, name_letters=56, (letter_savings / name_letters)=91.07%\n",
      "initials=NIDA, name_letters=28, (letter_savings / name_letters)=85.71%\n",
      "initials=NIEHS, name_letters=46, (letter_savings / name_letters)=89.13%\n",
      "initials=NIGMS, name_letters=41, (letter_savings / name_letters)=87.80%\n",
      "initials=NIMH, name_letters=31, (letter_savings / name_letters)=87.10%\n",
      "initials=NIMHD, name_letters=53, (letter_savings / name_letters)=90.57%\n",
      "initials=NINDS, name_letters=49, (letter_savings / name_letters)=89.80%\n",
      "initials=NINR, name_letters=34, (letter_savings / name_letters)=88.24%\n",
      "initials=NLM, name_letters=25, (letter_savings / name_letters)=88.00%\n",
      "initials=CIT, name_letters=30, (letter_savings / name_letters)=90.00%\n",
      "initials=CSR, name_letters=25, (letter_savings / name_letters)=88.00%\n",
      "initials=FIC, name_letters=26, (letter_savings / name_letters)=88.46%\n",
      "initials=NCATS, name_letters=47, (letter_savings / name_letters)=89.36%\n",
      "initials=NCCIH, name_letters=50, (letter_savings / name_letters)=90.00%\n",
      "initials=CC, name_letters=17, (letter_savings / name_letters)=88.24%\n"
     ]
    }
   ],
   "source": [
    "for ic in ics:\n",
    "    name = ic.split('(')[0]\n",
    "    initials = pull_initials(ic)\n",
    "    name_letters = len(name.replace(' ', ''))\n",
    "    letter_savings = name_letters - len(initials)\n",
    "    savings_ratio = letter_savings / name_letters\n",
    "    print(f'{initials=!s}, {name_letters=}, {(letter_savings / name_letters)=:0.2%}')"
   ]
  },
  {
   "cell_type": "markdown",
   "metadata": {},
   "source": [
    "# Dict comprehension evaluation order changed\n",
    "Now the value is guaranteed to be calculated before the value, so you can do this:"
   ]
  },
  {
   "cell_type": "code",
   "execution_count": 62,
   "metadata": {
    "scrolled": true
   },
   "outputs": [
    {
     "name": "stdout",
     "output_type": "stream",
     "text": [
      "name='NCI', length=3\n",
      "name='NEI', length=3\n",
      "name='NHLBI', length=5\n",
      "name='NHGRI', length=5\n",
      "name='NIA', length=3\n",
      "name='NIAAA', length=5\n",
      "name='NIAID', length=5\n",
      "name='NIAMS', length=5\n",
      "name='NIBIB', length=5\n",
      "name='NICHD', length=5\n",
      "name='NIDCD', length=5\n",
      "name='NIDCR', length=5\n",
      "name='NIDDK', length=5\n",
      "name='NIDA', length=4\n",
      "name='NIEHS', length=5\n",
      "name='NIGMS', length=5\n",
      "name='NIMH', length=4\n",
      "name='NIMHD', length=5\n",
      "name='NINDS', length=5\n",
      "name='NINR', length=4\n",
      "name='NLM', length=3\n",
      "name='CIT', length=3\n",
      "name='CSR', length=3\n",
      "name='FIC', length=3\n",
      "name='NCATS', length=5\n",
      "name='NCCIH', length=5\n",
      "name='CC', length=2\n"
     ]
    }
   ],
   "source": [
    "init_lens = {(inits:=pull_initials(ic)) : len(inits) for ic in ics}\n",
    "for name,length in init_lens.items():\n",
    "    print(f'{name=}, {length=}')"
   ]
  },
  {
   "cell_type": "markdown",
   "metadata": {},
   "source": [
    "# Dicitonary reverse method"
   ]
  },
  {
   "cell_type": "code",
   "execution_count": 65,
   "metadata": {},
   "outputs": [
    {
     "ename": "TypeError",
     "evalue": "unhashable type: 'slice'",
     "output_type": "error",
     "traceback": [
      "\u001b[0;31m---------------------------------------------------------------------------\u001b[0m",
      "\u001b[0;31mTypeError\u001b[0m                                 Traceback (most recent call last)",
      "\u001b[0;32m<ipython-input-65-b904437d0268>\u001b[0m in \u001b[0;36m<module>\u001b[0;34m\u001b[0m\n\u001b[0;32m----> 1\u001b[0;31m \u001b[0;32mfor\u001b[0m \u001b[0mname\u001b[0m\u001b[0;34m,\u001b[0m\u001b[0mlength\u001b[0m \u001b[0;32min\u001b[0m \u001b[0minit_lens\u001b[0m\u001b[0;34m[\u001b[0m\u001b[0;34m:\u001b[0m\u001b[0;34m:\u001b[0m\u001b[0;34m-\u001b[0m\u001b[0;36m1\u001b[0m\u001b[0;34m]\u001b[0m\u001b[0;34m.\u001b[0m\u001b[0mitems\u001b[0m\u001b[0;34m(\u001b[0m\u001b[0;34m)\u001b[0m\u001b[0;34m:\u001b[0m\u001b[0;34m\u001b[0m\u001b[0;34m\u001b[0m\u001b[0m\n\u001b[0m\u001b[1;32m      2\u001b[0m     \u001b[0mprint\u001b[0m\u001b[0;34m(\u001b[0m\u001b[0;34mf'{name=}, {length=}'\u001b[0m\u001b[0;34m)\u001b[0m\u001b[0;34m\u001b[0m\u001b[0;34m\u001b[0m\u001b[0m\n",
      "\u001b[0;31mTypeError\u001b[0m: unhashable type: 'slice'"
     ]
    }
   ],
   "source": [
    "for name,length in init_lens[::-1].items():\n",
    "    print(f'{name=}, {length=}')"
   ]
  },
  {
   "cell_type": "code",
   "execution_count": 64,
   "metadata": {},
   "outputs": [
    {
     "ename": "TypeError",
     "evalue": "'dict_items' object is not subscriptable",
     "output_type": "error",
     "traceback": [
      "\u001b[0;31m---------------------------------------------------------------------------\u001b[0m",
      "\u001b[0;31mTypeError\u001b[0m                                 Traceback (most recent call last)",
      "\u001b[0;32m<ipython-input-64-34ce779af873>\u001b[0m in \u001b[0;36m<module>\u001b[0;34m\u001b[0m\n\u001b[0;32m----> 1\u001b[0;31m \u001b[0;32mfor\u001b[0m \u001b[0mname\u001b[0m\u001b[0;34m,\u001b[0m\u001b[0mlength\u001b[0m \u001b[0;32min\u001b[0m \u001b[0minit_lens\u001b[0m\u001b[0;34m.\u001b[0m\u001b[0mitems\u001b[0m\u001b[0;34m(\u001b[0m\u001b[0;34m)\u001b[0m\u001b[0;34m[\u001b[0m\u001b[0;34m:\u001b[0m\u001b[0;34m:\u001b[0m\u001b[0;34m-\u001b[0m\u001b[0;36m1\u001b[0m\u001b[0;34m]\u001b[0m\u001b[0;34m:\u001b[0m\u001b[0;34m\u001b[0m\u001b[0;34m\u001b[0m\u001b[0m\n\u001b[0m\u001b[1;32m      2\u001b[0m     \u001b[0mprint\u001b[0m\u001b[0;34m(\u001b[0m\u001b[0;34mf'{name=}, {length=}'\u001b[0m\u001b[0;34m)\u001b[0m\u001b[0;34m\u001b[0m\u001b[0;34m\u001b[0m\u001b[0m\n",
      "\u001b[0;31mTypeError\u001b[0m: 'dict_items' object is not subscriptable"
     ]
    }
   ],
   "source": [
    "for name,length in init_lens.items()[::-1]:\n",
    "    print(f'{name=}, {length=}')"
   ]
  },
  {
   "cell_type": "code",
   "execution_count": 67,
   "metadata": {},
   "outputs": [
    {
     "name": "stdout",
     "output_type": "stream",
     "text": [
      "name='CC', length=2\n",
      "name='NCCIH', length=5\n",
      "name='NCATS', length=5\n",
      "name='FIC', length=3\n",
      "name='CSR', length=3\n",
      "name='CIT', length=3\n",
      "name='NLM', length=3\n",
      "name='NINR', length=4\n",
      "name='NINDS', length=5\n",
      "name='NIMHD', length=5\n",
      "name='NIMH', length=4\n",
      "name='NIGMS', length=5\n",
      "name='NIEHS', length=5\n",
      "name='NIDA', length=4\n",
      "name='NIDDK', length=5\n",
      "name='NIDCR', length=5\n",
      "name='NIDCD', length=5\n",
      "name='NICHD', length=5\n",
      "name='NIBIB', length=5\n",
      "name='NIAMS', length=5\n",
      "name='NIAID', length=5\n",
      "name='NIAAA', length=5\n",
      "name='NIA', length=3\n",
      "name='NHGRI', length=5\n",
      "name='NHLBI', length=5\n",
      "name='NEI', length=3\n",
      "name='NCI', length=3\n"
     ]
    }
   ],
   "source": [
    "for name,length in reversed(init_lens.items()):\n",
    "    print(f'{name=}, {length=}')"
   ]
  },
  {
   "cell_type": "code",
   "execution_count": 89,
   "metadata": {},
   "outputs": [
    {
     "data": {
      "text/plain": [
       "[3, 2, 1]"
      ]
     },
     "execution_count": 89,
     "metadata": {},
     "output_type": "execute_result"
    }
   ],
   "source": [
    "list(reversed(np.array([1,2,3])))"
   ]
  },
  {
   "cell_type": "code",
   "execution_count": null,
   "metadata": {},
   "outputs": [],
   "source": []
  }
 ],
 "metadata": {
  "kernelspec": {
   "display_name": "Python 3",
   "language": "python",
   "name": "python3"
  },
  "language_info": {
   "codemirror_mode": {
    "name": "ipython",
    "version": 3
   },
   "file_extension": ".py",
   "mimetype": "text/x-python",
   "name": "python",
   "nbconvert_exporter": "python",
   "pygments_lexer": "ipython3",
   "version": "3.8.1"
  }
 },
 "nbformat": 4,
 "nbformat_minor": 4
}
