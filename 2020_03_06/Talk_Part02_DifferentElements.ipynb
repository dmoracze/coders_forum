{
 "cells": [
  {
   "cell_type": "code",
   "execution_count": null,
   "metadata": {},
   "outputs": [],
   "source": [
    "import holoviews as hv\n",
    "import hvplot.pandas\n",
    "import pandas as pd\n",
    "import xarray as xr\n",
    "import numpy as np\n",
    "import os.path as  osp\n",
    "import glob\n",
    "import param\n",
    "hv.extension('bokeh')"
   ]
  },
  {
   "cell_type": "markdown",
   "metadata": {},
   "source": [
    "### Load TS from a set of ROIs"
   ]
  },
  {
   "cell_type": "code",
   "execution_count": null,
   "metadata": {},
   "outputs": [],
   "source": [
    "DF = pd.DataFrame()\n",
    "data_path = osp.join('/data','ROI_TS')\n",
    "roi = 1\n",
    "for icn in range(1,17):\n",
    "    ts_files  = glob.glob(data_path+'/*.ICN'+str(icn).zfill(3)+'*.1D')\n",
    "    for file in ts_files:\n",
    "        ts = np.loadtxt(file)\n",
    "        DF['ROI'+str(roi).zfill(3)] = ts\n",
    "        roi = roi + 1"
   ]
  },
  {
   "cell_type": "code",
   "execution_count": null,
   "metadata": {},
   "outputs": [],
   "source": [
    "TR    = 2\n",
    "NAcq  = DF.shape[0]\n",
    "NROIs = DF.shape[1]\n",
    "time = np.linspace(0, TR*NAcq, NAcq)\n",
    "DF['Time'] = time\n",
    "DF.head()"
   ]
  },
  {
   "cell_type": "code",
   "execution_count": null,
   "metadata": {},
   "outputs": [],
   "source": [
    "DF.hvplot(y=['ROI010','ROI020','ROI100'], x='Time').opts(width=1000, legend_position='top_left')"
   ]
  },
  {
   "cell_type": "markdown",
   "metadata": {},
   "source": [
    "### Use Element (Dynamic Map) to easily explore all time series\n",
    "A DynamicMap is an explorable multi-dimensional wrapper around a callable that returns HoloViews objects."
   ]
  },
  {
   "cell_type": "code",
   "execution_count": null,
   "metadata": {},
   "outputs": [],
   "source": [
    "def selected_ts(roi):\n",
    "    roi = int(roi)\n",
    "    ROI_ID = 'ROI'+str(roi).zfill(3)\n",
    "    return DF.hvplot(y=[ROI_ID],x='Time', title=ROI_ID)\n",
    "dmap = hv.DynamicMap(selected_ts, kdims=['roi'])\n",
    "dmap.redim.range(roi=(1,NROIs))"
   ]
  },
  {
   "cell_type": "markdown",
   "metadata": {},
   "source": [
    "### Draw an Interactive Correlation Matrix with HeatMap Object"
   ]
  },
  {
   "cell_type": "code",
   "execution_count": null,
   "metadata": {},
   "outputs": [],
   "source": [
    "CMatrix = DF.drop(['Time'], axis=1).corr()"
   ]
  },
  {
   "cell_type": "code",
   "execution_count": null,
   "metadata": {},
   "outputs": [],
   "source": [
    "CMatrix.head()"
   ]
  },
  {
   "cell_type": "code",
   "execution_count": null,
   "metadata": {},
   "outputs": [],
   "source": [
    "CMatrix.hvplot(kind='heatmap').opts(width=700, height=700, xrotation=45, cmap='RdBu_r', clim=(-1,1))"
   ]
  },
  {
   "cell_type": "markdown",
   "metadata": {},
   "source": [
    "### Linking Different Elements"
   ]
  },
  {
   "cell_type": "code",
   "execution_count": null,
   "metadata": {},
   "outputs": [],
   "source": [
    "hv_matrix  = CMatrix.hvplot(kind='heatmap').opts(width=500, height=500, xrotation=45, cmap='RdBu_r', clim=(-1,1))\n",
    "posxy      = hv.streams.Tap(source=hv_matrix, x='ROI001',y='ROI002')\n",
    "def tap_timeseries(x,y):\n",
    "    return DF.hvplot(y=[x,y], x='Time', cmap=['red','blue']).opts(width=1000, legend_position='top_left')"
   ]
  },
  {
   "cell_type": "code",
   "execution_count": null,
   "metadata": {},
   "outputs": [],
   "source": [
    "hv_matrix + hv.DynamicMap(tap_timeseries, kdims=[],streams=[posxy])"
   ]
  }
 ],
 "metadata": {
  "kernelspec": {
   "display_name": "Python 3",
   "language": "python",
   "name": "python3"
  },
  "language_info": {
   "codemirror_mode": {
    "name": "ipython",
    "version": 3
   },
   "file_extension": ".py",
   "mimetype": "text/x-python",
   "name": "python",
   "nbconvert_exporter": "python",
   "pygments_lexer": "ipython3",
   "version": "3.7.6"
  }
 },
 "nbformat": 4,
 "nbformat_minor": 4
}
