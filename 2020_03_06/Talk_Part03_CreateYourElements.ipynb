{
 "cells": [
  {
   "cell_type": "markdown",
   "metadata": {},
   "source": [
    "### Create your own element, in this case a radar plot\n",
    "This example is based on code from https://stackoverflow.com/questions/46564099/what-are-the-steps-to-create-a-radar-chart-in-bokeh-python\n",
    "<img src='./radar_plot.png'>"
   ]
  },
  {
   "cell_type": "code",
   "execution_count": 14,
   "metadata": {},
   "outputs": [
    {
     "data": {
      "text/html": [
       "\n",
       "    <div class=\"bk-root\">\n",
       "        <a href=\"https://bokeh.org\" target=\"_blank\" class=\"bk-logo bk-logo-small bk-logo-notebook\"></a>\n",
       "        <span id=\"3129\">Loading BokehJS ...</span>\n",
       "    </div>"
      ]
     },
     "metadata": {},
     "output_type": "display_data"
    },
    {
     "data": {
      "application/javascript": [
       "\n",
       "(function(root) {\n",
       "  function now() {\n",
       "    return new Date();\n",
       "  }\n",
       "\n",
       "  var force = true;\n",
       "\n",
       "  if (typeof root._bokeh_onload_callbacks === \"undefined\" || force === true) {\n",
       "    root._bokeh_onload_callbacks = [];\n",
       "    root._bokeh_is_loading = undefined;\n",
       "  }\n",
       "\n",
       "  var JS_MIME_TYPE = 'application/javascript';\n",
       "  var HTML_MIME_TYPE = 'text/html';\n",
       "  var EXEC_MIME_TYPE = 'application/vnd.bokehjs_exec.v0+json';\n",
       "  var CLASS_NAME = 'output_bokeh rendered_html';\n",
       "\n",
       "  /**\n",
       "   * Render data to the DOM node\n",
       "   */\n",
       "  function render(props, node) {\n",
       "    var script = document.createElement(\"script\");\n",
       "    node.appendChild(script);\n",
       "  }\n",
       "\n",
       "  /**\n",
       "   * Handle when an output is cleared or removed\n",
       "   */\n",
       "  function handleClearOutput(event, handle) {\n",
       "    var cell = handle.cell;\n",
       "\n",
       "    var id = cell.output_area._bokeh_element_id;\n",
       "    var server_id = cell.output_area._bokeh_server_id;\n",
       "    // Clean up Bokeh references\n",
       "    if (id != null && id in Bokeh.index) {\n",
       "      Bokeh.index[id].model.document.clear();\n",
       "      delete Bokeh.index[id];\n",
       "    }\n",
       "\n",
       "    if (server_id !== undefined) {\n",
       "      // Clean up Bokeh references\n",
       "      var cmd = \"from bokeh.io.state import curstate; print(curstate().uuid_to_server['\" + server_id + \"'].get_sessions()[0].document.roots[0]._id)\";\n",
       "      cell.notebook.kernel.execute(cmd, {\n",
       "        iopub: {\n",
       "          output: function(msg) {\n",
       "            var id = msg.content.text.trim();\n",
       "            if (id in Bokeh.index) {\n",
       "              Bokeh.index[id].model.document.clear();\n",
       "              delete Bokeh.index[id];\n",
       "            }\n",
       "          }\n",
       "        }\n",
       "      });\n",
       "      // Destroy server and session\n",
       "      var cmd = \"import bokeh.io.notebook as ion; ion.destroy_server('\" + server_id + \"')\";\n",
       "      cell.notebook.kernel.execute(cmd);\n",
       "    }\n",
       "  }\n",
       "\n",
       "  /**\n",
       "   * Handle when a new output is added\n",
       "   */\n",
       "  function handleAddOutput(event, handle) {\n",
       "    var output_area = handle.output_area;\n",
       "    var output = handle.output;\n",
       "\n",
       "    // limit handleAddOutput to display_data with EXEC_MIME_TYPE content only\n",
       "    if ((output.output_type != \"display_data\") || (!output.data.hasOwnProperty(EXEC_MIME_TYPE))) {\n",
       "      return\n",
       "    }\n",
       "\n",
       "    var toinsert = output_area.element.find(\".\" + CLASS_NAME.split(' ')[0]);\n",
       "\n",
       "    if (output.metadata[EXEC_MIME_TYPE][\"id\"] !== undefined) {\n",
       "      toinsert[toinsert.length - 1].firstChild.textContent = output.data[JS_MIME_TYPE];\n",
       "      // store reference to embed id on output_area\n",
       "      output_area._bokeh_element_id = output.metadata[EXEC_MIME_TYPE][\"id\"];\n",
       "    }\n",
       "    if (output.metadata[EXEC_MIME_TYPE][\"server_id\"] !== undefined) {\n",
       "      var bk_div = document.createElement(\"div\");\n",
       "      bk_div.innerHTML = output.data[HTML_MIME_TYPE];\n",
       "      var script_attrs = bk_div.children[0].attributes;\n",
       "      for (var i = 0; i < script_attrs.length; i++) {\n",
       "        toinsert[toinsert.length - 1].firstChild.setAttribute(script_attrs[i].name, script_attrs[i].value);\n",
       "      }\n",
       "      // store reference to server id on output_area\n",
       "      output_area._bokeh_server_id = output.metadata[EXEC_MIME_TYPE][\"server_id\"];\n",
       "    }\n",
       "  }\n",
       "\n",
       "  function register_renderer(events, OutputArea) {\n",
       "\n",
       "    function append_mime(data, metadata, element) {\n",
       "      // create a DOM node to render to\n",
       "      var toinsert = this.create_output_subarea(\n",
       "        metadata,\n",
       "        CLASS_NAME,\n",
       "        EXEC_MIME_TYPE\n",
       "      );\n",
       "      this.keyboard_manager.register_events(toinsert);\n",
       "      // Render to node\n",
       "      var props = {data: data, metadata: metadata[EXEC_MIME_TYPE]};\n",
       "      render(props, toinsert[toinsert.length - 1]);\n",
       "      element.append(toinsert);\n",
       "      return toinsert\n",
       "    }\n",
       "\n",
       "    /* Handle when an output is cleared or removed */\n",
       "    events.on('clear_output.CodeCell', handleClearOutput);\n",
       "    events.on('delete.Cell', handleClearOutput);\n",
       "\n",
       "    /* Handle when a new output is added */\n",
       "    events.on('output_added.OutputArea', handleAddOutput);\n",
       "\n",
       "    /**\n",
       "     * Register the mime type and append_mime function with output_area\n",
       "     */\n",
       "    OutputArea.prototype.register_mime_type(EXEC_MIME_TYPE, append_mime, {\n",
       "      /* Is output safe? */\n",
       "      safe: true,\n",
       "      /* Index of renderer in `output_area.display_order` */\n",
       "      index: 0\n",
       "    });\n",
       "  }\n",
       "\n",
       "  // register the mime type if in Jupyter Notebook environment and previously unregistered\n",
       "  if (root.Jupyter !== undefined) {\n",
       "    var events = require('base/js/events');\n",
       "    var OutputArea = require('notebook/js/outputarea').OutputArea;\n",
       "\n",
       "    if (OutputArea.prototype.mime_types().indexOf(EXEC_MIME_TYPE) == -1) {\n",
       "      register_renderer(events, OutputArea);\n",
       "    }\n",
       "  }\n",
       "\n",
       "  \n",
       "  if (typeof (root._bokeh_timeout) === \"undefined\" || force === true) {\n",
       "    root._bokeh_timeout = Date.now() + 5000;\n",
       "    root._bokeh_failed_load = false;\n",
       "  }\n",
       "\n",
       "  var NB_LOAD_WARNING = {'data': {'text/html':\n",
       "     \"<div style='background-color: #fdd'>\\n\"+\n",
       "     \"<p>\\n\"+\n",
       "     \"BokehJS does not appear to have successfully loaded. If loading BokehJS from CDN, this \\n\"+\n",
       "     \"may be due to a slow or bad network connection. Possible fixes:\\n\"+\n",
       "     \"</p>\\n\"+\n",
       "     \"<ul>\\n\"+\n",
       "     \"<li>re-rerun `output_notebook()` to attempt to load from CDN again, or</li>\\n\"+\n",
       "     \"<li>use INLINE resources instead, as so:</li>\\n\"+\n",
       "     \"</ul>\\n\"+\n",
       "     \"<code>\\n\"+\n",
       "     \"from bokeh.resources import INLINE\\n\"+\n",
       "     \"output_notebook(resources=INLINE)\\n\"+\n",
       "     \"</code>\\n\"+\n",
       "     \"</div>\"}};\n",
       "\n",
       "  function display_loaded() {\n",
       "    var el = document.getElementById(\"3129\");\n",
       "    if (el != null) {\n",
       "      el.textContent = \"BokehJS is loading...\";\n",
       "    }\n",
       "    if (root.Bokeh !== undefined) {\n",
       "      if (el != null) {\n",
       "        el.textContent = \"BokehJS \" + root.Bokeh.version + \" successfully loaded.\";\n",
       "      }\n",
       "    } else if (Date.now() < root._bokeh_timeout) {\n",
       "      setTimeout(display_loaded, 100)\n",
       "    }\n",
       "  }\n",
       "\n",
       "\n",
       "  function run_callbacks() {\n",
       "    try {\n",
       "      root._bokeh_onload_callbacks.forEach(function(callback) {\n",
       "        if (callback != null)\n",
       "          callback();\n",
       "      });\n",
       "    } finally {\n",
       "      delete root._bokeh_onload_callbacks\n",
       "    }\n",
       "    console.debug(\"Bokeh: all callbacks have finished\");\n",
       "  }\n",
       "\n",
       "  function load_libs(css_urls, js_urls, callback) {\n",
       "    if (css_urls == null) css_urls = [];\n",
       "    if (js_urls == null) js_urls = [];\n",
       "\n",
       "    root._bokeh_onload_callbacks.push(callback);\n",
       "    if (root._bokeh_is_loading > 0) {\n",
       "      console.debug(\"Bokeh: BokehJS is being loaded, scheduling callback at\", now());\n",
       "      return null;\n",
       "    }\n",
       "    if (js_urls == null || js_urls.length === 0) {\n",
       "      run_callbacks();\n",
       "      return null;\n",
       "    }\n",
       "    console.debug(\"Bokeh: BokehJS not loaded, scheduling load and callback at\", now());\n",
       "    root._bokeh_is_loading = css_urls.length + js_urls.length;\n",
       "\n",
       "    function on_load() {\n",
       "      root._bokeh_is_loading--;\n",
       "      if (root._bokeh_is_loading === 0) {\n",
       "        console.debug(\"Bokeh: all BokehJS libraries/stylesheets loaded\");\n",
       "        run_callbacks()\n",
       "      }\n",
       "    }\n",
       "\n",
       "    function on_error() {\n",
       "      console.error(\"failed to load \" + url);\n",
       "    }\n",
       "\n",
       "    for (var i = 0; i < css_urls.length; i++) {\n",
       "      var url = css_urls[i];\n",
       "      const element = document.createElement(\"link\");\n",
       "      element.onload = on_load;\n",
       "      element.onerror = on_error;\n",
       "      element.rel = \"stylesheet\";\n",
       "      element.type = \"text/css\";\n",
       "      element.href = url;\n",
       "      console.debug(\"Bokeh: injecting link tag for BokehJS stylesheet: \", url);\n",
       "      document.body.appendChild(element);\n",
       "    }\n",
       "\n",
       "    for (var i = 0; i < js_urls.length; i++) {\n",
       "      var url = js_urls[i];\n",
       "      var element = document.createElement('script');\n",
       "      element.onload = on_load;\n",
       "      element.onerror = on_error;\n",
       "      element.async = false;\n",
       "      element.src = url;\n",
       "      console.debug(\"Bokeh: injecting script tag for BokehJS library: \", url);\n",
       "      document.head.appendChild(element);\n",
       "    }\n",
       "  };var element = document.getElementById(\"3129\");\n",
       "  if (element == null) {\n",
       "    console.error(\"Bokeh: ERROR: autoload.js configured with elementid '3129' but no matching script tag was found. \")\n",
       "    return false;\n",
       "  }\n",
       "\n",
       "  function inject_raw_css(css) {\n",
       "    const element = document.createElement(\"style\");\n",
       "    element.appendChild(document.createTextNode(css));\n",
       "    document.body.appendChild(element);\n",
       "  }\n",
       "\n",
       "  \n",
       "  var js_urls = [\"https://cdn.pydata.org/bokeh/release/bokeh-1.4.0.min.js\", \"https://cdn.pydata.org/bokeh/release/bokeh-widgets-1.4.0.min.js\", \"https://cdn.pydata.org/bokeh/release/bokeh-tables-1.4.0.min.js\", \"https://cdn.pydata.org/bokeh/release/bokeh-gl-1.4.0.min.js\"];\n",
       "  var css_urls = [];\n",
       "  \n",
       "\n",
       "  var inline_js = [\n",
       "    function(Bokeh) {\n",
       "      Bokeh.set_log_level(\"info\");\n",
       "    },\n",
       "    function(Bokeh) {\n",
       "    \n",
       "    \n",
       "    }\n",
       "  ];\n",
       "\n",
       "  function run_inline_js() {\n",
       "    \n",
       "    if (root.Bokeh !== undefined || force === true) {\n",
       "      \n",
       "    for (var i = 0; i < inline_js.length; i++) {\n",
       "      inline_js[i].call(root, root.Bokeh);\n",
       "    }\n",
       "    if (force === true) {\n",
       "        display_loaded();\n",
       "      }} else if (Date.now() < root._bokeh_timeout) {\n",
       "      setTimeout(run_inline_js, 100);\n",
       "    } else if (!root._bokeh_failed_load) {\n",
       "      console.log(\"Bokeh: BokehJS failed to load within specified timeout.\");\n",
       "      root._bokeh_failed_load = true;\n",
       "    } else if (force !== true) {\n",
       "      var cell = $(document.getElementById(\"3129\")).parents('.cell').data().cell;\n",
       "      cell.output_area.append_execute_result(NB_LOAD_WARNING)\n",
       "    }\n",
       "\n",
       "  }\n",
       "\n",
       "  if (root._bokeh_is_loading === 0) {\n",
       "    console.debug(\"Bokeh: BokehJS loaded, going straight to plotting\");\n",
       "    run_inline_js();\n",
       "  } else {\n",
       "    load_libs(css_urls, js_urls, function() {\n",
       "      console.debug(\"Bokeh: BokehJS plotting callback run at\", now());\n",
       "      run_inline_js();\n",
       "    });\n",
       "  }\n",
       "}(window));"
      ],
      "application/vnd.bokehjs_load.v0+json": "\n(function(root) {\n  function now() {\n    return new Date();\n  }\n\n  var force = true;\n\n  if (typeof root._bokeh_onload_callbacks === \"undefined\" || force === true) {\n    root._bokeh_onload_callbacks = [];\n    root._bokeh_is_loading = undefined;\n  }\n\n  \n\n  \n  if (typeof (root._bokeh_timeout) === \"undefined\" || force === true) {\n    root._bokeh_timeout = Date.now() + 5000;\n    root._bokeh_failed_load = false;\n  }\n\n  var NB_LOAD_WARNING = {'data': {'text/html':\n     \"<div style='background-color: #fdd'>\\n\"+\n     \"<p>\\n\"+\n     \"BokehJS does not appear to have successfully loaded. If loading BokehJS from CDN, this \\n\"+\n     \"may be due to a slow or bad network connection. Possible fixes:\\n\"+\n     \"</p>\\n\"+\n     \"<ul>\\n\"+\n     \"<li>re-rerun `output_notebook()` to attempt to load from CDN again, or</li>\\n\"+\n     \"<li>use INLINE resources instead, as so:</li>\\n\"+\n     \"</ul>\\n\"+\n     \"<code>\\n\"+\n     \"from bokeh.resources import INLINE\\n\"+\n     \"output_notebook(resources=INLINE)\\n\"+\n     \"</code>\\n\"+\n     \"</div>\"}};\n\n  function display_loaded() {\n    var el = document.getElementById(\"3129\");\n    if (el != null) {\n      el.textContent = \"BokehJS is loading...\";\n    }\n    if (root.Bokeh !== undefined) {\n      if (el != null) {\n        el.textContent = \"BokehJS \" + root.Bokeh.version + \" successfully loaded.\";\n      }\n    } else if (Date.now() < root._bokeh_timeout) {\n      setTimeout(display_loaded, 100)\n    }\n  }\n\n\n  function run_callbacks() {\n    try {\n      root._bokeh_onload_callbacks.forEach(function(callback) {\n        if (callback != null)\n          callback();\n      });\n    } finally {\n      delete root._bokeh_onload_callbacks\n    }\n    console.debug(\"Bokeh: all callbacks have finished\");\n  }\n\n  function load_libs(css_urls, js_urls, callback) {\n    if (css_urls == null) css_urls = [];\n    if (js_urls == null) js_urls = [];\n\n    root._bokeh_onload_callbacks.push(callback);\n    if (root._bokeh_is_loading > 0) {\n      console.debug(\"Bokeh: BokehJS is being loaded, scheduling callback at\", now());\n      return null;\n    }\n    if (js_urls == null || js_urls.length === 0) {\n      run_callbacks();\n      return null;\n    }\n    console.debug(\"Bokeh: BokehJS not loaded, scheduling load and callback at\", now());\n    root._bokeh_is_loading = css_urls.length + js_urls.length;\n\n    function on_load() {\n      root._bokeh_is_loading--;\n      if (root._bokeh_is_loading === 0) {\n        console.debug(\"Bokeh: all BokehJS libraries/stylesheets loaded\");\n        run_callbacks()\n      }\n    }\n\n    function on_error() {\n      console.error(\"failed to load \" + url);\n    }\n\n    for (var i = 0; i < css_urls.length; i++) {\n      var url = css_urls[i];\n      const element = document.createElement(\"link\");\n      element.onload = on_load;\n      element.onerror = on_error;\n      element.rel = \"stylesheet\";\n      element.type = \"text/css\";\n      element.href = url;\n      console.debug(\"Bokeh: injecting link tag for BokehJS stylesheet: \", url);\n      document.body.appendChild(element);\n    }\n\n    for (var i = 0; i < js_urls.length; i++) {\n      var url = js_urls[i];\n      var element = document.createElement('script');\n      element.onload = on_load;\n      element.onerror = on_error;\n      element.async = false;\n      element.src = url;\n      console.debug(\"Bokeh: injecting script tag for BokehJS library: \", url);\n      document.head.appendChild(element);\n    }\n  };var element = document.getElementById(\"3129\");\n  if (element == null) {\n    console.error(\"Bokeh: ERROR: autoload.js configured with elementid '3129' but no matching script tag was found. \")\n    return false;\n  }\n\n  function inject_raw_css(css) {\n    const element = document.createElement(\"style\");\n    element.appendChild(document.createTextNode(css));\n    document.body.appendChild(element);\n  }\n\n  \n  var js_urls = [\"https://cdn.pydata.org/bokeh/release/bokeh-1.4.0.min.js\", \"https://cdn.pydata.org/bokeh/release/bokeh-widgets-1.4.0.min.js\", \"https://cdn.pydata.org/bokeh/release/bokeh-tables-1.4.0.min.js\", \"https://cdn.pydata.org/bokeh/release/bokeh-gl-1.4.0.min.js\"];\n  var css_urls = [];\n  \n\n  var inline_js = [\n    function(Bokeh) {\n      Bokeh.set_log_level(\"info\");\n    },\n    function(Bokeh) {\n    \n    \n    }\n  ];\n\n  function run_inline_js() {\n    \n    if (root.Bokeh !== undefined || force === true) {\n      \n    for (var i = 0; i < inline_js.length; i++) {\n      inline_js[i].call(root, root.Bokeh);\n    }\n    if (force === true) {\n        display_loaded();\n      }} else if (Date.now() < root._bokeh_timeout) {\n      setTimeout(run_inline_js, 100);\n    } else if (!root._bokeh_failed_load) {\n      console.log(\"Bokeh: BokehJS failed to load within specified timeout.\");\n      root._bokeh_failed_load = true;\n    } else if (force !== true) {\n      var cell = $(document.getElementById(\"3129\")).parents('.cell').data().cell;\n      cell.output_area.append_execute_result(NB_LOAD_WARNING)\n    }\n\n  }\n\n  if (root._bokeh_is_loading === 0) {\n    console.debug(\"Bokeh: BokehJS loaded, going straight to plotting\");\n    run_inline_js();\n  } else {\n    load_libs(css_urls, js_urls, function() {\n      console.debug(\"Bokeh: BokehJS plotting callback run at\", now());\n      run_inline_js();\n    });\n  }\n}(window));"
     },
     "metadata": {},
     "output_type": "display_data"
    }
   ],
   "source": [
    "import numpy as np\n",
    "from bokeh.plotting import figure, output_notebook, show\n",
    "from bokeh.models   import ColumnDataSource, LabelSet, HoverTool\n",
    "output_notebook()"
   ]
  },
  {
   "cell_type": "markdown",
   "metadata": {},
   "source": [
    "### 1. Data for one particular plot"
   ]
  },
  {
   "cell_type": "code",
   "execution_count": 15,
   "metadata": {},
   "outputs": [],
   "source": [
    "values     = [.5, 1, .8, .3, .8, .8, .8, .9]\n",
    "dimensions = ['Dim 1','Dim 2','Dim 3','Dim 4','Dim 5','Dim 6','Dim 7','Dim 8']\n",
    "dim_descr  = {'Dim 1': 'What was the modality of the task',\n",
    "              'Dim 2': 'Was was the difficulty of the task',\n",
    "              'Dim 3': 'What was the valence of the task',\n",
    "              'Dim 4': 'How interesting was the task',\n",
    "              'Dim 5': 'Was the task too repetitive',\n",
    "              'Dim 6': 'Would you change the timing of the task',\n",
    "              'Dim 7': 'Would you recommend the task to your colleagues?',\n",
    "              'Dim 8': 'Were you aware of body motion associated with the task'}\n",
    "responses  = ['Visual', 'Very difficult', 'Very positive', 'Extremely Interesting', 'Stongly Agree', 'Strongly Disagree', 'Strongly Agree','Yes']"
   ]
  },
  {
   "cell_type": "markdown",
   "metadata": {},
   "source": [
    "### 2. Create Figure and Draw Outer Circle"
   ]
  },
  {
   "cell_type": "code",
   "execution_count": 16,
   "metadata": {},
   "outputs": [
    {
     "data": {
      "text/html": [
       "\n",
       "\n",
       "\n",
       "\n",
       "\n",
       "\n",
       "  <div class=\"bk-root\" id=\"15f8d20f-47b4-40e2-80c1-1b56bb819bae\" data-root-id=\"3130\"></div>\n"
      ]
     },
     "metadata": {},
     "output_type": "display_data"
    },
    {
     "data": {
      "application/javascript": [
       "(function(root) {\n",
       "  function embed_document(root) {\n",
       "    \n",
       "  var docs_json = {\"069d75b2-992f-4798-ad21-9d8d2de705a9\":{\"roots\":{\"references\":[{\"attributes\":{\"below\":[{\"id\":\"3139\",\"type\":\"LinearAxis\"}],\"center\":[{\"id\":\"3143\",\"type\":\"Grid\"},{\"id\":\"3148\",\"type\":\"Grid\"}],\"left\":[{\"id\":\"3144\",\"type\":\"LinearAxis\"}],\"match_aspect\":true,\"renderers\":[{\"id\":\"3165\",\"type\":\"GlyphRenderer\"}],\"title\":{\"id\":\"3210\",\"type\":\"Title\"},\"toolbar\":{\"id\":\"3155\",\"type\":\"Toolbar\"},\"x_range\":{\"id\":\"3131\",\"type\":\"DataRange1d\"},\"x_scale\":{\"id\":\"3135\",\"type\":\"LinearScale\"},\"y_range\":{\"id\":\"3133\",\"type\":\"DataRange1d\"},\"y_scale\":{\"id\":\"3137\",\"type\":\"LinearScale\"}},\"id\":\"3130\",\"subtype\":\"Figure\",\"type\":\"Plot\"},{\"attributes\":{\"dimension\":1,\"ticker\":{\"id\":\"3145\",\"type\":\"BasicTicker\"}},\"id\":\"3148\",\"type\":\"Grid\"},{\"attributes\":{},\"id\":\"3216\",\"type\":\"UnionRenderers\"},{\"attributes\":{},\"id\":\"3217\",\"type\":\"Selection\"},{\"attributes\":{},\"id\":\"3137\",\"type\":\"LinearScale\"},{\"attributes\":{},\"id\":\"3140\",\"type\":\"BasicTicker\"},{\"attributes\":{\"text\":\"\"},\"id\":\"3210\",\"type\":\"Title\"},{\"attributes\":{\"active_drag\":\"auto\",\"active_inspect\":\"auto\",\"active_multi\":null,\"active_scroll\":\"auto\",\"active_tap\":\"auto\",\"tools\":[{\"id\":\"3149\",\"type\":\"PanTool\"},{\"id\":\"3150\",\"type\":\"WheelZoomTool\"},{\"id\":\"3151\",\"type\":\"BoxZoomTool\"},{\"id\":\"3152\",\"type\":\"SaveTool\"},{\"id\":\"3153\",\"type\":\"ResetTool\"},{\"id\":\"3154\",\"type\":\"HelpTool\"}]},\"id\":\"3155\",\"type\":\"Toolbar\"},{\"attributes\":{},\"id\":\"3212\",\"type\":\"BasicTickFormatter\"},{\"attributes\":{\"callback\":null,\"data\":{},\"selected\":{\"id\":\"3217\",\"type\":\"Selection\"},\"selection_policy\":{\"id\":\"3216\",\"type\":\"UnionRenderers\"}},\"id\":\"3162\",\"type\":\"ColumnDataSource\"},{\"attributes\":{},\"id\":\"3214\",\"type\":\"BasicTickFormatter\"},{\"attributes\":{\"callback\":null},\"id\":\"3131\",\"type\":\"DataRange1d\"},{\"attributes\":{},\"id\":\"3149\",\"type\":\"PanTool\"},{\"attributes\":{\"bottom_units\":\"screen\",\"fill_alpha\":{\"value\":0.5},\"fill_color\":{\"value\":\"lightgrey\"},\"left_units\":\"screen\",\"level\":\"overlay\",\"line_alpha\":{\"value\":1.0},\"line_color\":{\"value\":\"black\"},\"line_dash\":[4,4],\"line_width\":{\"value\":2},\"render_mode\":\"css\",\"right_units\":\"screen\",\"top_units\":\"screen\"},\"id\":\"3218\",\"type\":\"BoxAnnotation\"},{\"attributes\":{\"ticker\":{\"id\":\"3140\",\"type\":\"BasicTicker\"}},\"id\":\"3143\",\"type\":\"Grid\"},{\"attributes\":{\"formatter\":{\"id\":\"3212\",\"type\":\"BasicTickFormatter\"},\"ticker\":{\"id\":\"3145\",\"type\":\"BasicTicker\"}},\"id\":\"3144\",\"type\":\"LinearAxis\"},{\"attributes\":{},\"id\":\"3150\",\"type\":\"WheelZoomTool\"},{\"attributes\":{\"overlay\":{\"id\":\"3218\",\"type\":\"BoxAnnotation\"}},\"id\":\"3151\",\"type\":\"BoxZoomTool\"},{\"attributes\":{},\"id\":\"3152\",\"type\":\"SaveTool\"},{\"attributes\":{},\"id\":\"3135\",\"type\":\"LinearScale\"},{\"attributes\":{},\"id\":\"3153\",\"type\":\"ResetTool\"},{\"attributes\":{},\"id\":\"3145\",\"type\":\"BasicTicker\"},{\"attributes\":{\"fill_alpha\":{\"value\":0.1},\"fill_color\":{\"value\":\"#1f77b4\"},\"line_alpha\":{\"value\":0.1},\"line_color\":{\"value\":\"#1f77b4\"},\"radius\":{\"units\":\"data\",\"value\":0.5},\"x\":{\"value\":0.5},\"y\":{\"value\":0.5}},\"id\":\"3164\",\"type\":\"Circle\"},{\"attributes\":{\"callback\":null},\"id\":\"3133\",\"type\":\"DataRange1d\"},{\"attributes\":{},\"id\":\"3154\",\"type\":\"HelpTool\"},{\"attributes\":{\"fill_color\":{\"value\":null},\"line_alpha\":{\"value\":0.5},\"radius\":{\"units\":\"data\",\"value\":0.5},\"x\":{\"value\":0.5},\"y\":{\"value\":0.5}},\"id\":\"3163\",\"type\":\"Circle\"},{\"attributes\":{\"formatter\":{\"id\":\"3214\",\"type\":\"BasicTickFormatter\"},\"ticker\":{\"id\":\"3140\",\"type\":\"BasicTicker\"}},\"id\":\"3139\",\"type\":\"LinearAxis\"},{\"attributes\":{\"source\":{\"id\":\"3162\",\"type\":\"ColumnDataSource\"}},\"id\":\"3166\",\"type\":\"CDSView\"},{\"attributes\":{\"data_source\":{\"id\":\"3162\",\"type\":\"ColumnDataSource\"},\"glyph\":{\"id\":\"3163\",\"type\":\"Circle\"},\"hover_glyph\":null,\"muted_glyph\":null,\"nonselection_glyph\":{\"id\":\"3164\",\"type\":\"Circle\"},\"selection_glyph\":null,\"view\":{\"id\":\"3166\",\"type\":\"CDSView\"}},\"id\":\"3165\",\"type\":\"GlyphRenderer\"}],\"root_ids\":[\"3130\"]},\"title\":\"Bokeh Application\",\"version\":\"1.4.0\"}};\n",
       "  var render_items = [{\"docid\":\"069d75b2-992f-4798-ad21-9d8d2de705a9\",\"roots\":{\"3130\":\"15f8d20f-47b4-40e2-80c1-1b56bb819bae\"}}];\n",
       "  root.Bokeh.embed.embed_items_notebook(docs_json, render_items);\n",
       "\n",
       "  }\n",
       "  if (root.Bokeh !== undefined) {\n",
       "    embed_document(root);\n",
       "  } else {\n",
       "    var attempts = 0;\n",
       "    var timer = setInterval(function(root) {\n",
       "      if (root.Bokeh !== undefined) {\n",
       "        clearInterval(timer);\n",
       "        embed_document(root);\n",
       "      } else {\n",
       "        attempts++;\n",
       "        if (attempts > 100) {\n",
       "          clearInterval(timer);\n",
       "          console.log(\"Bokeh: ERROR: Unable to run BokehJS code because BokehJS library is missing\");\n",
       "        }\n",
       "      }\n",
       "    }, 10, root)\n",
       "  }\n",
       "})(window);"
      ],
      "application/vnd.bokehjs_exec.v0+json": ""
     },
     "metadata": {
      "application/vnd.bokehjs_exec.v0+json": {
       "id": "3130"
      }
     },
     "output_type": "display_data"
    }
   ],
   "source": [
    "p = figure(match_aspect=True)\n",
    "# Draw Outter Circle\n",
    "centre  = 0.5\n",
    "p.circle(x=centre,y=centre,radius=0.5, fill_color=None, line_color='black', line_alpha=0.5)\n",
    "show(p)"
   ]
  },
  {
   "cell_type": "markdown",
   "metadata": {},
   "source": [
    "### 3. Draw intermediate circles"
   ]
  },
  {
   "cell_type": "code",
   "execution_count": 17,
   "metadata": {},
   "outputs": [
    {
     "data": {
      "text/html": [
       "\n",
       "\n",
       "\n",
       "\n",
       "\n",
       "\n",
       "  <div class=\"bk-root\" id=\"98407615-98c9-46fc-8c3d-88de9c31d26e\" data-root-id=\"3130\"></div>\n"
      ]
     },
     "metadata": {},
     "output_type": "display_data"
    },
    {
     "data": {
      "application/javascript": [
       "(function(root) {\n",
       "  function embed_document(root) {\n",
       "    \n",
       "  var docs_json = {\"fec4944a-d60b-4979-bde0-a84e9199fe2a\":{\"roots\":{\"references\":[{\"attributes\":{\"below\":[{\"id\":\"3139\",\"type\":\"LinearAxis\"}],\"center\":[{\"id\":\"3143\",\"type\":\"Grid\"},{\"id\":\"3148\",\"type\":\"Grid\"}],\"left\":[{\"id\":\"3144\",\"type\":\"LinearAxis\"}],\"match_aspect\":true,\"renderers\":[{\"id\":\"3165\",\"type\":\"GlyphRenderer\"},{\"id\":\"3276\",\"type\":\"GlyphRenderer\"},{\"id\":\"3335\",\"type\":\"GlyphRenderer\"},{\"id\":\"3396\",\"type\":\"GlyphRenderer\"},{\"id\":\"3459\",\"type\":\"GlyphRenderer\"},{\"id\":\"3524\",\"type\":\"GlyphRenderer\"}],\"title\":{\"id\":\"3210\",\"type\":\"Title\"},\"toolbar\":{\"id\":\"3155\",\"type\":\"Toolbar\"},\"x_range\":{\"id\":\"3131\",\"type\":\"DataRange1d\"},\"x_scale\":{\"id\":\"3135\",\"type\":\"LinearScale\"},\"y_range\":{\"id\":\"3133\",\"type\":\"DataRange1d\"},\"y_scale\":{\"id\":\"3137\",\"type\":\"LinearScale\"}},\"id\":\"3130\",\"subtype\":\"Figure\",\"type\":\"Plot\"},{\"attributes\":{\"fill_alpha\":{\"value\":0.1},\"fill_color\":{\"value\":\"#1f77b4\"},\"line_alpha\":{\"value\":0.1},\"line_color\":{\"value\":\"#1f77b4\"},\"line_dash\":[6],\"radius\":{\"units\":\"data\",\"value\":0.1},\"x\":{\"value\":0.5},\"y\":{\"value\":0.5}},\"id\":\"3334\",\"type\":\"Circle\"},{\"attributes\":{\"data_source\":{\"id\":\"3456\",\"type\":\"ColumnDataSource\"},\"glyph\":{\"id\":\"3457\",\"type\":\"Circle\"},\"hover_glyph\":null,\"muted_glyph\":null,\"nonselection_glyph\":{\"id\":\"3458\",\"type\":\"Circle\"},\"selection_glyph\":null,\"view\":{\"id\":\"3460\",\"type\":\"CDSView\"}},\"id\":\"3459\",\"type\":\"GlyphRenderer\"},{\"attributes\":{\"dimension\":1,\"ticker\":{\"id\":\"3145\",\"type\":\"BasicTicker\"}},\"id\":\"3148\",\"type\":\"Grid\"},{\"attributes\":{},\"id\":\"3216\",\"type\":\"UnionRenderers\"},{\"attributes\":{},\"id\":\"3137\",\"type\":\"LinearScale\"},{\"attributes\":{},\"id\":\"3217\",\"type\":\"Selection\"},{\"attributes\":{\"data_source\":{\"id\":\"3521\",\"type\":\"ColumnDataSource\"},\"glyph\":{\"id\":\"3522\",\"type\":\"Circle\"},\"hover_glyph\":null,\"muted_glyph\":null,\"nonselection_glyph\":{\"id\":\"3523\",\"type\":\"Circle\"},\"selection_glyph\":null,\"view\":{\"id\":\"3525\",\"type\":\"CDSView\"}},\"id\":\"3524\",\"type\":\"GlyphRenderer\"},{\"attributes\":{},\"id\":\"3140\",\"type\":\"BasicTicker\"},{\"attributes\":{\"text\":\"\"},\"id\":\"3210\",\"type\":\"Title\"},{\"attributes\":{\"fill_color\":{\"value\":null},\"line_alpha\":{\"value\":0.5},\"line_dash\":[6],\"radius\":{\"units\":\"data\",\"value\":0.2},\"x\":{\"value\":0.5},\"y\":{\"value\":0.5}},\"id\":\"3394\",\"type\":\"Circle\"},{\"attributes\":{\"active_drag\":\"auto\",\"active_inspect\":\"auto\",\"active_multi\":null,\"active_scroll\":\"auto\",\"active_tap\":\"auto\",\"tools\":[{\"id\":\"3149\",\"type\":\"PanTool\"},{\"id\":\"3150\",\"type\":\"WheelZoomTool\"},{\"id\":\"3151\",\"type\":\"BoxZoomTool\"},{\"id\":\"3152\",\"type\":\"SaveTool\"},{\"id\":\"3153\",\"type\":\"ResetTool\"},{\"id\":\"3154\",\"type\":\"HelpTool\"}]},\"id\":\"3155\",\"type\":\"Toolbar\"},{\"attributes\":{},\"id\":\"3518\",\"type\":\"UnionRenderers\"},{\"attributes\":{},\"id\":\"3212\",\"type\":\"BasicTickFormatter\"},{\"attributes\":{\"callback\":null,\"data\":{},\"selected\":{\"id\":\"3217\",\"type\":\"Selection\"},\"selection_policy\":{\"id\":\"3216\",\"type\":\"UnionRenderers\"}},\"id\":\"3162\",\"type\":\"ColumnDataSource\"},{\"attributes\":{},\"id\":\"3519\",\"type\":\"Selection\"},{\"attributes\":{\"fill_color\":{\"value\":null},\"line_alpha\":{\"value\":0.5},\"line_dash\":[6],\"radius\":{\"units\":\"data\",\"value\":0.1},\"x\":{\"value\":0.5},\"y\":{\"value\":0.5}},\"id\":\"3333\",\"type\":\"Circle\"},{\"attributes\":{},\"id\":\"3214\",\"type\":\"BasicTickFormatter\"},{\"attributes\":{},\"id\":\"3390\",\"type\":\"UnionRenderers\"},{\"attributes\":{\"callback\":null},\"id\":\"3131\",\"type\":\"DataRange1d\"},{\"attributes\":{\"fill_color\":{\"value\":null},\"line_alpha\":{\"value\":0.5},\"radius\":{\"units\":\"data\",\"value\":0.5},\"x\":{\"value\":0.5},\"y\":{\"value\":0.5}},\"id\":\"3274\",\"type\":\"Circle\"},{\"attributes\":{},\"id\":\"3149\",\"type\":\"PanTool\"},{\"attributes\":{\"bottom_units\":\"screen\",\"fill_alpha\":{\"value\":0.5},\"fill_color\":{\"value\":\"lightgrey\"},\"left_units\":\"screen\",\"level\":\"overlay\",\"line_alpha\":{\"value\":1.0},\"line_color\":{\"value\":\"black\"},\"line_dash\":[4,4],\"line_width\":{\"value\":2},\"render_mode\":\"css\",\"right_units\":\"screen\",\"top_units\":\"screen\"},\"id\":\"3218\",\"type\":\"BoxAnnotation\"},{\"attributes\":{\"ticker\":{\"id\":\"3140\",\"type\":\"BasicTicker\"}},\"id\":\"3143\",\"type\":\"Grid\"},{\"attributes\":{\"callback\":null,\"data\":{},\"selected\":{\"id\":\"3330\",\"type\":\"Selection\"},\"selection_policy\":{\"id\":\"3329\",\"type\":\"UnionRenderers\"}},\"id\":\"3273\",\"type\":\"ColumnDataSource\"},{\"attributes\":{\"source\":{\"id\":\"3456\",\"type\":\"ColumnDataSource\"}},\"id\":\"3460\",\"type\":\"CDSView\"},{\"attributes\":{\"source\":{\"id\":\"3521\",\"type\":\"ColumnDataSource\"}},\"id\":\"3525\",\"type\":\"CDSView\"},{\"attributes\":{\"formatter\":{\"id\":\"3212\",\"type\":\"BasicTickFormatter\"},\"ticker\":{\"id\":\"3145\",\"type\":\"BasicTicker\"}},\"id\":\"3144\",\"type\":\"LinearAxis\"},{\"attributes\":{\"data_source\":{\"id\":\"3393\",\"type\":\"ColumnDataSource\"},\"glyph\":{\"id\":\"3394\",\"type\":\"Circle\"},\"hover_glyph\":null,\"muted_glyph\":null,\"nonselection_glyph\":{\"id\":\"3395\",\"type\":\"Circle\"},\"selection_glyph\":null,\"view\":{\"id\":\"3397\",\"type\":\"CDSView\"}},\"id\":\"3396\",\"type\":\"GlyphRenderer\"},{\"attributes\":{\"fill_alpha\":{\"value\":0.1},\"fill_color\":{\"value\":\"#1f77b4\"},\"line_alpha\":{\"value\":0.1},\"line_color\":{\"value\":\"#1f77b4\"},\"line_dash\":[6],\"radius\":{\"units\":\"data\",\"value\":0.4},\"x\":{\"value\":0.5},\"y\":{\"value\":0.5}},\"id\":\"3523\",\"type\":\"Circle\"},{\"attributes\":{},\"id\":\"3150\",\"type\":\"WheelZoomTool\"},{\"attributes\":{\"callback\":null,\"data\":{},\"selected\":{\"id\":\"3391\",\"type\":\"Selection\"},\"selection_policy\":{\"id\":\"3390\",\"type\":\"UnionRenderers\"}},\"id\":\"3332\",\"type\":\"ColumnDataSource\"},{\"attributes\":{\"source\":{\"id\":\"3393\",\"type\":\"ColumnDataSource\"}},\"id\":\"3397\",\"type\":\"CDSView\"},{\"attributes\":{},\"id\":\"3391\",\"type\":\"Selection\"},{\"attributes\":{\"fill_alpha\":{\"value\":0.1},\"fill_color\":{\"value\":\"#1f77b4\"},\"line_alpha\":{\"value\":0.1},\"line_color\":{\"value\":\"#1f77b4\"},\"line_dash\":[6],\"radius\":{\"units\":\"data\",\"value\":0.2},\"x\":{\"value\":0.5},\"y\":{\"value\":0.5}},\"id\":\"3395\",\"type\":\"Circle\"},{\"attributes\":{\"callback\":null,\"data\":{},\"selected\":{\"id\":\"3519\",\"type\":\"Selection\"},\"selection_policy\":{\"id\":\"3518\",\"type\":\"UnionRenderers\"}},\"id\":\"3456\",\"type\":\"ColumnDataSource\"},{\"attributes\":{\"overlay\":{\"id\":\"3218\",\"type\":\"BoxAnnotation\"}},\"id\":\"3151\",\"type\":\"BoxZoomTool\"},{\"attributes\":{},\"id\":\"3586\",\"type\":\"Selection\"},{\"attributes\":{},\"id\":\"3152\",\"type\":\"SaveTool\"},{\"attributes\":{},\"id\":\"3585\",\"type\":\"UnionRenderers\"},{\"attributes\":{},\"id\":\"3135\",\"type\":\"LinearScale\"},{\"attributes\":{\"fill_alpha\":{\"value\":0.1},\"fill_color\":{\"value\":\"#1f77b4\"},\"line_alpha\":{\"value\":0.1},\"line_color\":{\"value\":\"#1f77b4\"},\"radius\":{\"units\":\"data\",\"value\":0.5},\"x\":{\"value\":0.5},\"y\":{\"value\":0.5}},\"id\":\"3275\",\"type\":\"Circle\"},{\"attributes\":{},\"id\":\"3153\",\"type\":\"ResetTool\"},{\"attributes\":{\"callback\":null,\"data\":{},\"selected\":{\"id\":\"3586\",\"type\":\"Selection\"},\"selection_policy\":{\"id\":\"3585\",\"type\":\"UnionRenderers\"}},\"id\":\"3521\",\"type\":\"ColumnDataSource\"},{\"attributes\":{\"data_source\":{\"id\":\"3273\",\"type\":\"ColumnDataSource\"},\"glyph\":{\"id\":\"3274\",\"type\":\"Circle\"},\"hover_glyph\":null,\"muted_glyph\":null,\"nonselection_glyph\":{\"id\":\"3275\",\"type\":\"Circle\"},\"selection_glyph\":null,\"view\":{\"id\":\"3277\",\"type\":\"CDSView\"}},\"id\":\"3276\",\"type\":\"GlyphRenderer\"},{\"attributes\":{},\"id\":\"3145\",\"type\":\"BasicTicker\"},{\"attributes\":{\"fill_alpha\":{\"value\":0.1},\"fill_color\":{\"value\":\"#1f77b4\"},\"line_alpha\":{\"value\":0.1},\"line_color\":{\"value\":\"#1f77b4\"},\"radius\":{\"units\":\"data\",\"value\":0.5},\"x\":{\"value\":0.5},\"y\":{\"value\":0.5}},\"id\":\"3164\",\"type\":\"Circle\"},{\"attributes\":{\"callback\":null},\"id\":\"3133\",\"type\":\"DataRange1d\"},{\"attributes\":{},\"id\":\"3154\",\"type\":\"HelpTool\"},{\"attributes\":{\"source\":{\"id\":\"3273\",\"type\":\"ColumnDataSource\"}},\"id\":\"3277\",\"type\":\"CDSView\"},{\"attributes\":{\"fill_color\":{\"value\":null},\"line_alpha\":{\"value\":0.5},\"line_dash\":[6],\"radius\":{\"units\":\"data\",\"value\":0.3},\"x\":{\"value\":0.5},\"y\":{\"value\":0.5}},\"id\":\"3457\",\"type\":\"Circle\"},{\"attributes\":{\"callback\":null,\"data\":{},\"selected\":{\"id\":\"3454\",\"type\":\"Selection\"},\"selection_policy\":{\"id\":\"3453\",\"type\":\"UnionRenderers\"}},\"id\":\"3393\",\"type\":\"ColumnDataSource\"},{\"attributes\":{},\"id\":\"3453\",\"type\":\"UnionRenderers\"},{\"attributes\":{\"data_source\":{\"id\":\"3332\",\"type\":\"ColumnDataSource\"},\"glyph\":{\"id\":\"3333\",\"type\":\"Circle\"},\"hover_glyph\":null,\"muted_glyph\":null,\"nonselection_glyph\":{\"id\":\"3334\",\"type\":\"Circle\"},\"selection_glyph\":null,\"view\":{\"id\":\"3336\",\"type\":\"CDSView\"}},\"id\":\"3335\",\"type\":\"GlyphRenderer\"},{\"attributes\":{\"fill_color\":{\"value\":null},\"line_alpha\":{\"value\":0.5},\"radius\":{\"units\":\"data\",\"value\":0.5},\"x\":{\"value\":0.5},\"y\":{\"value\":0.5}},\"id\":\"3163\",\"type\":\"Circle\"},{\"attributes\":{\"formatter\":{\"id\":\"3214\",\"type\":\"BasicTickFormatter\"},\"ticker\":{\"id\":\"3140\",\"type\":\"BasicTicker\"}},\"id\":\"3139\",\"type\":\"LinearAxis\"},{\"attributes\":{\"source\":{\"id\":\"3162\",\"type\":\"ColumnDataSource\"}},\"id\":\"3166\",\"type\":\"CDSView\"},{\"attributes\":{\"fill_color\":{\"value\":null},\"line_alpha\":{\"value\":0.5},\"line_dash\":[6],\"radius\":{\"units\":\"data\",\"value\":0.4},\"x\":{\"value\":0.5},\"y\":{\"value\":0.5}},\"id\":\"3522\",\"type\":\"Circle\"},{\"attributes\":{},\"id\":\"3454\",\"type\":\"Selection\"},{\"attributes\":{\"fill_alpha\":{\"value\":0.1},\"fill_color\":{\"value\":\"#1f77b4\"},\"line_alpha\":{\"value\":0.1},\"line_color\":{\"value\":\"#1f77b4\"},\"line_dash\":[6],\"radius\":{\"units\":\"data\",\"value\":0.3},\"x\":{\"value\":0.5},\"y\":{\"value\":0.5}},\"id\":\"3458\",\"type\":\"Circle\"},{\"attributes\":{},\"id\":\"3329\",\"type\":\"UnionRenderers\"},{\"attributes\":{},\"id\":\"3330\",\"type\":\"Selection\"},{\"attributes\":{\"data_source\":{\"id\":\"3162\",\"type\":\"ColumnDataSource\"},\"glyph\":{\"id\":\"3163\",\"type\":\"Circle\"},\"hover_glyph\":null,\"muted_glyph\":null,\"nonselection_glyph\":{\"id\":\"3164\",\"type\":\"Circle\"},\"selection_glyph\":null,\"view\":{\"id\":\"3166\",\"type\":\"CDSView\"}},\"id\":\"3165\",\"type\":\"GlyphRenderer\"},{\"attributes\":{\"source\":{\"id\":\"3332\",\"type\":\"ColumnDataSource\"}},\"id\":\"3336\",\"type\":\"CDSView\"}],\"root_ids\":[\"3130\"]},\"title\":\"Bokeh Application\",\"version\":\"1.4.0\"}};\n",
       "  var render_items = [{\"docid\":\"fec4944a-d60b-4979-bde0-a84e9199fe2a\",\"roots\":{\"3130\":\"98407615-98c9-46fc-8c3d-88de9c31d26e\"}}];\n",
       "  root.Bokeh.embed.embed_items_notebook(docs_json, render_items);\n",
       "\n",
       "  }\n",
       "  if (root.Bokeh !== undefined) {\n",
       "    embed_document(root);\n",
       "  } else {\n",
       "    var attempts = 0;\n",
       "    var timer = setInterval(function(root) {\n",
       "      if (root.Bokeh !== undefined) {\n",
       "        clearInterval(timer);\n",
       "        embed_document(root);\n",
       "      } else {\n",
       "        attempts++;\n",
       "        if (attempts > 100) {\n",
       "          clearInterval(timer);\n",
       "          console.log(\"Bokeh: ERROR: Unable to run BokehJS code because BokehJS library is missing\");\n",
       "        }\n",
       "      }\n",
       "    }, 10, root)\n",
       "  }\n",
       "})(window);"
      ],
      "application/vnd.bokehjs_exec.v0+json": ""
     },
     "metadata": {
      "application/vnd.bokehjs_exec.v0+json": {
       "id": "3130"
      }
     },
     "output_type": "display_data"
    }
   ],
   "source": [
    "#Draw intermediate circles\n",
    "p.circle(x=0.5,y=0.5,radius=.5, line_color='black', fill_color=None, line_alpha=0.5)\n",
    "p.circle(x=0.5,y=0.5,radius=.1, line_color='black', fill_color=None, line_alpha=0.5, line_dash='dashed')\n",
    "p.circle(x=0.5,y=0.5,radius=.2, line_color='black', fill_color=None, line_alpha=0.5, line_dash='dashed')\n",
    "p.circle(x=0.5,y=0.5,radius=.3, line_color='black', fill_color=None, line_alpha=0.5, line_dash='dashed')\n",
    "p.circle(x=0.5,y=0.5,radius=.4, line_color='black', fill_color=None, line_alpha=0.5, line_dash='dashed')\n",
    "show(p)"
   ]
  },
  {
   "cell_type": "markdown",
   "metadata": {},
   "source": [
    "### 4. Remove Grid and Non-polar Axes"
   ]
  },
  {
   "cell_type": "code",
   "execution_count": 18,
   "metadata": {},
   "outputs": [
    {
     "data": {
      "text/html": [
       "\n",
       "\n",
       "\n",
       "\n",
       "\n",
       "\n",
       "  <div class=\"bk-root\" id=\"bc41eced-7599-4937-bbee-4123ba42408f\" data-root-id=\"3130\"></div>\n"
      ]
     },
     "metadata": {},
     "output_type": "display_data"
    },
    {
     "data": {
      "application/javascript": [
       "(function(root) {\n",
       "  function embed_document(root) {\n",
       "    \n",
       "  var docs_json = {\"13243419-bf52-4852-9297-200bab8e7817\":{\"roots\":{\"references\":[{\"attributes\":{\"below\":[{\"id\":\"3139\",\"type\":\"LinearAxis\"}],\"center\":[{\"id\":\"3143\",\"type\":\"Grid\"},{\"id\":\"3148\",\"type\":\"Grid\"}],\"left\":[{\"id\":\"3144\",\"type\":\"LinearAxis\"}],\"match_aspect\":true,\"renderers\":[{\"id\":\"3165\",\"type\":\"GlyphRenderer\"},{\"id\":\"3276\",\"type\":\"GlyphRenderer\"},{\"id\":\"3335\",\"type\":\"GlyphRenderer\"},{\"id\":\"3396\",\"type\":\"GlyphRenderer\"},{\"id\":\"3459\",\"type\":\"GlyphRenderer\"},{\"id\":\"3524\",\"type\":\"GlyphRenderer\"}],\"title\":{\"id\":\"3210\",\"type\":\"Title\"},\"toolbar\":{\"id\":\"3155\",\"type\":\"Toolbar\"},\"toolbar_location\":\"below\",\"x_range\":{\"id\":\"3131\",\"type\":\"DataRange1d\"},\"x_scale\":{\"id\":\"3135\",\"type\":\"LinearScale\"},\"y_range\":{\"id\":\"3133\",\"type\":\"DataRange1d\"},\"y_scale\":{\"id\":\"3137\",\"type\":\"LinearScale\"}},\"id\":\"3130\",\"subtype\":\"Figure\",\"type\":\"Plot\"},{\"attributes\":{\"fill_alpha\":{\"value\":0.1},\"fill_color\":{\"value\":\"#1f77b4\"},\"line_alpha\":{\"value\":0.1},\"line_color\":{\"value\":\"#1f77b4\"},\"line_dash\":[6],\"radius\":{\"units\":\"data\",\"value\":0.1},\"x\":{\"value\":0.5},\"y\":{\"value\":0.5}},\"id\":\"3334\",\"type\":\"Circle\"},{\"attributes\":{\"data_source\":{\"id\":\"3456\",\"type\":\"ColumnDataSource\"},\"glyph\":{\"id\":\"3457\",\"type\":\"Circle\"},\"hover_glyph\":null,\"muted_glyph\":null,\"nonselection_glyph\":{\"id\":\"3458\",\"type\":\"Circle\"},\"selection_glyph\":null,\"view\":{\"id\":\"3460\",\"type\":\"CDSView\"}},\"id\":\"3459\",\"type\":\"GlyphRenderer\"},{\"attributes\":{\"dimension\":1,\"ticker\":{\"id\":\"3145\",\"type\":\"BasicTicker\"},\"visible\":false},\"id\":\"3148\",\"type\":\"Grid\"},{\"attributes\":{},\"id\":\"3216\",\"type\":\"UnionRenderers\"},{\"attributes\":{},\"id\":\"3137\",\"type\":\"LinearScale\"},{\"attributes\":{},\"id\":\"3217\",\"type\":\"Selection\"},{\"attributes\":{\"data_source\":{\"id\":\"3521\",\"type\":\"ColumnDataSource\"},\"glyph\":{\"id\":\"3522\",\"type\":\"Circle\"},\"hover_glyph\":null,\"muted_glyph\":null,\"nonselection_glyph\":{\"id\":\"3523\",\"type\":\"Circle\"},\"selection_glyph\":null,\"view\":{\"id\":\"3525\",\"type\":\"CDSView\"}},\"id\":\"3524\",\"type\":\"GlyphRenderer\"},{\"attributes\":{},\"id\":\"3140\",\"type\":\"BasicTicker\"},{\"attributes\":{\"text\":\"\"},\"id\":\"3210\",\"type\":\"Title\"},{\"attributes\":{\"fill_color\":{\"value\":null},\"line_alpha\":{\"value\":0.5},\"line_dash\":[6],\"radius\":{\"units\":\"data\",\"value\":0.2},\"x\":{\"value\":0.5},\"y\":{\"value\":0.5}},\"id\":\"3394\",\"type\":\"Circle\"},{\"attributes\":{\"active_drag\":\"auto\",\"active_inspect\":\"auto\",\"active_multi\":null,\"active_scroll\":\"auto\",\"active_tap\":\"auto\",\"logo\":null,\"tools\":[{\"id\":\"3149\",\"type\":\"PanTool\"},{\"id\":\"3150\",\"type\":\"WheelZoomTool\"},{\"id\":\"3151\",\"type\":\"BoxZoomTool\"},{\"id\":\"3152\",\"type\":\"SaveTool\"},{\"id\":\"3153\",\"type\":\"ResetTool\"},{\"id\":\"3154\",\"type\":\"HelpTool\"}]},\"id\":\"3155\",\"type\":\"Toolbar\"},{\"attributes\":{},\"id\":\"3518\",\"type\":\"UnionRenderers\"},{\"attributes\":{},\"id\":\"3212\",\"type\":\"BasicTickFormatter\"},{\"attributes\":{\"callback\":null,\"data\":{},\"selected\":{\"id\":\"3217\",\"type\":\"Selection\"},\"selection_policy\":{\"id\":\"3216\",\"type\":\"UnionRenderers\"}},\"id\":\"3162\",\"type\":\"ColumnDataSource\"},{\"attributes\":{},\"id\":\"3519\",\"type\":\"Selection\"},{\"attributes\":{\"fill_color\":{\"value\":null},\"line_alpha\":{\"value\":0.5},\"line_dash\":[6],\"radius\":{\"units\":\"data\",\"value\":0.1},\"x\":{\"value\":0.5},\"y\":{\"value\":0.5}},\"id\":\"3333\",\"type\":\"Circle\"},{\"attributes\":{},\"id\":\"3214\",\"type\":\"BasicTickFormatter\"},{\"attributes\":{},\"id\":\"3390\",\"type\":\"UnionRenderers\"},{\"attributes\":{\"callback\":null},\"id\":\"3131\",\"type\":\"DataRange1d\"},{\"attributes\":{\"fill_color\":{\"value\":null},\"line_alpha\":{\"value\":0.5},\"radius\":{\"units\":\"data\",\"value\":0.5},\"x\":{\"value\":0.5},\"y\":{\"value\":0.5}},\"id\":\"3274\",\"type\":\"Circle\"},{\"attributes\":{},\"id\":\"3149\",\"type\":\"PanTool\"},{\"attributes\":{\"bottom_units\":\"screen\",\"fill_alpha\":{\"value\":0.5},\"fill_color\":{\"value\":\"lightgrey\"},\"left_units\":\"screen\",\"level\":\"overlay\",\"line_alpha\":{\"value\":1.0},\"line_color\":{\"value\":\"black\"},\"line_dash\":[4,4],\"line_width\":{\"value\":2},\"render_mode\":\"css\",\"right_units\":\"screen\",\"top_units\":\"screen\"},\"id\":\"3218\",\"type\":\"BoxAnnotation\"},{\"attributes\":{\"ticker\":{\"id\":\"3140\",\"type\":\"BasicTicker\"},\"visible\":false},\"id\":\"3143\",\"type\":\"Grid\"},{\"attributes\":{\"callback\":null,\"data\":{},\"selected\":{\"id\":\"3330\",\"type\":\"Selection\"},\"selection_policy\":{\"id\":\"3329\",\"type\":\"UnionRenderers\"}},\"id\":\"3273\",\"type\":\"ColumnDataSource\"},{\"attributes\":{\"source\":{\"id\":\"3456\",\"type\":\"ColumnDataSource\"}},\"id\":\"3460\",\"type\":\"CDSView\"},{\"attributes\":{\"source\":{\"id\":\"3521\",\"type\":\"ColumnDataSource\"}},\"id\":\"3525\",\"type\":\"CDSView\"},{\"attributes\":{\"formatter\":{\"id\":\"3212\",\"type\":\"BasicTickFormatter\"},\"ticker\":{\"id\":\"3145\",\"type\":\"BasicTicker\"},\"visible\":false},\"id\":\"3144\",\"type\":\"LinearAxis\"},{\"attributes\":{\"data_source\":{\"id\":\"3393\",\"type\":\"ColumnDataSource\"},\"glyph\":{\"id\":\"3394\",\"type\":\"Circle\"},\"hover_glyph\":null,\"muted_glyph\":null,\"nonselection_glyph\":{\"id\":\"3395\",\"type\":\"Circle\"},\"selection_glyph\":null,\"view\":{\"id\":\"3397\",\"type\":\"CDSView\"}},\"id\":\"3396\",\"type\":\"GlyphRenderer\"},{\"attributes\":{\"fill_alpha\":{\"value\":0.1},\"fill_color\":{\"value\":\"#1f77b4\"},\"line_alpha\":{\"value\":0.1},\"line_color\":{\"value\":\"#1f77b4\"},\"line_dash\":[6],\"radius\":{\"units\":\"data\",\"value\":0.4},\"x\":{\"value\":0.5},\"y\":{\"value\":0.5}},\"id\":\"3523\",\"type\":\"Circle\"},{\"attributes\":{},\"id\":\"3150\",\"type\":\"WheelZoomTool\"},{\"attributes\":{\"callback\":null,\"data\":{},\"selected\":{\"id\":\"3391\",\"type\":\"Selection\"},\"selection_policy\":{\"id\":\"3390\",\"type\":\"UnionRenderers\"}},\"id\":\"3332\",\"type\":\"ColumnDataSource\"},{\"attributes\":{\"source\":{\"id\":\"3393\",\"type\":\"ColumnDataSource\"}},\"id\":\"3397\",\"type\":\"CDSView\"},{\"attributes\":{},\"id\":\"3391\",\"type\":\"Selection\"},{\"attributes\":{\"fill_alpha\":{\"value\":0.1},\"fill_color\":{\"value\":\"#1f77b4\"},\"line_alpha\":{\"value\":0.1},\"line_color\":{\"value\":\"#1f77b4\"},\"line_dash\":[6],\"radius\":{\"units\":\"data\",\"value\":0.2},\"x\":{\"value\":0.5},\"y\":{\"value\":0.5}},\"id\":\"3395\",\"type\":\"Circle\"},{\"attributes\":{\"callback\":null,\"data\":{},\"selected\":{\"id\":\"3519\",\"type\":\"Selection\"},\"selection_policy\":{\"id\":\"3518\",\"type\":\"UnionRenderers\"}},\"id\":\"3456\",\"type\":\"ColumnDataSource\"},{\"attributes\":{\"overlay\":{\"id\":\"3218\",\"type\":\"BoxAnnotation\"}},\"id\":\"3151\",\"type\":\"BoxZoomTool\"},{\"attributes\":{},\"id\":\"3586\",\"type\":\"Selection\"},{\"attributes\":{},\"id\":\"3152\",\"type\":\"SaveTool\"},{\"attributes\":{},\"id\":\"3585\",\"type\":\"UnionRenderers\"},{\"attributes\":{},\"id\":\"3135\",\"type\":\"LinearScale\"},{\"attributes\":{\"fill_alpha\":{\"value\":0.1},\"fill_color\":{\"value\":\"#1f77b4\"},\"line_alpha\":{\"value\":0.1},\"line_color\":{\"value\":\"#1f77b4\"},\"radius\":{\"units\":\"data\",\"value\":0.5},\"x\":{\"value\":0.5},\"y\":{\"value\":0.5}},\"id\":\"3275\",\"type\":\"Circle\"},{\"attributes\":{},\"id\":\"3153\",\"type\":\"ResetTool\"},{\"attributes\":{\"callback\":null,\"data\":{},\"selected\":{\"id\":\"3586\",\"type\":\"Selection\"},\"selection_policy\":{\"id\":\"3585\",\"type\":\"UnionRenderers\"}},\"id\":\"3521\",\"type\":\"ColumnDataSource\"},{\"attributes\":{\"data_source\":{\"id\":\"3273\",\"type\":\"ColumnDataSource\"},\"glyph\":{\"id\":\"3274\",\"type\":\"Circle\"},\"hover_glyph\":null,\"muted_glyph\":null,\"nonselection_glyph\":{\"id\":\"3275\",\"type\":\"Circle\"},\"selection_glyph\":null,\"view\":{\"id\":\"3277\",\"type\":\"CDSView\"}},\"id\":\"3276\",\"type\":\"GlyphRenderer\"},{\"attributes\":{},\"id\":\"3145\",\"type\":\"BasicTicker\"},{\"attributes\":{\"fill_alpha\":{\"value\":0.1},\"fill_color\":{\"value\":\"#1f77b4\"},\"line_alpha\":{\"value\":0.1},\"line_color\":{\"value\":\"#1f77b4\"},\"radius\":{\"units\":\"data\",\"value\":0.5},\"x\":{\"value\":0.5},\"y\":{\"value\":0.5}},\"id\":\"3164\",\"type\":\"Circle\"},{\"attributes\":{\"callback\":null},\"id\":\"3133\",\"type\":\"DataRange1d\"},{\"attributes\":{},\"id\":\"3154\",\"type\":\"HelpTool\"},{\"attributes\":{\"source\":{\"id\":\"3273\",\"type\":\"ColumnDataSource\"}},\"id\":\"3277\",\"type\":\"CDSView\"},{\"attributes\":{\"fill_color\":{\"value\":null},\"line_alpha\":{\"value\":0.5},\"line_dash\":[6],\"radius\":{\"units\":\"data\",\"value\":0.3},\"x\":{\"value\":0.5},\"y\":{\"value\":0.5}},\"id\":\"3457\",\"type\":\"Circle\"},{\"attributes\":{\"callback\":null,\"data\":{},\"selected\":{\"id\":\"3454\",\"type\":\"Selection\"},\"selection_policy\":{\"id\":\"3453\",\"type\":\"UnionRenderers\"}},\"id\":\"3393\",\"type\":\"ColumnDataSource\"},{\"attributes\":{},\"id\":\"3453\",\"type\":\"UnionRenderers\"},{\"attributes\":{\"data_source\":{\"id\":\"3332\",\"type\":\"ColumnDataSource\"},\"glyph\":{\"id\":\"3333\",\"type\":\"Circle\"},\"hover_glyph\":null,\"muted_glyph\":null,\"nonselection_glyph\":{\"id\":\"3334\",\"type\":\"Circle\"},\"selection_glyph\":null,\"view\":{\"id\":\"3336\",\"type\":\"CDSView\"}},\"id\":\"3335\",\"type\":\"GlyphRenderer\"},{\"attributes\":{\"fill_color\":{\"value\":null},\"line_alpha\":{\"value\":0.5},\"radius\":{\"units\":\"data\",\"value\":0.5},\"x\":{\"value\":0.5},\"y\":{\"value\":0.5}},\"id\":\"3163\",\"type\":\"Circle\"},{\"attributes\":{\"formatter\":{\"id\":\"3214\",\"type\":\"BasicTickFormatter\"},\"ticker\":{\"id\":\"3140\",\"type\":\"BasicTicker\"},\"visible\":false},\"id\":\"3139\",\"type\":\"LinearAxis\"},{\"attributes\":{\"source\":{\"id\":\"3162\",\"type\":\"ColumnDataSource\"}},\"id\":\"3166\",\"type\":\"CDSView\"},{\"attributes\":{\"fill_color\":{\"value\":null},\"line_alpha\":{\"value\":0.5},\"line_dash\":[6],\"radius\":{\"units\":\"data\",\"value\":0.4},\"x\":{\"value\":0.5},\"y\":{\"value\":0.5}},\"id\":\"3522\",\"type\":\"Circle\"},{\"attributes\":{},\"id\":\"3454\",\"type\":\"Selection\"},{\"attributes\":{\"fill_alpha\":{\"value\":0.1},\"fill_color\":{\"value\":\"#1f77b4\"},\"line_alpha\":{\"value\":0.1},\"line_color\":{\"value\":\"#1f77b4\"},\"line_dash\":[6],\"radius\":{\"units\":\"data\",\"value\":0.3},\"x\":{\"value\":0.5},\"y\":{\"value\":0.5}},\"id\":\"3458\",\"type\":\"Circle\"},{\"attributes\":{},\"id\":\"3329\",\"type\":\"UnionRenderers\"},{\"attributes\":{},\"id\":\"3330\",\"type\":\"Selection\"},{\"attributes\":{\"data_source\":{\"id\":\"3162\",\"type\":\"ColumnDataSource\"},\"glyph\":{\"id\":\"3163\",\"type\":\"Circle\"},\"hover_glyph\":null,\"muted_glyph\":null,\"nonselection_glyph\":{\"id\":\"3164\",\"type\":\"Circle\"},\"selection_glyph\":null,\"view\":{\"id\":\"3166\",\"type\":\"CDSView\"}},\"id\":\"3165\",\"type\":\"GlyphRenderer\"},{\"attributes\":{\"source\":{\"id\":\"3332\",\"type\":\"ColumnDataSource\"}},\"id\":\"3336\",\"type\":\"CDSView\"}],\"root_ids\":[\"3130\"]},\"title\":\"Bokeh Application\",\"version\":\"1.4.0\"}};\n",
       "  var render_items = [{\"docid\":\"13243419-bf52-4852-9297-200bab8e7817\",\"roots\":{\"3130\":\"bc41eced-7599-4937-bbee-4123ba42408f\"}}];\n",
       "  root.Bokeh.embed.embed_items_notebook(docs_json, render_items);\n",
       "\n",
       "  }\n",
       "  if (root.Bokeh !== undefined) {\n",
       "    embed_document(root);\n",
       "  } else {\n",
       "    var attempts = 0;\n",
       "    var timer = setInterval(function(root) {\n",
       "      if (root.Bokeh !== undefined) {\n",
       "        clearInterval(timer);\n",
       "        embed_document(root);\n",
       "      } else {\n",
       "        attempts++;\n",
       "        if (attempts > 100) {\n",
       "          clearInterval(timer);\n",
       "          console.log(\"Bokeh: ERROR: Unable to run BokehJS code because BokehJS library is missing\");\n",
       "        }\n",
       "      }\n",
       "    }, 10, root)\n",
       "  }\n",
       "})(window);"
      ],
      "application/vnd.bokehjs_exec.v0+json": ""
     },
     "metadata": {
      "application/vnd.bokehjs_exec.v0+json": {
       "id": "3130"
      }
     },
     "output_type": "display_data"
    }
   ],
   "source": [
    "# Visual Aspects\n",
    "p.xgrid.visible=False\n",
    "p.ygrid.visible=False\n",
    "p.xaxis.visible=False\n",
    "p.yaxis.visible=False\n",
    "p.toolbar.logo=None\n",
    "p.toolbar_location='below'\n",
    "show(p)"
   ]
  },
  {
   "cell_type": "markdown",
   "metadata": {},
   "source": [
    "### 5. Draw Polar Axes"
   ]
  },
  {
   "cell_type": "code",
   "execution_count": 19,
   "metadata": {},
   "outputs": [],
   "source": [
    "def unit_poly_verts(theta, centre):\n",
    "    \"\"\"Return vertices of polygon for subplot axes.\n",
    "    This polygon is circumscribed by a unit circle centered at (0.5, 0.5)\n",
    "    \"\"\"\n",
    "    x0, y0, r = [centre] * 3\n",
    "    verts = [(r*np.cos(t) + x0, r*np.sin(t) + y0) for t in theta]\n",
    "    return verts"
   ]
  },
  {
   "cell_type": "code",
   "execution_count": null,
   "metadata": {},
   "outputs": [],
   "source": [
    "# Obtain the Number of Dimensions\n",
    "# ===============================\n",
    "num_vars = len(values)\n",
    "# Get the angle for each axes representing a dimension (from 0 to 2pi) + pi/2 --> To start on the y-axis\n",
    "# ======================================================================================================\n",
    "theta    = np.linspace(0, 2*np.pi, num_vars, endpoint=False)\n",
    "theta   += np.pi/2\n",
    "# Compute the intersection points with the outter circel for each of the axes\n",
    "# ===========================================================================\n",
    "verts    = unit_poly_verts(theta, centre)\n",
    "x        = [v[0] for v in verts] \n",
    "y        = [v[1] for v in verts]"
   ]
  },
  {
   "cell_type": "code",
   "execution_count": 20,
   "metadata": {},
   "outputs": [
    {
     "data": {
      "text/html": [
       "\n",
       "\n",
       "\n",
       "\n",
       "\n",
       "\n",
       "  <div class=\"bk-root\" id=\"703120f8-392d-4e3e-aafa-1a943fce321b\" data-root-id=\"3130\"></div>\n"
      ]
     },
     "metadata": {},
     "output_type": "display_data"
    },
    {
     "data": {
      "application/javascript": [
       "(function(root) {\n",
       "  function embed_document(root) {\n",
       "    \n",
       "  var docs_json = {\"1b44d499-c458-4540-bec0-5c2d585e12e9\":{\"roots\":{\"references\":[{\"attributes\":{\"below\":[{\"id\":\"3139\",\"type\":\"LinearAxis\"}],\"center\":[{\"id\":\"3143\",\"type\":\"Grid\"},{\"id\":\"3148\",\"type\":\"Grid\"}],\"left\":[{\"id\":\"3144\",\"type\":\"LinearAxis\"}],\"match_aspect\":true,\"renderers\":[{\"id\":\"3165\",\"type\":\"GlyphRenderer\"},{\"id\":\"3276\",\"type\":\"GlyphRenderer\"},{\"id\":\"3335\",\"type\":\"GlyphRenderer\"},{\"id\":\"3396\",\"type\":\"GlyphRenderer\"},{\"id\":\"3459\",\"type\":\"GlyphRenderer\"},{\"id\":\"3524\",\"type\":\"GlyphRenderer\"},{\"id\":\"3820\",\"type\":\"GlyphRenderer\"},{\"id\":\"3889\",\"type\":\"GlyphRenderer\"},{\"id\":\"3960\",\"type\":\"GlyphRenderer\"},{\"id\":\"4033\",\"type\":\"GlyphRenderer\"},{\"id\":\"4108\",\"type\":\"GlyphRenderer\"},{\"id\":\"4185\",\"type\":\"GlyphRenderer\"},{\"id\":\"4264\",\"type\":\"GlyphRenderer\"},{\"id\":\"4345\",\"type\":\"GlyphRenderer\"}],\"title\":{\"id\":\"3210\",\"type\":\"Title\"},\"toolbar\":{\"id\":\"3155\",\"type\":\"Toolbar\"},\"toolbar_location\":\"below\",\"x_range\":{\"id\":\"3131\",\"type\":\"DataRange1d\"},\"x_scale\":{\"id\":\"3135\",\"type\":\"LinearScale\"},\"y_range\":{\"id\":\"3133\",\"type\":\"DataRange1d\"},\"y_scale\":{\"id\":\"3137\",\"type\":\"LinearScale\"}},\"id\":\"3130\",\"subtype\":\"Figure\",\"type\":\"Plot\"},{\"attributes\":{},\"id\":\"4259\",\"type\":\"Selection\"},{\"attributes\":{\"line_alpha\":0.5,\"line_dash\":[6],\"x\":{\"field\":\"x\"},\"y\":{\"field\":\"y\"}},\"id\":\"4106\",\"type\":\"Line\"},{\"attributes\":{\"callback\":null},\"id\":\"3131\",\"type\":\"DataRange1d\"},{\"attributes\":{\"bottom_units\":\"screen\",\"fill_alpha\":{\"value\":0.5},\"fill_color\":{\"value\":\"lightgrey\"},\"left_units\":\"screen\",\"level\":\"overlay\",\"line_alpha\":{\"value\":1.0},\"line_color\":{\"value\":\"black\"},\"line_dash\":[4,4],\"line_width\":{\"value\":2},\"render_mode\":\"css\",\"right_units\":\"screen\",\"top_units\":\"screen\"},\"id\":\"3218\",\"type\":\"BoxAnnotation\"},{\"attributes\":{\"fill_alpha\":{\"value\":0.1},\"fill_color\":{\"value\":\"#1f77b4\"},\"line_alpha\":{\"value\":0.1},\"line_color\":{\"value\":\"#1f77b4\"},\"line_dash\":[6],\"radius\":{\"units\":\"data\",\"value\":0.4},\"x\":{\"value\":0.5},\"y\":{\"value\":0.5}},\"id\":\"3523\",\"type\":\"Circle\"},{\"attributes\":{\"line_alpha\":0.1,\"line_color\":\"#1f77b4\",\"line_dash\":[6],\"x\":{\"field\":\"x\"},\"y\":{\"field\":\"y\"}},\"id\":\"4263\",\"type\":\"Line\"},{\"attributes\":{\"data_source\":{\"id\":\"4261\",\"type\":\"ColumnDataSource\"},\"glyph\":{\"id\":\"4262\",\"type\":\"Line\"},\"hover_glyph\":null,\"muted_glyph\":null,\"nonselection_glyph\":{\"id\":\"4263\",\"type\":\"Line\"},\"selection_glyph\":null,\"view\":{\"id\":\"4265\",\"type\":\"CDSView\"}},\"id\":\"4264\",\"type\":\"GlyphRenderer\"},{\"attributes\":{\"source\":{\"id\":\"4261\",\"type\":\"ColumnDataSource\"}},\"id\":\"4265\",\"type\":\"CDSView\"},{\"attributes\":{},\"id\":\"3955\",\"type\":\"Selection\"},{\"attributes\":{\"line_alpha\":0.5,\"line_dash\":[6],\"x\":{\"field\":\"x\"},\"y\":{\"field\":\"y\"}},\"id\":\"4343\",\"type\":\"Line\"},{\"attributes\":{\"line_alpha\":0.5,\"line_dash\":[6],\"x\":{\"field\":\"x\"},\"y\":{\"field\":\"y\"}},\"id\":\"4262\",\"type\":\"Line\"},{\"attributes\":{\"data_source\":{\"id\":\"3456\",\"type\":\"ColumnDataSource\"},\"glyph\":{\"id\":\"3457\",\"type\":\"Circle\"},\"hover_glyph\":null,\"muted_glyph\":null,\"nonselection_glyph\":{\"id\":\"3458\",\"type\":\"Circle\"},\"selection_glyph\":null,\"view\":{\"id\":\"3460\",\"type\":\"CDSView\"}},\"id\":\"3459\",\"type\":\"GlyphRenderer\"},{\"attributes\":{\"data_source\":{\"id\":\"3521\",\"type\":\"ColumnDataSource\"},\"glyph\":{\"id\":\"3522\",\"type\":\"Circle\"},\"hover_glyph\":null,\"muted_glyph\":null,\"nonselection_glyph\":{\"id\":\"3523\",\"type\":\"Circle\"},\"selection_glyph\":null,\"view\":{\"id\":\"3525\",\"type\":\"CDSView\"}},\"id\":\"3524\",\"type\":\"GlyphRenderer\"},{\"attributes\":{\"callback\":null,\"data\":{\"x\":[0.5,0.0],\"y\":[0.5,0.5000000000000001]},\"selected\":{\"id\":\"4028\",\"type\":\"Selection\"},\"selection_policy\":{\"id\":\"4027\",\"type\":\"UnionRenderers\"}},\"id\":\"3957\",\"type\":\"ColumnDataSource\"},{\"attributes\":{\"text\":\"\"},\"id\":\"3210\",\"type\":\"Title\"},{\"attributes\":{},\"id\":\"3954\",\"type\":\"UnionRenderers\"},{\"attributes\":{\"source\":{\"id\":\"3521\",\"type\":\"ColumnDataSource\"}},\"id\":\"3525\",\"type\":\"CDSView\"},{\"attributes\":{},\"id\":\"4258\",\"type\":\"UnionRenderers\"},{\"attributes\":{\"callback\":null,\"data\":{\"x\":[0.5,0.8535533905932738],\"y\":[0.5,0.8535533905932737]},\"selected\":{\"id\":\"4423\",\"type\":\"Selection\"},\"selection_policy\":{\"id\":\"4422\",\"type\":\"UnionRenderers\"}},\"id\":\"4342\",\"type\":\"ColumnDataSource\"},{\"attributes\":{\"fill_color\":{\"value\":null},\"line_alpha\":{\"value\":0.5},\"line_dash\":[6],\"radius\":{\"units\":\"data\",\"value\":0.3},\"x\":{\"value\":0.5},\"y\":{\"value\":0.5}},\"id\":\"3457\",\"type\":\"Circle\"},{\"attributes\":{\"line_alpha\":0.5,\"line_dash\":[6],\"x\":{\"field\":\"x\"},\"y\":{\"field\":\"y\"}},\"id\":\"4183\",\"type\":\"Line\"},{\"attributes\":{\"dimension\":1,\"ticker\":{\"id\":\"3145\",\"type\":\"BasicTicker\"},\"visible\":false},\"id\":\"3148\",\"type\":\"Grid\"},{\"attributes\":{\"source\":{\"id\":\"4182\",\"type\":\"ColumnDataSource\"}},\"id\":\"4186\",\"type\":\"CDSView\"},{\"attributes\":{},\"id\":\"3216\",\"type\":\"UnionRenderers\"},{\"attributes\":{},\"id\":\"3883\",\"type\":\"UnionRenderers\"},{\"attributes\":{},\"id\":\"4422\",\"type\":\"UnionRenderers\"},{\"attributes\":{\"callback\":null,\"data\":{\"x\":[0.5,0.14644660940672627],\"y\":[0.5,0.8535533905932737]},\"selected\":{\"id\":\"3955\",\"type\":\"Selection\"},\"selection_policy\":{\"id\":\"3954\",\"type\":\"UnionRenderers\"}},\"id\":\"3886\",\"type\":\"ColumnDataSource\"},{\"attributes\":{\"callback\":null,\"data\":{\"x\":[0.5,0.8535533905932737],\"y\":[0.5,0.14644660940672616]},\"selected\":{\"id\":\"4259\",\"type\":\"Selection\"},\"selection_policy\":{\"id\":\"4258\",\"type\":\"UnionRenderers\"}},\"id\":\"4182\",\"type\":\"ColumnDataSource\"},{\"attributes\":{\"line_alpha\":0.1,\"line_color\":\"#1f77b4\",\"line_dash\":[6],\"x\":{\"field\":\"x\"},\"y\":{\"field\":\"y\"}},\"id\":\"4344\",\"type\":\"Line\"},{\"attributes\":{},\"id\":\"3884\",\"type\":\"Selection\"},{\"attributes\":{\"active_drag\":\"auto\",\"active_inspect\":\"auto\",\"active_multi\":null,\"active_scroll\":\"auto\",\"active_tap\":\"auto\",\"logo\":null,\"tools\":[{\"id\":\"3149\",\"type\":\"PanTool\"},{\"id\":\"3150\",\"type\":\"WheelZoomTool\"},{\"id\":\"3151\",\"type\":\"BoxZoomTool\"},{\"id\":\"3152\",\"type\":\"SaveTool\"},{\"id\":\"3153\",\"type\":\"ResetTool\"},{\"id\":\"3154\",\"type\":\"HelpTool\"}]},\"id\":\"3155\",\"type\":\"Toolbar\"},{\"attributes\":{\"line_alpha\":0.1,\"line_color\":\"#1f77b4\",\"line_dash\":[6],\"x\":{\"field\":\"x\"},\"y\":{\"field\":\"y\"}},\"id\":\"4184\",\"type\":\"Line\"},{\"attributes\":{},\"id\":\"3212\",\"type\":\"BasicTickFormatter\"},{\"attributes\":{\"callback\":null,\"data\":{},\"selected\":{\"id\":\"3217\",\"type\":\"Selection\"},\"selection_policy\":{\"id\":\"3216\",\"type\":\"UnionRenderers\"}},\"id\":\"3162\",\"type\":\"ColumnDataSource\"},{\"attributes\":{\"fill_color\":{\"value\":null},\"line_alpha\":{\"value\":0.5},\"line_dash\":[6],\"radius\":{\"units\":\"data\",\"value\":0.1},\"x\":{\"value\":0.5},\"y\":{\"value\":0.5}},\"id\":\"3333\",\"type\":\"Circle\"},{\"attributes\":{},\"id\":\"3214\",\"type\":\"BasicTickFormatter\"},{\"attributes\":{\"fill_color\":{\"value\":null},\"line_alpha\":{\"value\":0.5},\"radius\":{\"units\":\"data\",\"value\":0.5},\"x\":{\"value\":0.5},\"y\":{\"value\":0.5}},\"id\":\"3274\",\"type\":\"Circle\"},{\"attributes\":{},\"id\":\"3149\",\"type\":\"PanTool\"},{\"attributes\":{\"data_source\":{\"id\":\"3886\",\"type\":\"ColumnDataSource\"},\"glyph\":{\"id\":\"3887\",\"type\":\"Line\"},\"hover_glyph\":null,\"muted_glyph\":null,\"nonselection_glyph\":{\"id\":\"3888\",\"type\":\"Line\"},\"selection_glyph\":null,\"view\":{\"id\":\"3890\",\"type\":\"CDSView\"}},\"id\":\"3889\",\"type\":\"GlyphRenderer\"},{\"attributes\":{\"callback\":null,\"data\":{},\"selected\":{\"id\":\"3330\",\"type\":\"Selection\"},\"selection_policy\":{\"id\":\"3329\",\"type\":\"UnionRenderers\"}},\"id\":\"3273\",\"type\":\"ColumnDataSource\"},{\"attributes\":{\"formatter\":{\"id\":\"3212\",\"type\":\"BasicTickFormatter\"},\"ticker\":{\"id\":\"3145\",\"type\":\"BasicTicker\"},\"visible\":false},\"id\":\"3144\",\"type\":\"LinearAxis\"},{\"attributes\":{},\"id\":\"3150\",\"type\":\"WheelZoomTool\"},{\"attributes\":{\"callback\":null,\"data\":{},\"selected\":{\"id\":\"3391\",\"type\":\"Selection\"},\"selection_policy\":{\"id\":\"3390\",\"type\":\"UnionRenderers\"}},\"id\":\"3332\",\"type\":\"ColumnDataSource\"},{\"attributes\":{\"line_alpha\":0.1,\"line_color\":\"#1f77b4\",\"line_dash\":[6],\"x\":{\"field\":\"x\"},\"y\":{\"field\":\"y\"}},\"id\":\"3888\",\"type\":\"Line\"},{\"attributes\":{\"overlay\":{\"id\":\"3218\",\"type\":\"BoxAnnotation\"}},\"id\":\"3151\",\"type\":\"BoxZoomTool\"},{\"attributes\":{},\"id\":\"4339\",\"type\":\"UnionRenderers\"},{\"attributes\":{},\"id\":\"3152\",\"type\":\"SaveTool\"},{\"attributes\":{},\"id\":\"3585\",\"type\":\"UnionRenderers\"},{\"attributes\":{},\"id\":\"3135\",\"type\":\"LinearScale\"},{\"attributes\":{\"fill_alpha\":{\"value\":0.1},\"fill_color\":{\"value\":\"#1f77b4\"},\"line_alpha\":{\"value\":0.1},\"line_color\":{\"value\":\"#1f77b4\"},\"radius\":{\"units\":\"data\",\"value\":0.5},\"x\":{\"value\":0.5},\"y\":{\"value\":0.5}},\"id\":\"3275\",\"type\":\"Circle\"},{\"attributes\":{},\"id\":\"4340\",\"type\":\"Selection\"},{\"attributes\":{},\"id\":\"3153\",\"type\":\"ResetTool\"},{\"attributes\":{\"data_source\":{\"id\":\"3273\",\"type\":\"ColumnDataSource\"},\"glyph\":{\"id\":\"3274\",\"type\":\"Circle\"},\"hover_glyph\":null,\"muted_glyph\":null,\"nonselection_glyph\":{\"id\":\"3275\",\"type\":\"Circle\"},\"selection_glyph\":null,\"view\":{\"id\":\"3277\",\"type\":\"CDSView\"}},\"id\":\"3276\",\"type\":\"GlyphRenderer\"},{\"attributes\":{\"data_source\":{\"id\":\"3957\",\"type\":\"ColumnDataSource\"},\"glyph\":{\"id\":\"3958\",\"type\":\"Line\"},\"hover_glyph\":null,\"muted_glyph\":null,\"nonselection_glyph\":{\"id\":\"3959\",\"type\":\"Line\"},\"selection_glyph\":null,\"view\":{\"id\":\"3961\",\"type\":\"CDSView\"}},\"id\":\"3960\",\"type\":\"GlyphRenderer\"},{\"attributes\":{\"fill_alpha\":{\"value\":0.1},\"fill_color\":{\"value\":\"#1f77b4\"},\"line_alpha\":{\"value\":0.1},\"line_color\":{\"value\":\"#1f77b4\"},\"radius\":{\"units\":\"data\",\"value\":0.5},\"x\":{\"value\":0.5},\"y\":{\"value\":0.5}},\"id\":\"3164\",\"type\":\"Circle\"},{\"attributes\":{},\"id\":\"3154\",\"type\":\"HelpTool\"},{\"attributes\":{\"source\":{\"id\":\"3273\",\"type\":\"ColumnDataSource\"}},\"id\":\"3277\",\"type\":\"CDSView\"},{\"attributes\":{\"source\":{\"id\":\"3957\",\"type\":\"ColumnDataSource\"}},\"id\":\"3961\",\"type\":\"CDSView\"},{\"attributes\":{\"line_alpha\":0.5,\"line_dash\":[6],\"x\":{\"field\":\"x\"},\"y\":{\"field\":\"y\"}},\"id\":\"4031\",\"type\":\"Line\"},{\"attributes\":{\"callback\":null,\"data\":{},\"selected\":{\"id\":\"3454\",\"type\":\"Selection\"},\"selection_policy\":{\"id\":\"3453\",\"type\":\"UnionRenderers\"}},\"id\":\"3393\",\"type\":\"ColumnDataSource\"},{\"attributes\":{},\"id\":\"4027\",\"type\":\"UnionRenderers\"},{\"attributes\":{\"data_source\":{\"id\":\"3332\",\"type\":\"ColumnDataSource\"},\"glyph\":{\"id\":\"3333\",\"type\":\"Circle\"},\"hover_glyph\":null,\"muted_glyph\":null,\"nonselection_glyph\":{\"id\":\"3334\",\"type\":\"Circle\"},\"selection_glyph\":null,\"view\":{\"id\":\"3336\",\"type\":\"CDSView\"}},\"id\":\"3335\",\"type\":\"GlyphRenderer\"},{\"attributes\":{\"fill_color\":{\"value\":null},\"line_alpha\":{\"value\":0.5},\"radius\":{\"units\":\"data\",\"value\":0.5},\"x\":{\"value\":0.5},\"y\":{\"value\":0.5}},\"id\":\"3163\",\"type\":\"Circle\"},{\"attributes\":{\"line_alpha\":0.1,\"line_color\":\"#1f77b4\",\"line_dash\":[6],\"x\":{\"field\":\"x\"},\"y\":{\"field\":\"y\"}},\"id\":\"3959\",\"type\":\"Line\"},{\"attributes\":{\"formatter\":{\"id\":\"3214\",\"type\":\"BasicTickFormatter\"},\"ticker\":{\"id\":\"3140\",\"type\":\"BasicTicker\"},\"visible\":false},\"id\":\"3139\",\"type\":\"LinearAxis\"},{\"attributes\":{\"source\":{\"id\":\"3162\",\"type\":\"ColumnDataSource\"}},\"id\":\"3166\",\"type\":\"CDSView\"},{\"attributes\":{},\"id\":\"4028\",\"type\":\"Selection\"},{\"attributes\":{\"fill_alpha\":{\"value\":0.1},\"fill_color\":{\"value\":\"#1f77b4\"},\"line_alpha\":{\"value\":0.1},\"line_color\":{\"value\":\"#1f77b4\"},\"line_dash\":[6],\"radius\":{\"units\":\"data\",\"value\":0.3},\"x\":{\"value\":0.5},\"y\":{\"value\":0.5}},\"id\":\"3458\",\"type\":\"Circle\"},{\"attributes\":{},\"id\":\"3329\",\"type\":\"UnionRenderers\"},{\"attributes\":{\"line_alpha\":0.1,\"line_color\":\"#1f77b4\",\"line_dash\":[6],\"x\":{\"field\":\"x\"},\"y\":{\"field\":\"y\"}},\"id\":\"4032\",\"type\":\"Line\"},{\"attributes\":{\"data_source\":{\"id\":\"4030\",\"type\":\"ColumnDataSource\"},\"glyph\":{\"id\":\"4031\",\"type\":\"Line\"},\"hover_glyph\":null,\"muted_glyph\":null,\"nonselection_glyph\":{\"id\":\"4032\",\"type\":\"Line\"},\"selection_glyph\":null,\"view\":{\"id\":\"4034\",\"type\":\"CDSView\"}},\"id\":\"4033\",\"type\":\"GlyphRenderer\"},{\"attributes\":{},\"id\":\"3330\",\"type\":\"Selection\"},{\"attributes\":{\"data_source\":{\"id\":\"3162\",\"type\":\"ColumnDataSource\"},\"glyph\":{\"id\":\"3163\",\"type\":\"Circle\"},\"hover_glyph\":null,\"muted_glyph\":null,\"nonselection_glyph\":{\"id\":\"3164\",\"type\":\"Circle\"},\"selection_glyph\":null,\"view\":{\"id\":\"3166\",\"type\":\"CDSView\"}},\"id\":\"3165\",\"type\":\"GlyphRenderer\"},{\"attributes\":{},\"id\":\"3391\",\"type\":\"Selection\"},{\"attributes\":{\"source\":{\"id\":\"3886\",\"type\":\"ColumnDataSource\"}},\"id\":\"3890\",\"type\":\"CDSView\"},{\"attributes\":{\"source\":{\"id\":\"3332\",\"type\":\"ColumnDataSource\"}},\"id\":\"3336\",\"type\":\"CDSView\"},{\"attributes\":{\"fill_alpha\":{\"value\":0.1},\"fill_color\":{\"value\":\"#1f77b4\"},\"line_alpha\":{\"value\":0.1},\"line_color\":{\"value\":\"#1f77b4\"},\"line_dash\":[6],\"radius\":{\"units\":\"data\",\"value\":0.1},\"x\":{\"value\":0.5},\"y\":{\"value\":0.5}},\"id\":\"3334\",\"type\":\"Circle\"},{\"attributes\":{\"callback\":null,\"data\":{\"x\":[0.5,0.4999999999999999],\"y\":[0.5,0.0]},\"selected\":{\"id\":\"4180\",\"type\":\"Selection\"},\"selection_policy\":{\"id\":\"4179\",\"type\":\"UnionRenderers\"}},\"id\":\"4105\",\"type\":\"ColumnDataSource\"},{\"attributes\":{},\"id\":\"3217\",\"type\":\"Selection\"},{\"attributes\":{},\"id\":\"3137\",\"type\":\"LinearScale\"},{\"attributes\":{\"source\":{\"id\":\"3817\",\"type\":\"ColumnDataSource\"}},\"id\":\"3821\",\"type\":\"CDSView\"},{\"attributes\":{\"data_source\":{\"id\":\"4182\",\"type\":\"ColumnDataSource\"},\"glyph\":{\"id\":\"4183\",\"type\":\"Line\"},\"hover_glyph\":null,\"muted_glyph\":null,\"nonselection_glyph\":{\"id\":\"4184\",\"type\":\"Line\"},\"selection_glyph\":null,\"view\":{\"id\":\"4186\",\"type\":\"CDSView\"}},\"id\":\"4185\",\"type\":\"GlyphRenderer\"},{\"attributes\":{\"source\":{\"id\":\"4030\",\"type\":\"ColumnDataSource\"}},\"id\":\"4034\",\"type\":\"CDSView\"},{\"attributes\":{\"data_source\":{\"id\":\"3817\",\"type\":\"ColumnDataSource\"},\"glyph\":{\"id\":\"3818\",\"type\":\"Line\"},\"hover_glyph\":null,\"muted_glyph\":null,\"nonselection_glyph\":{\"id\":\"3819\",\"type\":\"Line\"},\"selection_glyph\":null,\"view\":{\"id\":\"3821\",\"type\":\"CDSView\"}},\"id\":\"3820\",\"type\":\"GlyphRenderer\"},{\"attributes\":{},\"id\":\"3140\",\"type\":\"BasicTicker\"},{\"attributes\":{\"fill_color\":{\"value\":null},\"line_alpha\":{\"value\":0.5},\"line_dash\":[6],\"radius\":{\"units\":\"data\",\"value\":0.2},\"x\":{\"value\":0.5},\"y\":{\"value\":0.5}},\"id\":\"3394\",\"type\":\"Circle\"},{\"attributes\":{\"line_alpha\":0.1,\"line_color\":\"#1f77b4\",\"line_dash\":[6],\"x\":{\"field\":\"x\"},\"y\":{\"field\":\"y\"}},\"id\":\"3819\",\"type\":\"Line\"},{\"attributes\":{},\"id\":\"4102\",\"type\":\"UnionRenderers\"},{\"attributes\":{\"callback\":null,\"data\":{\"x\":[0.5,0.14644660940672616],\"y\":[0.5,0.14644660940672627]},\"selected\":{\"id\":\"4103\",\"type\":\"Selection\"},\"selection_policy\":{\"id\":\"4102\",\"type\":\"UnionRenderers\"}},\"id\":\"4030\",\"type\":\"ColumnDataSource\"},{\"attributes\":{},\"id\":\"3518\",\"type\":\"UnionRenderers\"},{\"attributes\":{},\"id\":\"3519\",\"type\":\"Selection\"},{\"attributes\":{},\"id\":\"4103\",\"type\":\"Selection\"},{\"attributes\":{},\"id\":\"3390\",\"type\":\"UnionRenderers\"},{\"attributes\":{\"line_alpha\":0.5,\"line_dash\":[6],\"x\":{\"field\":\"x\"},\"y\":{\"field\":\"y\"}},\"id\":\"3958\",\"type\":\"Line\"},{\"attributes\":{\"ticker\":{\"id\":\"3140\",\"type\":\"BasicTicker\"},\"visible\":false},\"id\":\"3143\",\"type\":\"Grid\"},{\"attributes\":{\"source\":{\"id\":\"3456\",\"type\":\"ColumnDataSource\"}},\"id\":\"3460\",\"type\":\"CDSView\"},{\"attributes\":{\"line_alpha\":0.1,\"line_color\":\"#1f77b4\",\"line_dash\":[6],\"x\":{\"field\":\"x\"},\"y\":{\"field\":\"y\"}},\"id\":\"4107\",\"type\":\"Line\"},{\"attributes\":{},\"id\":\"4423\",\"type\":\"Selection\"},{\"attributes\":{\"data_source\":{\"id\":\"3393\",\"type\":\"ColumnDataSource\"},\"glyph\":{\"id\":\"3394\",\"type\":\"Circle\"},\"hover_glyph\":null,\"muted_glyph\":null,\"nonselection_glyph\":{\"id\":\"3395\",\"type\":\"Circle\"},\"selection_glyph\":null,\"view\":{\"id\":\"3397\",\"type\":\"CDSView\"}},\"id\":\"3396\",\"type\":\"GlyphRenderer\"},{\"attributes\":{\"data_source\":{\"id\":\"4105\",\"type\":\"ColumnDataSource\"},\"glyph\":{\"id\":\"4106\",\"type\":\"Line\"},\"hover_glyph\":null,\"muted_glyph\":null,\"nonselection_glyph\":{\"id\":\"4107\",\"type\":\"Line\"},\"selection_glyph\":null,\"view\":{\"id\":\"4109\",\"type\":\"CDSView\"}},\"id\":\"4108\",\"type\":\"GlyphRenderer\"},{\"attributes\":{\"source\":{\"id\":\"3393\",\"type\":\"ColumnDataSource\"}},\"id\":\"3397\",\"type\":\"CDSView\"},{\"attributes\":{\"fill_alpha\":{\"value\":0.1},\"fill_color\":{\"value\":\"#1f77b4\"},\"line_alpha\":{\"value\":0.1},\"line_color\":{\"value\":\"#1f77b4\"},\"line_dash\":[6],\"radius\":{\"units\":\"data\",\"value\":0.2},\"x\":{\"value\":0.5},\"y\":{\"value\":0.5}},\"id\":\"3395\",\"type\":\"Circle\"},{\"attributes\":{\"callback\":null,\"data\":{},\"selected\":{\"id\":\"3519\",\"type\":\"Selection\"},\"selection_policy\":{\"id\":\"3518\",\"type\":\"UnionRenderers\"}},\"id\":\"3456\",\"type\":\"ColumnDataSource\"},{\"attributes\":{},\"id\":\"3586\",\"type\":\"Selection\"},{\"attributes\":{\"source\":{\"id\":\"4105\",\"type\":\"ColumnDataSource\"}},\"id\":\"4109\",\"type\":\"CDSView\"},{\"attributes\":{\"line_alpha\":0.5,\"line_dash\":[6],\"x\":{\"field\":\"x\"},\"y\":{\"field\":\"y\"}},\"id\":\"3887\",\"type\":\"Line\"},{\"attributes\":{\"callback\":null,\"data\":{\"x\":[0.5,1.0],\"y\":[0.5,0.4999999999999999]},\"selected\":{\"id\":\"4340\",\"type\":\"Selection\"},\"selection_policy\":{\"id\":\"4339\",\"type\":\"UnionRenderers\"}},\"id\":\"4261\",\"type\":\"ColumnDataSource\"},{\"attributes\":{\"source\":{\"id\":\"4342\",\"type\":\"ColumnDataSource\"}},\"id\":\"4346\",\"type\":\"CDSView\"},{\"attributes\":{\"callback\":null,\"data\":{},\"selected\":{\"id\":\"3586\",\"type\":\"Selection\"},\"selection_policy\":{\"id\":\"3585\",\"type\":\"UnionRenderers\"}},\"id\":\"3521\",\"type\":\"ColumnDataSource\"},{\"attributes\":{},\"id\":\"3145\",\"type\":\"BasicTicker\"},{\"attributes\":{},\"id\":\"4179\",\"type\":\"UnionRenderers\"},{\"attributes\":{\"callback\":null},\"id\":\"3133\",\"type\":\"DataRange1d\"},{\"attributes\":{},\"id\":\"4180\",\"type\":\"Selection\"},{\"attributes\":{\"data_source\":{\"id\":\"4342\",\"type\":\"ColumnDataSource\"},\"glyph\":{\"id\":\"4343\",\"type\":\"Line\"},\"hover_glyph\":null,\"muted_glyph\":null,\"nonselection_glyph\":{\"id\":\"4344\",\"type\":\"Line\"},\"selection_glyph\":null,\"view\":{\"id\":\"4346\",\"type\":\"CDSView\"}},\"id\":\"4345\",\"type\":\"GlyphRenderer\"},{\"attributes\":{},\"id\":\"3453\",\"type\":\"UnionRenderers\"},{\"attributes\":{\"fill_color\":{\"value\":null},\"line_alpha\":{\"value\":0.5},\"line_dash\":[6],\"radius\":{\"units\":\"data\",\"value\":0.4},\"x\":{\"value\":0.5},\"y\":{\"value\":0.5}},\"id\":\"3522\",\"type\":\"Circle\"},{\"attributes\":{},\"id\":\"3454\",\"type\":\"Selection\"},{\"attributes\":{\"callback\":null,\"data\":{\"x\":[0.5,0.5],\"y\":[0.5,1.0]},\"selected\":{\"id\":\"3884\",\"type\":\"Selection\"},\"selection_policy\":{\"id\":\"3883\",\"type\":\"UnionRenderers\"}},\"id\":\"3817\",\"type\":\"ColumnDataSource\"},{\"attributes\":{\"line_alpha\":0.5,\"line_dash\":[6],\"x\":{\"field\":\"x\"},\"y\":{\"field\":\"y\"}},\"id\":\"3818\",\"type\":\"Line\"}],\"root_ids\":[\"3130\"]},\"title\":\"Bokeh Application\",\"version\":\"1.4.0\"}};\n",
       "  var render_items = [{\"docid\":\"1b44d499-c458-4540-bec0-5c2d585e12e9\",\"roots\":{\"3130\":\"703120f8-392d-4e3e-aafa-1a943fce321b\"}}];\n",
       "  root.Bokeh.embed.embed_items_notebook(docs_json, render_items);\n",
       "\n",
       "  }\n",
       "  if (root.Bokeh !== undefined) {\n",
       "    embed_document(root);\n",
       "  } else {\n",
       "    var attempts = 0;\n",
       "    var timer = setInterval(function(root) {\n",
       "      if (root.Bokeh !== undefined) {\n",
       "        clearInterval(timer);\n",
       "        embed_document(root);\n",
       "      } else {\n",
       "        attempts++;\n",
       "        if (attempts > 100) {\n",
       "          clearInterval(timer);\n",
       "          console.log(\"Bokeh: ERROR: Unable to run BokehJS code because BokehJS library is missing\");\n",
       "        }\n",
       "      }\n",
       "    }, 10, root)\n",
       "  }\n",
       "})(window);"
      ],
      "application/vnd.bokehjs_exec.v0+json": ""
     },
     "metadata": {
      "application/vnd.bokehjs_exec.v0+json": {
       "id": "3130"
      }
     },
     "output_type": "display_data"
    }
   ],
   "source": [
    "# Draw concentrical lines\n",
    "# =======================\n",
    "for i,j in zip(x,y):\n",
    "    p.line(x=[centre,i],y=[centre,j], line_color='black', line_dash='dashed', line_alpha=0.5)\n",
    "show(p)"
   ]
  },
  {
   "cell_type": "markdown",
   "metadata": {},
   "source": [
    "### 6. Add Labels and hovering capabilities to axes"
   ]
  },
  {
   "cell_type": "code",
   "execution_count": 21,
   "metadata": {},
   "outputs": [
    {
     "data": {
      "text/html": [
       "\n",
       "\n",
       "\n",
       "\n",
       "\n",
       "\n",
       "  <div class=\"bk-root\" id=\"02cf75ab-fad8-4357-8b23-b61390808e49\" data-root-id=\"3130\"></div>\n"
      ]
     },
     "metadata": {},
     "output_type": "display_data"
    },
    {
     "data": {
      "application/javascript": [
       "(function(root) {\n",
       "  function embed_document(root) {\n",
       "    \n",
       "  var docs_json = {\"3b7913ac-9975-42db-925b-8372fdc0ef5d\":{\"roots\":{\"references\":[{\"attributes\":{\"below\":[{\"id\":\"3139\",\"type\":\"LinearAxis\"}],\"center\":[{\"id\":\"3143\",\"type\":\"Grid\"},{\"id\":\"3148\",\"type\":\"Grid\"}],\"left\":[{\"id\":\"3144\",\"type\":\"LinearAxis\"}],\"match_aspect\":true,\"renderers\":[{\"id\":\"3165\",\"type\":\"GlyphRenderer\"},{\"id\":\"3276\",\"type\":\"GlyphRenderer\"},{\"id\":\"3335\",\"type\":\"GlyphRenderer\"},{\"id\":\"3396\",\"type\":\"GlyphRenderer\"},{\"id\":\"3459\",\"type\":\"GlyphRenderer\"},{\"id\":\"3524\",\"type\":\"GlyphRenderer\"},{\"id\":\"3820\",\"type\":\"GlyphRenderer\"},{\"id\":\"3889\",\"type\":\"GlyphRenderer\"},{\"id\":\"3960\",\"type\":\"GlyphRenderer\"},{\"id\":\"4033\",\"type\":\"GlyphRenderer\"},{\"id\":\"4108\",\"type\":\"GlyphRenderer\"},{\"id\":\"4185\",\"type\":\"GlyphRenderer\"},{\"id\":\"4264\",\"type\":\"GlyphRenderer\"},{\"id\":\"4345\",\"type\":\"GlyphRenderer\"},{\"id\":\"4639\",\"type\":\"GlyphRenderer\"}],\"title\":{\"id\":\"3210\",\"type\":\"Title\"},\"toolbar\":{\"id\":\"3155\",\"type\":\"Toolbar\"},\"toolbar_location\":\"below\",\"x_range\":{\"id\":\"3131\",\"type\":\"DataRange1d\"},\"x_scale\":{\"id\":\"3135\",\"type\":\"LinearScale\"},\"y_range\":{\"id\":\"3133\",\"type\":\"DataRange1d\"},\"y_scale\":{\"id\":\"3137\",\"type\":\"LinearScale\"}},\"id\":\"3130\",\"subtype\":\"Figure\",\"type\":\"Plot\"},{\"attributes\":{},\"id\":\"4259\",\"type\":\"Selection\"},{\"attributes\":{\"line_alpha\":0.5,\"line_dash\":[6],\"x\":{\"field\":\"x\"},\"y\":{\"field\":\"y\"}},\"id\":\"4106\",\"type\":\"Line\"},{\"attributes\":{\"callback\":null},\"id\":\"3131\",\"type\":\"DataRange1d\"},{\"attributes\":{\"bottom_units\":\"screen\",\"fill_alpha\":{\"value\":0.5},\"fill_color\":{\"value\":\"lightgrey\"},\"left_units\":\"screen\",\"level\":\"overlay\",\"line_alpha\":{\"value\":1.0},\"line_color\":{\"value\":\"black\"},\"line_dash\":[4,4],\"line_width\":{\"value\":2},\"render_mode\":\"css\",\"right_units\":\"screen\",\"top_units\":\"screen\"},\"id\":\"3218\",\"type\":\"BoxAnnotation\"},{\"attributes\":{\"fill_alpha\":{\"value\":0.1},\"fill_color\":{\"value\":\"#1f77b4\"},\"line_alpha\":{\"value\":0.1},\"line_color\":{\"value\":\"#1f77b4\"},\"line_dash\":[6],\"radius\":{\"units\":\"data\",\"value\":0.4},\"x\":{\"value\":0.5},\"y\":{\"value\":0.5}},\"id\":\"3523\",\"type\":\"Circle\"},{\"attributes\":{\"line_alpha\":0.1,\"line_color\":\"#1f77b4\",\"line_dash\":[6],\"x\":{\"field\":\"x\"},\"y\":{\"field\":\"y\"}},\"id\":\"4263\",\"type\":\"Line\"},{\"attributes\":{\"data_source\":{\"id\":\"4261\",\"type\":\"ColumnDataSource\"},\"glyph\":{\"id\":\"4262\",\"type\":\"Line\"},\"hover_glyph\":null,\"muted_glyph\":null,\"nonselection_glyph\":{\"id\":\"4263\",\"type\":\"Line\"},\"selection_glyph\":null,\"view\":{\"id\":\"4265\",\"type\":\"CDSView\"}},\"id\":\"4264\",\"type\":\"GlyphRenderer\"},{\"attributes\":{\"source\":{\"id\":\"4261\",\"type\":\"ColumnDataSource\"}},\"id\":\"4265\",\"type\":\"CDSView\"},{\"attributes\":{},\"id\":\"3955\",\"type\":\"Selection\"},{\"attributes\":{\"line_alpha\":0.5,\"line_dash\":[6],\"x\":{\"field\":\"x\"},\"y\":{\"field\":\"y\"}},\"id\":\"4343\",\"type\":\"Line\"},{\"attributes\":{},\"id\":\"4718\",\"type\":\"UnionRenderers\"},{\"attributes\":{\"callback\":null,\"data\":{\"desc\":[\"What was the modality of the task\",\"Was was the difficulty of the task\",\"What was the valence of the task\",\"How interesting was the task\",\"Was the task too repetitive\",\"Would you change the timing of the task\",\"Would you recommend the task to your colleagues?\",\"Were you aware of body motion associated with the task\"],\"x\":[0.5,0.14644660940672627,0.0,0.14644660940672616,0.4999999999999999,0.8535533905932737,1.0,0.8535533905932738],\"y\":[1.0,0.8535533905932737,0.5000000000000001,0.14644660940672627,0.0,0.14644660940672616,0.4999999999999999,0.8535533905932737]},\"selected\":{\"id\":\"4719\",\"type\":\"Selection\"},\"selection_policy\":{\"id\":\"4718\",\"type\":\"UnionRenderers\"}},\"id\":\"4635\",\"type\":\"ColumnDataSource\"},{\"attributes\":{\"fill_color\":{\"value\":\"black\"},\"x\":{\"field\":\"x\"},\"y\":{\"field\":\"y\"}},\"id\":\"4637\",\"type\":\"Circle\"},{\"attributes\":{\"line_alpha\":0.5,\"line_dash\":[6],\"x\":{\"field\":\"x\"},\"y\":{\"field\":\"y\"}},\"id\":\"4262\",\"type\":\"Line\"},{\"attributes\":{\"data_source\":{\"id\":\"3456\",\"type\":\"ColumnDataSource\"},\"glyph\":{\"id\":\"3457\",\"type\":\"Circle\"},\"hover_glyph\":null,\"muted_glyph\":null,\"nonselection_glyph\":{\"id\":\"3458\",\"type\":\"Circle\"},\"selection_glyph\":null,\"view\":{\"id\":\"3460\",\"type\":\"CDSView\"}},\"id\":\"3459\",\"type\":\"GlyphRenderer\"},{\"attributes\":{\"data_source\":{\"id\":\"3521\",\"type\":\"ColumnDataSource\"},\"glyph\":{\"id\":\"3522\",\"type\":\"Circle\"},\"hover_glyph\":null,\"muted_glyph\":null,\"nonselection_glyph\":{\"id\":\"3523\",\"type\":\"Circle\"},\"selection_glyph\":null,\"view\":{\"id\":\"3525\",\"type\":\"CDSView\"}},\"id\":\"3524\",\"type\":\"GlyphRenderer\"},{\"attributes\":{\"callback\":null,\"data\":{\"x\":[0.5,0.0],\"y\":[0.5,0.5000000000000001]},\"selected\":{\"id\":\"4028\",\"type\":\"Selection\"},\"selection_policy\":{\"id\":\"4027\",\"type\":\"UnionRenderers\"}},\"id\":\"3957\",\"type\":\"ColumnDataSource\"},{\"attributes\":{\"source\":{\"id\":\"4635\",\"type\":\"ColumnDataSource\"}},\"id\":\"4640\",\"type\":\"CDSView\"},{\"attributes\":{\"text\":\"\"},\"id\":\"3210\",\"type\":\"Title\"},{\"attributes\":{\"fill_alpha\":{\"value\":0.1},\"fill_color\":{\"value\":\"#1f77b4\"},\"line_alpha\":{\"value\":0.1},\"line_color\":{\"value\":\"#1f77b4\"},\"x\":{\"field\":\"x\"},\"y\":{\"field\":\"y\"}},\"id\":\"4638\",\"type\":\"Circle\"},{\"attributes\":{},\"id\":\"3954\",\"type\":\"UnionRenderers\"},{\"attributes\":{\"data_source\":{\"id\":\"4635\",\"type\":\"ColumnDataSource\"},\"glyph\":{\"id\":\"4637\",\"type\":\"Circle\"},\"hover_glyph\":null,\"muted_glyph\":null,\"nonselection_glyph\":{\"id\":\"4638\",\"type\":\"Circle\"},\"selection_glyph\":null,\"view\":{\"id\":\"4640\",\"type\":\"CDSView\"}},\"id\":\"4639\",\"type\":\"GlyphRenderer\"},{\"attributes\":{},\"id\":\"4719\",\"type\":\"Selection\"},{\"attributes\":{\"source\":{\"id\":\"3521\",\"type\":\"ColumnDataSource\"}},\"id\":\"3525\",\"type\":\"CDSView\"},{\"attributes\":{},\"id\":\"4258\",\"type\":\"UnionRenderers\"},{\"attributes\":{\"callback\":null,\"data\":{\"x\":[0.5,0.8535533905932738],\"y\":[0.5,0.8535533905932737]},\"selected\":{\"id\":\"4423\",\"type\":\"Selection\"},\"selection_policy\":{\"id\":\"4422\",\"type\":\"UnionRenderers\"}},\"id\":\"4342\",\"type\":\"ColumnDataSource\"},{\"attributes\":{\"fill_color\":{\"value\":null},\"line_alpha\":{\"value\":0.5},\"line_dash\":[6],\"radius\":{\"units\":\"data\",\"value\":0.3},\"x\":{\"value\":0.5},\"y\":{\"value\":0.5}},\"id\":\"3457\",\"type\":\"Circle\"},{\"attributes\":{\"line_alpha\":0.5,\"line_dash\":[6],\"x\":{\"field\":\"x\"},\"y\":{\"field\":\"y\"}},\"id\":\"4183\",\"type\":\"Line\"},{\"attributes\":{\"dimension\":1,\"ticker\":{\"id\":\"3145\",\"type\":\"BasicTicker\"},\"visible\":false},\"id\":\"3148\",\"type\":\"Grid\"},{\"attributes\":{\"source\":{\"id\":\"4182\",\"type\":\"ColumnDataSource\"}},\"id\":\"4186\",\"type\":\"CDSView\"},{\"attributes\":{},\"id\":\"3216\",\"type\":\"UnionRenderers\"},{\"attributes\":{},\"id\":\"3883\",\"type\":\"UnionRenderers\"},{\"attributes\":{},\"id\":\"4422\",\"type\":\"UnionRenderers\"},{\"attributes\":{\"callback\":null,\"data\":{\"x\":[0.5,0.14644660940672627],\"y\":[0.5,0.8535533905932737]},\"selected\":{\"id\":\"3955\",\"type\":\"Selection\"},\"selection_policy\":{\"id\":\"3954\",\"type\":\"UnionRenderers\"}},\"id\":\"3886\",\"type\":\"ColumnDataSource\"},{\"attributes\":{\"callback\":null,\"data\":{\"x\":[0.5,0.8535533905932737],\"y\":[0.5,0.14644660940672616]},\"selected\":{\"id\":\"4259\",\"type\":\"Selection\"},\"selection_policy\":{\"id\":\"4258\",\"type\":\"UnionRenderers\"}},\"id\":\"4182\",\"type\":\"ColumnDataSource\"},{\"attributes\":{\"line_alpha\":0.1,\"line_color\":\"#1f77b4\",\"line_dash\":[6],\"x\":{\"field\":\"x\"},\"y\":{\"field\":\"y\"}},\"id\":\"4344\",\"type\":\"Line\"},{\"attributes\":{},\"id\":\"3884\",\"type\":\"Selection\"},{\"attributes\":{\"active_drag\":\"auto\",\"active_inspect\":\"auto\",\"active_multi\":null,\"active_scroll\":\"auto\",\"active_tap\":\"auto\",\"logo\":null,\"tools\":[{\"id\":\"3149\",\"type\":\"PanTool\"},{\"id\":\"3150\",\"type\":\"WheelZoomTool\"},{\"id\":\"3151\",\"type\":\"BoxZoomTool\"},{\"id\":\"3152\",\"type\":\"SaveTool\"},{\"id\":\"3153\",\"type\":\"ResetTool\"},{\"id\":\"3154\",\"type\":\"HelpTool\"},{\"id\":\"4721\",\"type\":\"HoverTool\"}]},\"id\":\"3155\",\"type\":\"Toolbar\"},{\"attributes\":{\"line_alpha\":0.1,\"line_color\":\"#1f77b4\",\"line_dash\":[6],\"x\":{\"field\":\"x\"},\"y\":{\"field\":\"y\"}},\"id\":\"4184\",\"type\":\"Line\"},{\"attributes\":{},\"id\":\"3212\",\"type\":\"BasicTickFormatter\"},{\"attributes\":{\"callback\":null,\"data\":{},\"selected\":{\"id\":\"3217\",\"type\":\"Selection\"},\"selection_policy\":{\"id\":\"3216\",\"type\":\"UnionRenderers\"}},\"id\":\"3162\",\"type\":\"ColumnDataSource\"},{\"attributes\":{\"fill_color\":{\"value\":null},\"line_alpha\":{\"value\":0.5},\"line_dash\":[6],\"radius\":{\"units\":\"data\",\"value\":0.1},\"x\":{\"value\":0.5},\"y\":{\"value\":0.5}},\"id\":\"3333\",\"type\":\"Circle\"},{\"attributes\":{},\"id\":\"3214\",\"type\":\"BasicTickFormatter\"},{\"attributes\":{\"fill_color\":{\"value\":null},\"line_alpha\":{\"value\":0.5},\"radius\":{\"units\":\"data\",\"value\":0.5},\"x\":{\"value\":0.5},\"y\":{\"value\":0.5}},\"id\":\"3274\",\"type\":\"Circle\"},{\"attributes\":{},\"id\":\"3149\",\"type\":\"PanTool\"},{\"attributes\":{\"data_source\":{\"id\":\"3886\",\"type\":\"ColumnDataSource\"},\"glyph\":{\"id\":\"3887\",\"type\":\"Line\"},\"hover_glyph\":null,\"muted_glyph\":null,\"nonselection_glyph\":{\"id\":\"3888\",\"type\":\"Line\"},\"selection_glyph\":null,\"view\":{\"id\":\"3890\",\"type\":\"CDSView\"}},\"id\":\"3889\",\"type\":\"GlyphRenderer\"},{\"attributes\":{\"callback\":null,\"data\":{},\"selected\":{\"id\":\"3330\",\"type\":\"Selection\"},\"selection_policy\":{\"id\":\"3329\",\"type\":\"UnionRenderers\"}},\"id\":\"3273\",\"type\":\"ColumnDataSource\"},{\"attributes\":{\"formatter\":{\"id\":\"3212\",\"type\":\"BasicTickFormatter\"},\"ticker\":{\"id\":\"3145\",\"type\":\"BasicTicker\"},\"visible\":false},\"id\":\"3144\",\"type\":\"LinearAxis\"},{\"attributes\":{},\"id\":\"3150\",\"type\":\"WheelZoomTool\"},{\"attributes\":{\"callback\":null,\"data\":{},\"selected\":{\"id\":\"3391\",\"type\":\"Selection\"},\"selection_policy\":{\"id\":\"3390\",\"type\":\"UnionRenderers\"}},\"id\":\"3332\",\"type\":\"ColumnDataSource\"},{\"attributes\":{\"line_alpha\":0.1,\"line_color\":\"#1f77b4\",\"line_dash\":[6],\"x\":{\"field\":\"x\"},\"y\":{\"field\":\"y\"}},\"id\":\"3888\",\"type\":\"Line\"},{\"attributes\":{\"overlay\":{\"id\":\"3218\",\"type\":\"BoxAnnotation\"}},\"id\":\"3151\",\"type\":\"BoxZoomTool\"},{\"attributes\":{},\"id\":\"4339\",\"type\":\"UnionRenderers\"},{\"attributes\":{},\"id\":\"3152\",\"type\":\"SaveTool\"},{\"attributes\":{},\"id\":\"3585\",\"type\":\"UnionRenderers\"},{\"attributes\":{},\"id\":\"3135\",\"type\":\"LinearScale\"},{\"attributes\":{\"fill_alpha\":{\"value\":0.1},\"fill_color\":{\"value\":\"#1f77b4\"},\"line_alpha\":{\"value\":0.1},\"line_color\":{\"value\":\"#1f77b4\"},\"radius\":{\"units\":\"data\",\"value\":0.5},\"x\":{\"value\":0.5},\"y\":{\"value\":0.5}},\"id\":\"3275\",\"type\":\"Circle\"},{\"attributes\":{},\"id\":\"4340\",\"type\":\"Selection\"},{\"attributes\":{},\"id\":\"3153\",\"type\":\"ResetTool\"},{\"attributes\":{\"data_source\":{\"id\":\"3273\",\"type\":\"ColumnDataSource\"},\"glyph\":{\"id\":\"3274\",\"type\":\"Circle\"},\"hover_glyph\":null,\"muted_glyph\":null,\"nonselection_glyph\":{\"id\":\"3275\",\"type\":\"Circle\"},\"selection_glyph\":null,\"view\":{\"id\":\"3277\",\"type\":\"CDSView\"}},\"id\":\"3276\",\"type\":\"GlyphRenderer\"},{\"attributes\":{\"data_source\":{\"id\":\"3957\",\"type\":\"ColumnDataSource\"},\"glyph\":{\"id\":\"3958\",\"type\":\"Line\"},\"hover_glyph\":null,\"muted_glyph\":null,\"nonselection_glyph\":{\"id\":\"3959\",\"type\":\"Line\"},\"selection_glyph\":null,\"view\":{\"id\":\"3961\",\"type\":\"CDSView\"}},\"id\":\"3960\",\"type\":\"GlyphRenderer\"},{\"attributes\":{\"fill_alpha\":{\"value\":0.1},\"fill_color\":{\"value\":\"#1f77b4\"},\"line_alpha\":{\"value\":0.1},\"line_color\":{\"value\":\"#1f77b4\"},\"radius\":{\"units\":\"data\",\"value\":0.5},\"x\":{\"value\":0.5},\"y\":{\"value\":0.5}},\"id\":\"3164\",\"type\":\"Circle\"},{\"attributes\":{},\"id\":\"3154\",\"type\":\"HelpTool\"},{\"attributes\":{\"source\":{\"id\":\"3273\",\"type\":\"ColumnDataSource\"}},\"id\":\"3277\",\"type\":\"CDSView\"},{\"attributes\":{\"source\":{\"id\":\"3957\",\"type\":\"ColumnDataSource\"}},\"id\":\"3961\",\"type\":\"CDSView\"},{\"attributes\":{\"line_alpha\":0.5,\"line_dash\":[6],\"x\":{\"field\":\"x\"},\"y\":{\"field\":\"y\"}},\"id\":\"4031\",\"type\":\"Line\"},{\"attributes\":{\"callback\":null,\"data\":{},\"selected\":{\"id\":\"3454\",\"type\":\"Selection\"},\"selection_policy\":{\"id\":\"3453\",\"type\":\"UnionRenderers\"}},\"id\":\"3393\",\"type\":\"ColumnDataSource\"},{\"attributes\":{},\"id\":\"4027\",\"type\":\"UnionRenderers\"},{\"attributes\":{\"data_source\":{\"id\":\"3332\",\"type\":\"ColumnDataSource\"},\"glyph\":{\"id\":\"3333\",\"type\":\"Circle\"},\"hover_glyph\":null,\"muted_glyph\":null,\"nonselection_glyph\":{\"id\":\"3334\",\"type\":\"Circle\"},\"selection_glyph\":null,\"view\":{\"id\":\"3336\",\"type\":\"CDSView\"}},\"id\":\"3335\",\"type\":\"GlyphRenderer\"},{\"attributes\":{\"fill_color\":{\"value\":null},\"line_alpha\":{\"value\":0.5},\"radius\":{\"units\":\"data\",\"value\":0.5},\"x\":{\"value\":0.5},\"y\":{\"value\":0.5}},\"id\":\"3163\",\"type\":\"Circle\"},{\"attributes\":{\"line_alpha\":0.1,\"line_color\":\"#1f77b4\",\"line_dash\":[6],\"x\":{\"field\":\"x\"},\"y\":{\"field\":\"y\"}},\"id\":\"3959\",\"type\":\"Line\"},{\"attributes\":{\"formatter\":{\"id\":\"3214\",\"type\":\"BasicTickFormatter\"},\"ticker\":{\"id\":\"3140\",\"type\":\"BasicTicker\"},\"visible\":false},\"id\":\"3139\",\"type\":\"LinearAxis\"},{\"attributes\":{\"source\":{\"id\":\"3162\",\"type\":\"ColumnDataSource\"}},\"id\":\"3166\",\"type\":\"CDSView\"},{\"attributes\":{},\"id\":\"4028\",\"type\":\"Selection\"},{\"attributes\":{\"fill_alpha\":{\"value\":0.1},\"fill_color\":{\"value\":\"#1f77b4\"},\"line_alpha\":{\"value\":0.1},\"line_color\":{\"value\":\"#1f77b4\"},\"line_dash\":[6],\"radius\":{\"units\":\"data\",\"value\":0.3},\"x\":{\"value\":0.5},\"y\":{\"value\":0.5}},\"id\":\"3458\",\"type\":\"Circle\"},{\"attributes\":{},\"id\":\"3329\",\"type\":\"UnionRenderers\"},{\"attributes\":{\"line_alpha\":0.1,\"line_color\":\"#1f77b4\",\"line_dash\":[6],\"x\":{\"field\":\"x\"},\"y\":{\"field\":\"y\"}},\"id\":\"4032\",\"type\":\"Line\"},{\"attributes\":{\"data_source\":{\"id\":\"4030\",\"type\":\"ColumnDataSource\"},\"glyph\":{\"id\":\"4031\",\"type\":\"Line\"},\"hover_glyph\":null,\"muted_glyph\":null,\"nonselection_glyph\":{\"id\":\"4032\",\"type\":\"Line\"},\"selection_glyph\":null,\"view\":{\"id\":\"4034\",\"type\":\"CDSView\"}},\"id\":\"4033\",\"type\":\"GlyphRenderer\"},{\"attributes\":{},\"id\":\"3330\",\"type\":\"Selection\"},{\"attributes\":{\"data_source\":{\"id\":\"3162\",\"type\":\"ColumnDataSource\"},\"glyph\":{\"id\":\"3163\",\"type\":\"Circle\"},\"hover_glyph\":null,\"muted_glyph\":null,\"nonselection_glyph\":{\"id\":\"3164\",\"type\":\"Circle\"},\"selection_glyph\":null,\"view\":{\"id\":\"3166\",\"type\":\"CDSView\"}},\"id\":\"3165\",\"type\":\"GlyphRenderer\"},{\"attributes\":{},\"id\":\"3391\",\"type\":\"Selection\"},{\"attributes\":{\"source\":{\"id\":\"3886\",\"type\":\"ColumnDataSource\"}},\"id\":\"3890\",\"type\":\"CDSView\"},{\"attributes\":{\"source\":{\"id\":\"3332\",\"type\":\"ColumnDataSource\"}},\"id\":\"3336\",\"type\":\"CDSView\"},{\"attributes\":{\"fill_alpha\":{\"value\":0.1},\"fill_color\":{\"value\":\"#1f77b4\"},\"line_alpha\":{\"value\":0.1},\"line_color\":{\"value\":\"#1f77b4\"},\"line_dash\":[6],\"radius\":{\"units\":\"data\",\"value\":0.1},\"x\":{\"value\":0.5},\"y\":{\"value\":0.5}},\"id\":\"3334\",\"type\":\"Circle\"},{\"attributes\":{\"callback\":null,\"data\":{\"x\":[0.5,0.4999999999999999],\"y\":[0.5,0.0]},\"selected\":{\"id\":\"4180\",\"type\":\"Selection\"},\"selection_policy\":{\"id\":\"4179\",\"type\":\"UnionRenderers\"}},\"id\":\"4105\",\"type\":\"ColumnDataSource\"},{\"attributes\":{},\"id\":\"3217\",\"type\":\"Selection\"},{\"attributes\":{},\"id\":\"3137\",\"type\":\"LinearScale\"},{\"attributes\":{\"source\":{\"id\":\"3817\",\"type\":\"ColumnDataSource\"}},\"id\":\"3821\",\"type\":\"CDSView\"},{\"attributes\":{\"data_source\":{\"id\":\"4182\",\"type\":\"ColumnDataSource\"},\"glyph\":{\"id\":\"4183\",\"type\":\"Line\"},\"hover_glyph\":null,\"muted_glyph\":null,\"nonselection_glyph\":{\"id\":\"4184\",\"type\":\"Line\"},\"selection_glyph\":null,\"view\":{\"id\":\"4186\",\"type\":\"CDSView\"}},\"id\":\"4185\",\"type\":\"GlyphRenderer\"},{\"attributes\":{\"source\":{\"id\":\"4030\",\"type\":\"ColumnDataSource\"}},\"id\":\"4034\",\"type\":\"CDSView\"},{\"attributes\":{\"data_source\":{\"id\":\"3817\",\"type\":\"ColumnDataSource\"},\"glyph\":{\"id\":\"3818\",\"type\":\"Line\"},\"hover_glyph\":null,\"muted_glyph\":null,\"nonselection_glyph\":{\"id\":\"3819\",\"type\":\"Line\"},\"selection_glyph\":null,\"view\":{\"id\":\"3821\",\"type\":\"CDSView\"}},\"id\":\"3820\",\"type\":\"GlyphRenderer\"},{\"attributes\":{},\"id\":\"3140\",\"type\":\"BasicTicker\"},{\"attributes\":{\"fill_color\":{\"value\":null},\"line_alpha\":{\"value\":0.5},\"line_dash\":[6],\"radius\":{\"units\":\"data\",\"value\":0.2},\"x\":{\"value\":0.5},\"y\":{\"value\":0.5}},\"id\":\"3394\",\"type\":\"Circle\"},{\"attributes\":{\"line_alpha\":0.1,\"line_color\":\"#1f77b4\",\"line_dash\":[6],\"x\":{\"field\":\"x\"},\"y\":{\"field\":\"y\"}},\"id\":\"3819\",\"type\":\"Line\"},{\"attributes\":{},\"id\":\"4102\",\"type\":\"UnionRenderers\"},{\"attributes\":{\"callback\":null,\"data\":{\"x\":[0.5,0.14644660940672616],\"y\":[0.5,0.14644660940672627]},\"selected\":{\"id\":\"4103\",\"type\":\"Selection\"},\"selection_policy\":{\"id\":\"4102\",\"type\":\"UnionRenderers\"}},\"id\":\"4030\",\"type\":\"ColumnDataSource\"},{\"attributes\":{},\"id\":\"3518\",\"type\":\"UnionRenderers\"},{\"attributes\":{},\"id\":\"3519\",\"type\":\"Selection\"},{\"attributes\":{},\"id\":\"4103\",\"type\":\"Selection\"},{\"attributes\":{},\"id\":\"3390\",\"type\":\"UnionRenderers\"},{\"attributes\":{\"line_alpha\":0.5,\"line_dash\":[6],\"x\":{\"field\":\"x\"},\"y\":{\"field\":\"y\"}},\"id\":\"3958\",\"type\":\"Line\"},{\"attributes\":{\"ticker\":{\"id\":\"3140\",\"type\":\"BasicTicker\"},\"visible\":false},\"id\":\"3143\",\"type\":\"Grid\"},{\"attributes\":{\"source\":{\"id\":\"3456\",\"type\":\"ColumnDataSource\"}},\"id\":\"3460\",\"type\":\"CDSView\"},{\"attributes\":{\"line_alpha\":0.1,\"line_color\":\"#1f77b4\",\"line_dash\":[6],\"x\":{\"field\":\"x\"},\"y\":{\"field\":\"y\"}},\"id\":\"4107\",\"type\":\"Line\"},{\"attributes\":{},\"id\":\"4423\",\"type\":\"Selection\"},{\"attributes\":{\"data_source\":{\"id\":\"3393\",\"type\":\"ColumnDataSource\"},\"glyph\":{\"id\":\"3394\",\"type\":\"Circle\"},\"hover_glyph\":null,\"muted_glyph\":null,\"nonselection_glyph\":{\"id\":\"3395\",\"type\":\"Circle\"},\"selection_glyph\":null,\"view\":{\"id\":\"3397\",\"type\":\"CDSView\"}},\"id\":\"3396\",\"type\":\"GlyphRenderer\"},{\"attributes\":{\"data_source\":{\"id\":\"4105\",\"type\":\"ColumnDataSource\"},\"glyph\":{\"id\":\"4106\",\"type\":\"Line\"},\"hover_glyph\":null,\"muted_glyph\":null,\"nonselection_glyph\":{\"id\":\"4107\",\"type\":\"Line\"},\"selection_glyph\":null,\"view\":{\"id\":\"4109\",\"type\":\"CDSView\"}},\"id\":\"4108\",\"type\":\"GlyphRenderer\"},{\"attributes\":{\"source\":{\"id\":\"3393\",\"type\":\"ColumnDataSource\"}},\"id\":\"3397\",\"type\":\"CDSView\"},{\"attributes\":{\"fill_alpha\":{\"value\":0.1},\"fill_color\":{\"value\":\"#1f77b4\"},\"line_alpha\":{\"value\":0.1},\"line_color\":{\"value\":\"#1f77b4\"},\"line_dash\":[6],\"radius\":{\"units\":\"data\",\"value\":0.2},\"x\":{\"value\":0.5},\"y\":{\"value\":0.5}},\"id\":\"3395\",\"type\":\"Circle\"},{\"attributes\":{\"callback\":null,\"data\":{},\"selected\":{\"id\":\"3519\",\"type\":\"Selection\"},\"selection_policy\":{\"id\":\"3518\",\"type\":\"UnionRenderers\"}},\"id\":\"3456\",\"type\":\"ColumnDataSource\"},{\"attributes\":{},\"id\":\"3586\",\"type\":\"Selection\"},{\"attributes\":{\"source\":{\"id\":\"4105\",\"type\":\"ColumnDataSource\"}},\"id\":\"4109\",\"type\":\"CDSView\"},{\"attributes\":{\"line_alpha\":0.5,\"line_dash\":[6],\"x\":{\"field\":\"x\"},\"y\":{\"field\":\"y\"}},\"id\":\"3887\",\"type\":\"Line\"},{\"attributes\":{\"callback\":null,\"data\":{\"x\":[0.5,1.0],\"y\":[0.5,0.4999999999999999]},\"selected\":{\"id\":\"4340\",\"type\":\"Selection\"},\"selection_policy\":{\"id\":\"4339\",\"type\":\"UnionRenderers\"}},\"id\":\"4261\",\"type\":\"ColumnDataSource\"},{\"attributes\":{\"source\":{\"id\":\"4342\",\"type\":\"ColumnDataSource\"}},\"id\":\"4346\",\"type\":\"CDSView\"},{\"attributes\":{\"callback\":null,\"data\":{},\"selected\":{\"id\":\"3586\",\"type\":\"Selection\"},\"selection_policy\":{\"id\":\"3585\",\"type\":\"UnionRenderers\"}},\"id\":\"3521\",\"type\":\"ColumnDataSource\"},{\"attributes\":{},\"id\":\"3145\",\"type\":\"BasicTicker\"},{\"attributes\":{},\"id\":\"4179\",\"type\":\"UnionRenderers\"},{\"attributes\":{\"callback\":null},\"id\":\"3133\",\"type\":\"DataRange1d\"},{\"attributes\":{},\"id\":\"4180\",\"type\":\"Selection\"},{\"attributes\":{\"data_source\":{\"id\":\"4342\",\"type\":\"ColumnDataSource\"},\"glyph\":{\"id\":\"4343\",\"type\":\"Line\"},\"hover_glyph\":null,\"muted_glyph\":null,\"nonselection_glyph\":{\"id\":\"4344\",\"type\":\"Line\"},\"selection_glyph\":null,\"view\":{\"id\":\"4346\",\"type\":\"CDSView\"}},\"id\":\"4345\",\"type\":\"GlyphRenderer\"},{\"attributes\":{\"callback\":null,\"renderers\":[{\"id\":\"4639\",\"type\":\"GlyphRenderer\"}],\"tooltips\":[[\"Dim\",\"@desc\"]]},\"id\":\"4721\",\"type\":\"HoverTool\"},{\"attributes\":{},\"id\":\"3453\",\"type\":\"UnionRenderers\"},{\"attributes\":{\"fill_color\":{\"value\":null},\"line_alpha\":{\"value\":0.5},\"line_dash\":[6],\"radius\":{\"units\":\"data\",\"value\":0.4},\"x\":{\"value\":0.5},\"y\":{\"value\":0.5}},\"id\":\"3522\",\"type\":\"Circle\"},{\"attributes\":{},\"id\":\"3454\",\"type\":\"Selection\"},{\"attributes\":{\"callback\":null,\"data\":{\"x\":[0.5,0.5],\"y\":[0.5,1.0]},\"selected\":{\"id\":\"3884\",\"type\":\"Selection\"},\"selection_policy\":{\"id\":\"3883\",\"type\":\"UnionRenderers\"}},\"id\":\"3817\",\"type\":\"ColumnDataSource\"},{\"attributes\":{\"line_alpha\":0.5,\"line_dash\":[6],\"x\":{\"field\":\"x\"},\"y\":{\"field\":\"y\"}},\"id\":\"3818\",\"type\":\"Line\"}],\"root_ids\":[\"3130\"]},\"title\":\"Bokeh Application\",\"version\":\"1.4.0\"}};\n",
       "  var render_items = [{\"docid\":\"3b7913ac-9975-42db-925b-8372fdc0ef5d\",\"roots\":{\"3130\":\"02cf75ab-fad8-4357-8b23-b61390808e49\"}}];\n",
       "  root.Bokeh.embed.embed_items_notebook(docs_json, render_items);\n",
       "\n",
       "  }\n",
       "  if (root.Bokeh !== undefined) {\n",
       "    embed_document(root);\n",
       "  } else {\n",
       "    var attempts = 0;\n",
       "    var timer = setInterval(function(root) {\n",
       "      if (root.Bokeh !== undefined) {\n",
       "        clearInterval(timer);\n",
       "        embed_document(root);\n",
       "      } else {\n",
       "        attempts++;\n",
       "        if (attempts > 100) {\n",
       "          clearInterval(timer);\n",
       "          console.log(\"Bokeh: ERROR: Unable to run BokehJS code because BokehJS library is missing\");\n",
       "        }\n",
       "      }\n",
       "    }, 10, root)\n",
       "  }\n",
       "})(window);"
      ],
      "application/vnd.bokehjs_exec.v0+json": ""
     },
     "metadata": {
      "application/vnd.bokehjs_exec.v0+json": {
       "id": "3130"
      }
     },
     "output_type": "display_data"
    }
   ],
   "source": [
    "# Draw Outter Dots\n",
    "# ================\n",
    "out_dots_TOOLTIPS = [(\"Dim\", \"@desc\")]\n",
    "out_dots_src = ColumnDataSource({'x':x,'y':y,'desc':list(dim_descr.values())})\n",
    "g_out_dots = p.circle(x='x',y='y', color='black', source=out_dots_src)\n",
    "out_dots_hover = HoverTool(renderers=[g_out_dots], tooltips=out_dots_TOOLTIPS)\n",
    "p.add_tools(out_dots_hover)\n",
    "show(p)"
   ]
  },
  {
   "cell_type": "code",
   "execution_count": 22,
   "metadata": {},
   "outputs": [
    {
     "data": {
      "text/html": [
       "\n",
       "\n",
       "\n",
       "\n",
       "\n",
       "\n",
       "  <div class=\"bk-root\" id=\"b62aded0-4877-435c-b987-3765288f275c\" data-root-id=\"3130\"></div>\n"
      ]
     },
     "metadata": {},
     "output_type": "display_data"
    },
    {
     "data": {
      "application/javascript": [
       "(function(root) {\n",
       "  function embed_document(root) {\n",
       "    \n",
       "  var docs_json = {\"a4e13802-f6e3-4961-8a84-7d677990ffb8\":{\"roots\":{\"references\":[{\"attributes\":{\"below\":[{\"id\":\"3139\",\"type\":\"LinearAxis\"}],\"center\":[{\"id\":\"3143\",\"type\":\"Grid\"},{\"id\":\"3148\",\"type\":\"Grid\"},{\"id\":\"5026\",\"type\":\"LabelSet\"}],\"left\":[{\"id\":\"3144\",\"type\":\"LinearAxis\"}],\"match_aspect\":true,\"renderers\":[{\"id\":\"3165\",\"type\":\"GlyphRenderer\"},{\"id\":\"3276\",\"type\":\"GlyphRenderer\"},{\"id\":\"3335\",\"type\":\"GlyphRenderer\"},{\"id\":\"3396\",\"type\":\"GlyphRenderer\"},{\"id\":\"3459\",\"type\":\"GlyphRenderer\"},{\"id\":\"3524\",\"type\":\"GlyphRenderer\"},{\"id\":\"3820\",\"type\":\"GlyphRenderer\"},{\"id\":\"3889\",\"type\":\"GlyphRenderer\"},{\"id\":\"3960\",\"type\":\"GlyphRenderer\"},{\"id\":\"4033\",\"type\":\"GlyphRenderer\"},{\"id\":\"4108\",\"type\":\"GlyphRenderer\"},{\"id\":\"4185\",\"type\":\"GlyphRenderer\"},{\"id\":\"4264\",\"type\":\"GlyphRenderer\"},{\"id\":\"4345\",\"type\":\"GlyphRenderer\"},{\"id\":\"4639\",\"type\":\"GlyphRenderer\"}],\"title\":{\"id\":\"3210\",\"type\":\"Title\"},\"toolbar\":{\"id\":\"3155\",\"type\":\"Toolbar\"},\"toolbar_location\":\"below\",\"x_range\":{\"id\":\"3131\",\"type\":\"DataRange1d\"},\"x_scale\":{\"id\":\"3135\",\"type\":\"LinearScale\"},\"y_range\":{\"id\":\"3133\",\"type\":\"DataRange1d\"},\"y_scale\":{\"id\":\"3137\",\"type\":\"LinearScale\"}},\"id\":\"3130\",\"subtype\":\"Figure\",\"type\":\"Plot\"},{\"attributes\":{},\"id\":\"4259\",\"type\":\"Selection\"},{\"attributes\":{\"line_alpha\":0.5,\"line_dash\":[6],\"x\":{\"field\":\"x\"},\"y\":{\"field\":\"y\"}},\"id\":\"4106\",\"type\":\"Line\"},{\"attributes\":{\"callback\":null},\"id\":\"3131\",\"type\":\"DataRange1d\"},{\"attributes\":{\"bottom_units\":\"screen\",\"fill_alpha\":{\"value\":0.5},\"fill_color\":{\"value\":\"lightgrey\"},\"left_units\":\"screen\",\"level\":\"overlay\",\"line_alpha\":{\"value\":1.0},\"line_color\":{\"value\":\"black\"},\"line_dash\":[4,4],\"line_width\":{\"value\":2},\"render_mode\":\"css\",\"right_units\":\"screen\",\"top_units\":\"screen\"},\"id\":\"3218\",\"type\":\"BoxAnnotation\"},{\"attributes\":{\"fill_alpha\":{\"value\":0.1},\"fill_color\":{\"value\":\"#1f77b4\"},\"line_alpha\":{\"value\":0.1},\"line_color\":{\"value\":\"#1f77b4\"},\"line_dash\":[6],\"radius\":{\"units\":\"data\",\"value\":0.4},\"x\":{\"value\":0.5},\"y\":{\"value\":0.5}},\"id\":\"3523\",\"type\":\"Circle\"},{\"attributes\":{\"line_alpha\":0.1,\"line_color\":\"#1f77b4\",\"line_dash\":[6],\"x\":{\"field\":\"x\"},\"y\":{\"field\":\"y\"}},\"id\":\"4263\",\"type\":\"Line\"},{\"attributes\":{\"data_source\":{\"id\":\"4261\",\"type\":\"ColumnDataSource\"},\"glyph\":{\"id\":\"4262\",\"type\":\"Line\"},\"hover_glyph\":null,\"muted_glyph\":null,\"nonselection_glyph\":{\"id\":\"4263\",\"type\":\"Line\"},\"selection_glyph\":null,\"view\":{\"id\":\"4265\",\"type\":\"CDSView\"}},\"id\":\"4264\",\"type\":\"GlyphRenderer\"},{\"attributes\":{\"source\":{\"id\":\"4261\",\"type\":\"ColumnDataSource\"}},\"id\":\"4265\",\"type\":\"CDSView\"},{\"attributes\":{},\"id\":\"5108\",\"type\":\"UnionRenderers\"},{\"attributes\":{},\"id\":\"3955\",\"type\":\"Selection\"},{\"attributes\":{\"line_alpha\":0.5,\"line_dash\":[6],\"x\":{\"field\":\"x\"},\"y\":{\"field\":\"y\"}},\"id\":\"4343\",\"type\":\"Line\"},{\"attributes\":{},\"id\":\"4718\",\"type\":\"UnionRenderers\"},{\"attributes\":{\"callback\":null,\"data\":{\"desc\":[\"What was the modality of the task\",\"Was was the difficulty of the task\",\"What was the valence of the task\",\"How interesting was the task\",\"Was the task too repetitive\",\"Would you change the timing of the task\",\"Would you recommend the task to your colleagues?\",\"Were you aware of body motion associated with the task\"],\"x\":[0.5,0.14644660940672627,0.0,0.14644660940672616,0.4999999999999999,0.8535533905932737,1.0,0.8535533905932738],\"y\":[1.0,0.8535533905932737,0.5000000000000001,0.14644660940672627,0.0,0.14644660940672616,0.4999999999999999,0.8535533905932737]},\"selected\":{\"id\":\"4719\",\"type\":\"Selection\"},\"selection_policy\":{\"id\":\"4718\",\"type\":\"UnionRenderers\"}},\"id\":\"4635\",\"type\":\"ColumnDataSource\"},{\"attributes\":{\"fill_color\":{\"value\":\"black\"},\"x\":{\"field\":\"x\"},\"y\":{\"field\":\"y\"}},\"id\":\"4637\",\"type\":\"Circle\"},{\"attributes\":{\"line_alpha\":0.5,\"line_dash\":[6],\"x\":{\"field\":\"x\"},\"y\":{\"field\":\"y\"}},\"id\":\"4262\",\"type\":\"Line\"},{\"attributes\":{\"data_source\":{\"id\":\"3456\",\"type\":\"ColumnDataSource\"},\"glyph\":{\"id\":\"3457\",\"type\":\"Circle\"},\"hover_glyph\":null,\"muted_glyph\":null,\"nonselection_glyph\":{\"id\":\"3458\",\"type\":\"Circle\"},\"selection_glyph\":null,\"view\":{\"id\":\"3460\",\"type\":\"CDSView\"}},\"id\":\"3459\",\"type\":\"GlyphRenderer\"},{\"attributes\":{\"data_source\":{\"id\":\"3521\",\"type\":\"ColumnDataSource\"},\"glyph\":{\"id\":\"3522\",\"type\":\"Circle\"},\"hover_glyph\":null,\"muted_glyph\":null,\"nonselection_glyph\":{\"id\":\"3523\",\"type\":\"Circle\"},\"selection_glyph\":null,\"view\":{\"id\":\"3525\",\"type\":\"CDSView\"}},\"id\":\"3524\",\"type\":\"GlyphRenderer\"},{\"attributes\":{\"callback\":null,\"data\":{\"x\":[0.5,0.0],\"y\":[0.5,0.5000000000000001]},\"selected\":{\"id\":\"4028\",\"type\":\"Selection\"},\"selection_policy\":{\"id\":\"4027\",\"type\":\"UnionRenderers\"}},\"id\":\"3957\",\"type\":\"ColumnDataSource\"},{\"attributes\":{\"source\":{\"id\":\"4635\",\"type\":\"ColumnDataSource\"}},\"id\":\"4640\",\"type\":\"CDSView\"},{\"attributes\":{\"text\":\"\"},\"id\":\"3210\",\"type\":\"Title\"},{\"attributes\":{\"fill_alpha\":{\"value\":0.1},\"fill_color\":{\"value\":\"#1f77b4\"},\"line_alpha\":{\"value\":0.1},\"line_color\":{\"value\":\"#1f77b4\"},\"x\":{\"field\":\"x\"},\"y\":{\"field\":\"y\"}},\"id\":\"4638\",\"type\":\"Circle\"},{\"attributes\":{},\"id\":\"3954\",\"type\":\"UnionRenderers\"},{\"attributes\":{\"data_source\":{\"id\":\"4635\",\"type\":\"ColumnDataSource\"},\"glyph\":{\"id\":\"4637\",\"type\":\"Circle\"},\"hover_glyph\":null,\"muted_glyph\":null,\"nonselection_glyph\":{\"id\":\"4638\",\"type\":\"Circle\"},\"selection_glyph\":null,\"view\":{\"id\":\"4640\",\"type\":\"CDSView\"}},\"id\":\"4639\",\"type\":\"GlyphRenderer\"},{\"attributes\":{},\"id\":\"4719\",\"type\":\"Selection\"},{\"attributes\":{\"source\":{\"id\":\"3521\",\"type\":\"ColumnDataSource\"}},\"id\":\"3525\",\"type\":\"CDSView\"},{\"attributes\":{},\"id\":\"4258\",\"type\":\"UnionRenderers\"},{\"attributes\":{\"callback\":null,\"data\":{\"x\":[0.5,0.8535533905932738],\"y\":[0.5,0.8535533905932737]},\"selected\":{\"id\":\"4423\",\"type\":\"Selection\"},\"selection_policy\":{\"id\":\"4422\",\"type\":\"UnionRenderers\"}},\"id\":\"4342\",\"type\":\"ColumnDataSource\"},{\"attributes\":{\"fill_color\":{\"value\":null},\"line_alpha\":{\"value\":0.5},\"line_dash\":[6],\"radius\":{\"units\":\"data\",\"value\":0.3},\"x\":{\"value\":0.5},\"y\":{\"value\":0.5}},\"id\":\"3457\",\"type\":\"Circle\"},{\"attributes\":{\"line_alpha\":0.5,\"line_dash\":[6],\"x\":{\"field\":\"x\"},\"y\":{\"field\":\"y\"}},\"id\":\"4183\",\"type\":\"Line\"},{\"attributes\":{\"callback\":null,\"data\":{\"text\":[\"Dim 1\",\"Dim 2\",\"Dim 3\",\"Dim 4\",\"Dim 5\",\"Dim 6\",\"Dim 7\",\"Dim 8\"],\"x\":[0.5,0.09644660940672627,-0.05,0.09644660940672616,0.4499999999999999,0.8535533905932737,1.0,0.8535533905932738],\"y\":[1.0,0.8535533905932737,0.5000000000000001,0.09644660940672627,-0.05,0.09644660940672616,0.4499999999999999,0.8535533905932737]},\"selected\":{\"id\":\"5109\",\"type\":\"Selection\"},\"selection_policy\":{\"id\":\"5108\",\"type\":\"UnionRenderers\"}},\"id\":\"5025\",\"type\":\"ColumnDataSource\"},{\"attributes\":{\"source\":{\"id\":\"5025\",\"type\":\"ColumnDataSource\"},\"x\":{\"field\":\"x\"},\"y\":{\"field\":\"y\"}},\"id\":\"5026\",\"type\":\"LabelSet\"},{\"attributes\":{\"dimension\":1,\"ticker\":{\"id\":\"3145\",\"type\":\"BasicTicker\"},\"visible\":false},\"id\":\"3148\",\"type\":\"Grid\"},{\"attributes\":{\"source\":{\"id\":\"4182\",\"type\":\"ColumnDataSource\"}},\"id\":\"4186\",\"type\":\"CDSView\"},{\"attributes\":{},\"id\":\"3216\",\"type\":\"UnionRenderers\"},{\"attributes\":{},\"id\":\"3883\",\"type\":\"UnionRenderers\"},{\"attributes\":{},\"id\":\"4422\",\"type\":\"UnionRenderers\"},{\"attributes\":{\"callback\":null,\"data\":{\"x\":[0.5,0.14644660940672627],\"y\":[0.5,0.8535533905932737]},\"selected\":{\"id\":\"3955\",\"type\":\"Selection\"},\"selection_policy\":{\"id\":\"3954\",\"type\":\"UnionRenderers\"}},\"id\":\"3886\",\"type\":\"ColumnDataSource\"},{\"attributes\":{\"callback\":null,\"data\":{\"x\":[0.5,0.8535533905932737],\"y\":[0.5,0.14644660940672616]},\"selected\":{\"id\":\"4259\",\"type\":\"Selection\"},\"selection_policy\":{\"id\":\"4258\",\"type\":\"UnionRenderers\"}},\"id\":\"4182\",\"type\":\"ColumnDataSource\"},{\"attributes\":{\"line_alpha\":0.1,\"line_color\":\"#1f77b4\",\"line_dash\":[6],\"x\":{\"field\":\"x\"},\"y\":{\"field\":\"y\"}},\"id\":\"4344\",\"type\":\"Line\"},{\"attributes\":{},\"id\":\"3884\",\"type\":\"Selection\"},{\"attributes\":{\"active_drag\":\"auto\",\"active_inspect\":\"auto\",\"active_multi\":null,\"active_scroll\":\"auto\",\"active_tap\":\"auto\",\"logo\":null,\"tools\":[{\"id\":\"3149\",\"type\":\"PanTool\"},{\"id\":\"3150\",\"type\":\"WheelZoomTool\"},{\"id\":\"3151\",\"type\":\"BoxZoomTool\"},{\"id\":\"3152\",\"type\":\"SaveTool\"},{\"id\":\"3153\",\"type\":\"ResetTool\"},{\"id\":\"3154\",\"type\":\"HelpTool\"},{\"id\":\"4721\",\"type\":\"HoverTool\"}]},\"id\":\"3155\",\"type\":\"Toolbar\"},{\"attributes\":{\"line_alpha\":0.1,\"line_color\":\"#1f77b4\",\"line_dash\":[6],\"x\":{\"field\":\"x\"},\"y\":{\"field\":\"y\"}},\"id\":\"4184\",\"type\":\"Line\"},{\"attributes\":{},\"id\":\"5109\",\"type\":\"Selection\"},{\"attributes\":{},\"id\":\"3212\",\"type\":\"BasicTickFormatter\"},{\"attributes\":{\"callback\":null,\"data\":{},\"selected\":{\"id\":\"3217\",\"type\":\"Selection\"},\"selection_policy\":{\"id\":\"3216\",\"type\":\"UnionRenderers\"}},\"id\":\"3162\",\"type\":\"ColumnDataSource\"},{\"attributes\":{\"fill_color\":{\"value\":null},\"line_alpha\":{\"value\":0.5},\"line_dash\":[6],\"radius\":{\"units\":\"data\",\"value\":0.1},\"x\":{\"value\":0.5},\"y\":{\"value\":0.5}},\"id\":\"3333\",\"type\":\"Circle\"},{\"attributes\":{},\"id\":\"3214\",\"type\":\"BasicTickFormatter\"},{\"attributes\":{\"fill_color\":{\"value\":null},\"line_alpha\":{\"value\":0.5},\"radius\":{\"units\":\"data\",\"value\":0.5},\"x\":{\"value\":0.5},\"y\":{\"value\":0.5}},\"id\":\"3274\",\"type\":\"Circle\"},{\"attributes\":{},\"id\":\"3149\",\"type\":\"PanTool\"},{\"attributes\":{\"data_source\":{\"id\":\"3886\",\"type\":\"ColumnDataSource\"},\"glyph\":{\"id\":\"3887\",\"type\":\"Line\"},\"hover_glyph\":null,\"muted_glyph\":null,\"nonselection_glyph\":{\"id\":\"3888\",\"type\":\"Line\"},\"selection_glyph\":null,\"view\":{\"id\":\"3890\",\"type\":\"CDSView\"}},\"id\":\"3889\",\"type\":\"GlyphRenderer\"},{\"attributes\":{\"callback\":null,\"data\":{},\"selected\":{\"id\":\"3330\",\"type\":\"Selection\"},\"selection_policy\":{\"id\":\"3329\",\"type\":\"UnionRenderers\"}},\"id\":\"3273\",\"type\":\"ColumnDataSource\"},{\"attributes\":{\"formatter\":{\"id\":\"3212\",\"type\":\"BasicTickFormatter\"},\"ticker\":{\"id\":\"3145\",\"type\":\"BasicTicker\"},\"visible\":false},\"id\":\"3144\",\"type\":\"LinearAxis\"},{\"attributes\":{},\"id\":\"3150\",\"type\":\"WheelZoomTool\"},{\"attributes\":{\"callback\":null,\"data\":{},\"selected\":{\"id\":\"3391\",\"type\":\"Selection\"},\"selection_policy\":{\"id\":\"3390\",\"type\":\"UnionRenderers\"}},\"id\":\"3332\",\"type\":\"ColumnDataSource\"},{\"attributes\":{\"line_alpha\":0.1,\"line_color\":\"#1f77b4\",\"line_dash\":[6],\"x\":{\"field\":\"x\"},\"y\":{\"field\":\"y\"}},\"id\":\"3888\",\"type\":\"Line\"},{\"attributes\":{\"overlay\":{\"id\":\"3218\",\"type\":\"BoxAnnotation\"}},\"id\":\"3151\",\"type\":\"BoxZoomTool\"},{\"attributes\":{},\"id\":\"4339\",\"type\":\"UnionRenderers\"},{\"attributes\":{},\"id\":\"3152\",\"type\":\"SaveTool\"},{\"attributes\":{},\"id\":\"3585\",\"type\":\"UnionRenderers\"},{\"attributes\":{},\"id\":\"3135\",\"type\":\"LinearScale\"},{\"attributes\":{\"fill_alpha\":{\"value\":0.1},\"fill_color\":{\"value\":\"#1f77b4\"},\"line_alpha\":{\"value\":0.1},\"line_color\":{\"value\":\"#1f77b4\"},\"radius\":{\"units\":\"data\",\"value\":0.5},\"x\":{\"value\":0.5},\"y\":{\"value\":0.5}},\"id\":\"3275\",\"type\":\"Circle\"},{\"attributes\":{},\"id\":\"4340\",\"type\":\"Selection\"},{\"attributes\":{},\"id\":\"3153\",\"type\":\"ResetTool\"},{\"attributes\":{\"data_source\":{\"id\":\"3273\",\"type\":\"ColumnDataSource\"},\"glyph\":{\"id\":\"3274\",\"type\":\"Circle\"},\"hover_glyph\":null,\"muted_glyph\":null,\"nonselection_glyph\":{\"id\":\"3275\",\"type\":\"Circle\"},\"selection_glyph\":null,\"view\":{\"id\":\"3277\",\"type\":\"CDSView\"}},\"id\":\"3276\",\"type\":\"GlyphRenderer\"},{\"attributes\":{\"data_source\":{\"id\":\"3957\",\"type\":\"ColumnDataSource\"},\"glyph\":{\"id\":\"3958\",\"type\":\"Line\"},\"hover_glyph\":null,\"muted_glyph\":null,\"nonselection_glyph\":{\"id\":\"3959\",\"type\":\"Line\"},\"selection_glyph\":null,\"view\":{\"id\":\"3961\",\"type\":\"CDSView\"}},\"id\":\"3960\",\"type\":\"GlyphRenderer\"},{\"attributes\":{\"fill_alpha\":{\"value\":0.1},\"fill_color\":{\"value\":\"#1f77b4\"},\"line_alpha\":{\"value\":0.1},\"line_color\":{\"value\":\"#1f77b4\"},\"radius\":{\"units\":\"data\",\"value\":0.5},\"x\":{\"value\":0.5},\"y\":{\"value\":0.5}},\"id\":\"3164\",\"type\":\"Circle\"},{\"attributes\":{},\"id\":\"3154\",\"type\":\"HelpTool\"},{\"attributes\":{\"source\":{\"id\":\"3273\",\"type\":\"ColumnDataSource\"}},\"id\":\"3277\",\"type\":\"CDSView\"},{\"attributes\":{\"source\":{\"id\":\"3957\",\"type\":\"ColumnDataSource\"}},\"id\":\"3961\",\"type\":\"CDSView\"},{\"attributes\":{\"line_alpha\":0.5,\"line_dash\":[6],\"x\":{\"field\":\"x\"},\"y\":{\"field\":\"y\"}},\"id\":\"4031\",\"type\":\"Line\"},{\"attributes\":{\"callback\":null,\"data\":{},\"selected\":{\"id\":\"3454\",\"type\":\"Selection\"},\"selection_policy\":{\"id\":\"3453\",\"type\":\"UnionRenderers\"}},\"id\":\"3393\",\"type\":\"ColumnDataSource\"},{\"attributes\":{},\"id\":\"4027\",\"type\":\"UnionRenderers\"},{\"attributes\":{\"data_source\":{\"id\":\"3332\",\"type\":\"ColumnDataSource\"},\"glyph\":{\"id\":\"3333\",\"type\":\"Circle\"},\"hover_glyph\":null,\"muted_glyph\":null,\"nonselection_glyph\":{\"id\":\"3334\",\"type\":\"Circle\"},\"selection_glyph\":null,\"view\":{\"id\":\"3336\",\"type\":\"CDSView\"}},\"id\":\"3335\",\"type\":\"GlyphRenderer\"},{\"attributes\":{\"fill_color\":{\"value\":null},\"line_alpha\":{\"value\":0.5},\"radius\":{\"units\":\"data\",\"value\":0.5},\"x\":{\"value\":0.5},\"y\":{\"value\":0.5}},\"id\":\"3163\",\"type\":\"Circle\"},{\"attributes\":{\"line_alpha\":0.1,\"line_color\":\"#1f77b4\",\"line_dash\":[6],\"x\":{\"field\":\"x\"},\"y\":{\"field\":\"y\"}},\"id\":\"3959\",\"type\":\"Line\"},{\"attributes\":{\"formatter\":{\"id\":\"3214\",\"type\":\"BasicTickFormatter\"},\"ticker\":{\"id\":\"3140\",\"type\":\"BasicTicker\"},\"visible\":false},\"id\":\"3139\",\"type\":\"LinearAxis\"},{\"attributes\":{\"source\":{\"id\":\"3162\",\"type\":\"ColumnDataSource\"}},\"id\":\"3166\",\"type\":\"CDSView\"},{\"attributes\":{},\"id\":\"4028\",\"type\":\"Selection\"},{\"attributes\":{\"fill_alpha\":{\"value\":0.1},\"fill_color\":{\"value\":\"#1f77b4\"},\"line_alpha\":{\"value\":0.1},\"line_color\":{\"value\":\"#1f77b4\"},\"line_dash\":[6],\"radius\":{\"units\":\"data\",\"value\":0.3},\"x\":{\"value\":0.5},\"y\":{\"value\":0.5}},\"id\":\"3458\",\"type\":\"Circle\"},{\"attributes\":{},\"id\":\"3329\",\"type\":\"UnionRenderers\"},{\"attributes\":{\"line_alpha\":0.1,\"line_color\":\"#1f77b4\",\"line_dash\":[6],\"x\":{\"field\":\"x\"},\"y\":{\"field\":\"y\"}},\"id\":\"4032\",\"type\":\"Line\"},{\"attributes\":{\"data_source\":{\"id\":\"4030\",\"type\":\"ColumnDataSource\"},\"glyph\":{\"id\":\"4031\",\"type\":\"Line\"},\"hover_glyph\":null,\"muted_glyph\":null,\"nonselection_glyph\":{\"id\":\"4032\",\"type\":\"Line\"},\"selection_glyph\":null,\"view\":{\"id\":\"4034\",\"type\":\"CDSView\"}},\"id\":\"4033\",\"type\":\"GlyphRenderer\"},{\"attributes\":{},\"id\":\"3330\",\"type\":\"Selection\"},{\"attributes\":{\"data_source\":{\"id\":\"3162\",\"type\":\"ColumnDataSource\"},\"glyph\":{\"id\":\"3163\",\"type\":\"Circle\"},\"hover_glyph\":null,\"muted_glyph\":null,\"nonselection_glyph\":{\"id\":\"3164\",\"type\":\"Circle\"},\"selection_glyph\":null,\"view\":{\"id\":\"3166\",\"type\":\"CDSView\"}},\"id\":\"3165\",\"type\":\"GlyphRenderer\"},{\"attributes\":{},\"id\":\"3391\",\"type\":\"Selection\"},{\"attributes\":{\"source\":{\"id\":\"3886\",\"type\":\"ColumnDataSource\"}},\"id\":\"3890\",\"type\":\"CDSView\"},{\"attributes\":{\"source\":{\"id\":\"3332\",\"type\":\"ColumnDataSource\"}},\"id\":\"3336\",\"type\":\"CDSView\"},{\"attributes\":{\"fill_alpha\":{\"value\":0.1},\"fill_color\":{\"value\":\"#1f77b4\"},\"line_alpha\":{\"value\":0.1},\"line_color\":{\"value\":\"#1f77b4\"},\"line_dash\":[6],\"radius\":{\"units\":\"data\",\"value\":0.1},\"x\":{\"value\":0.5},\"y\":{\"value\":0.5}},\"id\":\"3334\",\"type\":\"Circle\"},{\"attributes\":{\"callback\":null,\"data\":{\"x\":[0.5,0.4999999999999999],\"y\":[0.5,0.0]},\"selected\":{\"id\":\"4180\",\"type\":\"Selection\"},\"selection_policy\":{\"id\":\"4179\",\"type\":\"UnionRenderers\"}},\"id\":\"4105\",\"type\":\"ColumnDataSource\"},{\"attributes\":{},\"id\":\"3217\",\"type\":\"Selection\"},{\"attributes\":{},\"id\":\"3137\",\"type\":\"LinearScale\"},{\"attributes\":{\"source\":{\"id\":\"3817\",\"type\":\"ColumnDataSource\"}},\"id\":\"3821\",\"type\":\"CDSView\"},{\"attributes\":{\"data_source\":{\"id\":\"4182\",\"type\":\"ColumnDataSource\"},\"glyph\":{\"id\":\"4183\",\"type\":\"Line\"},\"hover_glyph\":null,\"muted_glyph\":null,\"nonselection_glyph\":{\"id\":\"4184\",\"type\":\"Line\"},\"selection_glyph\":null,\"view\":{\"id\":\"4186\",\"type\":\"CDSView\"}},\"id\":\"4185\",\"type\":\"GlyphRenderer\"},{\"attributes\":{\"source\":{\"id\":\"4030\",\"type\":\"ColumnDataSource\"}},\"id\":\"4034\",\"type\":\"CDSView\"},{\"attributes\":{\"data_source\":{\"id\":\"3817\",\"type\":\"ColumnDataSource\"},\"glyph\":{\"id\":\"3818\",\"type\":\"Line\"},\"hover_glyph\":null,\"muted_glyph\":null,\"nonselection_glyph\":{\"id\":\"3819\",\"type\":\"Line\"},\"selection_glyph\":null,\"view\":{\"id\":\"3821\",\"type\":\"CDSView\"}},\"id\":\"3820\",\"type\":\"GlyphRenderer\"},{\"attributes\":{},\"id\":\"3140\",\"type\":\"BasicTicker\"},{\"attributes\":{\"fill_color\":{\"value\":null},\"line_alpha\":{\"value\":0.5},\"line_dash\":[6],\"radius\":{\"units\":\"data\",\"value\":0.2},\"x\":{\"value\":0.5},\"y\":{\"value\":0.5}},\"id\":\"3394\",\"type\":\"Circle\"},{\"attributes\":{\"line_alpha\":0.1,\"line_color\":\"#1f77b4\",\"line_dash\":[6],\"x\":{\"field\":\"x\"},\"y\":{\"field\":\"y\"}},\"id\":\"3819\",\"type\":\"Line\"},{\"attributes\":{},\"id\":\"4102\",\"type\":\"UnionRenderers\"},{\"attributes\":{\"callback\":null,\"data\":{\"x\":[0.5,0.14644660940672616],\"y\":[0.5,0.14644660940672627]},\"selected\":{\"id\":\"4103\",\"type\":\"Selection\"},\"selection_policy\":{\"id\":\"4102\",\"type\":\"UnionRenderers\"}},\"id\":\"4030\",\"type\":\"ColumnDataSource\"},{\"attributes\":{},\"id\":\"3518\",\"type\":\"UnionRenderers\"},{\"attributes\":{},\"id\":\"3519\",\"type\":\"Selection\"},{\"attributes\":{},\"id\":\"4103\",\"type\":\"Selection\"},{\"attributes\":{},\"id\":\"3390\",\"type\":\"UnionRenderers\"},{\"attributes\":{\"line_alpha\":0.5,\"line_dash\":[6],\"x\":{\"field\":\"x\"},\"y\":{\"field\":\"y\"}},\"id\":\"3958\",\"type\":\"Line\"},{\"attributes\":{\"ticker\":{\"id\":\"3140\",\"type\":\"BasicTicker\"},\"visible\":false},\"id\":\"3143\",\"type\":\"Grid\"},{\"attributes\":{\"source\":{\"id\":\"3456\",\"type\":\"ColumnDataSource\"}},\"id\":\"3460\",\"type\":\"CDSView\"},{\"attributes\":{\"line_alpha\":0.1,\"line_color\":\"#1f77b4\",\"line_dash\":[6],\"x\":{\"field\":\"x\"},\"y\":{\"field\":\"y\"}},\"id\":\"4107\",\"type\":\"Line\"},{\"attributes\":{},\"id\":\"4423\",\"type\":\"Selection\"},{\"attributes\":{\"data_source\":{\"id\":\"3393\",\"type\":\"ColumnDataSource\"},\"glyph\":{\"id\":\"3394\",\"type\":\"Circle\"},\"hover_glyph\":null,\"muted_glyph\":null,\"nonselection_glyph\":{\"id\":\"3395\",\"type\":\"Circle\"},\"selection_glyph\":null,\"view\":{\"id\":\"3397\",\"type\":\"CDSView\"}},\"id\":\"3396\",\"type\":\"GlyphRenderer\"},{\"attributes\":{\"data_source\":{\"id\":\"4105\",\"type\":\"ColumnDataSource\"},\"glyph\":{\"id\":\"4106\",\"type\":\"Line\"},\"hover_glyph\":null,\"muted_glyph\":null,\"nonselection_glyph\":{\"id\":\"4107\",\"type\":\"Line\"},\"selection_glyph\":null,\"view\":{\"id\":\"4109\",\"type\":\"CDSView\"}},\"id\":\"4108\",\"type\":\"GlyphRenderer\"},{\"attributes\":{\"source\":{\"id\":\"3393\",\"type\":\"ColumnDataSource\"}},\"id\":\"3397\",\"type\":\"CDSView\"},{\"attributes\":{\"fill_alpha\":{\"value\":0.1},\"fill_color\":{\"value\":\"#1f77b4\"},\"line_alpha\":{\"value\":0.1},\"line_color\":{\"value\":\"#1f77b4\"},\"line_dash\":[6],\"radius\":{\"units\":\"data\",\"value\":0.2},\"x\":{\"value\":0.5},\"y\":{\"value\":0.5}},\"id\":\"3395\",\"type\":\"Circle\"},{\"attributes\":{\"callback\":null,\"data\":{},\"selected\":{\"id\":\"3519\",\"type\":\"Selection\"},\"selection_policy\":{\"id\":\"3518\",\"type\":\"UnionRenderers\"}},\"id\":\"3456\",\"type\":\"ColumnDataSource\"},{\"attributes\":{},\"id\":\"3586\",\"type\":\"Selection\"},{\"attributes\":{\"source\":{\"id\":\"4105\",\"type\":\"ColumnDataSource\"}},\"id\":\"4109\",\"type\":\"CDSView\"},{\"attributes\":{\"line_alpha\":0.5,\"line_dash\":[6],\"x\":{\"field\":\"x\"},\"y\":{\"field\":\"y\"}},\"id\":\"3887\",\"type\":\"Line\"},{\"attributes\":{\"callback\":null,\"data\":{\"x\":[0.5,1.0],\"y\":[0.5,0.4999999999999999]},\"selected\":{\"id\":\"4340\",\"type\":\"Selection\"},\"selection_policy\":{\"id\":\"4339\",\"type\":\"UnionRenderers\"}},\"id\":\"4261\",\"type\":\"ColumnDataSource\"},{\"attributes\":{\"source\":{\"id\":\"4342\",\"type\":\"ColumnDataSource\"}},\"id\":\"4346\",\"type\":\"CDSView\"},{\"attributes\":{\"callback\":null,\"data\":{},\"selected\":{\"id\":\"3586\",\"type\":\"Selection\"},\"selection_policy\":{\"id\":\"3585\",\"type\":\"UnionRenderers\"}},\"id\":\"3521\",\"type\":\"ColumnDataSource\"},{\"attributes\":{},\"id\":\"3145\",\"type\":\"BasicTicker\"},{\"attributes\":{},\"id\":\"4179\",\"type\":\"UnionRenderers\"},{\"attributes\":{\"callback\":null},\"id\":\"3133\",\"type\":\"DataRange1d\"},{\"attributes\":{},\"id\":\"4180\",\"type\":\"Selection\"},{\"attributes\":{\"data_source\":{\"id\":\"4342\",\"type\":\"ColumnDataSource\"},\"glyph\":{\"id\":\"4343\",\"type\":\"Line\"},\"hover_glyph\":null,\"muted_glyph\":null,\"nonselection_glyph\":{\"id\":\"4344\",\"type\":\"Line\"},\"selection_glyph\":null,\"view\":{\"id\":\"4346\",\"type\":\"CDSView\"}},\"id\":\"4345\",\"type\":\"GlyphRenderer\"},{\"attributes\":{\"callback\":null,\"renderers\":[{\"id\":\"4639\",\"type\":\"GlyphRenderer\"}],\"tooltips\":[[\"Dim\",\"@desc\"]]},\"id\":\"4721\",\"type\":\"HoverTool\"},{\"attributes\":{},\"id\":\"3453\",\"type\":\"UnionRenderers\"},{\"attributes\":{\"fill_color\":{\"value\":null},\"line_alpha\":{\"value\":0.5},\"line_dash\":[6],\"radius\":{\"units\":\"data\",\"value\":0.4},\"x\":{\"value\":0.5},\"y\":{\"value\":0.5}},\"id\":\"3522\",\"type\":\"Circle\"},{\"attributes\":{},\"id\":\"3454\",\"type\":\"Selection\"},{\"attributes\":{\"callback\":null,\"data\":{\"x\":[0.5,0.5],\"y\":[0.5,1.0]},\"selected\":{\"id\":\"3884\",\"type\":\"Selection\"},\"selection_policy\":{\"id\":\"3883\",\"type\":\"UnionRenderers\"}},\"id\":\"3817\",\"type\":\"ColumnDataSource\"},{\"attributes\":{\"line_alpha\":0.5,\"line_dash\":[6],\"x\":{\"field\":\"x\"},\"y\":{\"field\":\"y\"}},\"id\":\"3818\",\"type\":\"Line\"}],\"root_ids\":[\"3130\"]},\"title\":\"Bokeh Application\",\"version\":\"1.4.0\"}};\n",
       "  var render_items = [{\"docid\":\"a4e13802-f6e3-4961-8a84-7d677990ffb8\",\"roots\":{\"3130\":\"b62aded0-4877-435c-b987-3765288f275c\"}}];\n",
       "  root.Bokeh.embed.embed_items_notebook(docs_json, render_items);\n",
       "\n",
       "  }\n",
       "  if (root.Bokeh !== undefined) {\n",
       "    embed_document(root);\n",
       "  } else {\n",
       "    var attempts = 0;\n",
       "    var timer = setInterval(function(root) {\n",
       "      if (root.Bokeh !== undefined) {\n",
       "        clearInterval(timer);\n",
       "        embed_document(root);\n",
       "      } else {\n",
       "        attempts++;\n",
       "        if (attempts > 100) {\n",
       "          clearInterval(timer);\n",
       "          console.log(\"Bokeh: ERROR: Unable to run BokehJS code because BokehJS library is missing\");\n",
       "        }\n",
       "      }\n",
       "    }, 10, root)\n",
       "  }\n",
       "})(window);"
      ],
      "application/vnd.bokehjs_exec.v0+json": ""
     },
     "metadata": {
      "application/vnd.bokehjs_exec.v0+json": {
       "id": "3130"
      }
     },
     "output_type": "display_data"
    }
   ],
   "source": [
    "# Draw Dimension Labels\n",
    "# =====================\n",
    "labels_src = ColumnDataSource({'x':[i if i >= 0.5 else i-.05 for i in x],'y':[i if i >= 0.5 else i-.05 for i in y],'text':dimensions})\n",
    "labels     = LabelSet(x=\"x\",y=\"y\",text=\"text\",source=labels_src)\n",
    "p.add_layout(labels)\n",
    "show(p)"
   ]
  },
  {
   "cell_type": "markdown",
   "metadata": {},
   "source": [
    "### 7. Add Patch for a given set of data"
   ]
  },
  {
   "cell_type": "code",
   "execution_count": 23,
   "metadata": {},
   "outputs": [],
   "source": [
    "def radar_patch(r, theta, centre ):\n",
    "    \"\"\" Returns the x and y coordinates corresponding to the magnitudes of \n",
    "    each variable displayed in the radar plot\n",
    "    \"\"\"\n",
    "    # offset from centre of circle\n",
    "    offset = 0.0\n",
    "    yt = (r*centre + offset) * np.sin(theta) + centre \n",
    "    xt = (r*centre + offset) * np.cos(theta) + centre \n",
    "    return xt, yt"
   ]
  },
  {
   "cell_type": "code",
   "execution_count": 24,
   "metadata": {},
   "outputs": [
    {
     "data": {
      "text/html": [
       "\n",
       "\n",
       "\n",
       "\n",
       "\n",
       "\n",
       "  <div class=\"bk-root\" id=\"d067dfab-750a-4eda-95ca-cbf341251327\" data-root-id=\"3130\"></div>\n"
      ]
     },
     "metadata": {},
     "output_type": "display_data"
    },
    {
     "data": {
      "application/javascript": [
       "(function(root) {\n",
       "  function embed_document(root) {\n",
       "    \n",
       "  var docs_json = {\"6752da51-610e-48e6-a43c-66df88895bb2\":{\"roots\":{\"references\":[{\"attributes\":{\"below\":[{\"id\":\"3139\",\"type\":\"LinearAxis\"}],\"center\":[{\"id\":\"3143\",\"type\":\"Grid\"},{\"id\":\"3148\",\"type\":\"Grid\"},{\"id\":\"5026\",\"type\":\"LabelSet\"}],\"left\":[{\"id\":\"3144\",\"type\":\"LinearAxis\"}],\"match_aspect\":true,\"renderers\":[{\"id\":\"3165\",\"type\":\"GlyphRenderer\"},{\"id\":\"3276\",\"type\":\"GlyphRenderer\"},{\"id\":\"3335\",\"type\":\"GlyphRenderer\"},{\"id\":\"3396\",\"type\":\"GlyphRenderer\"},{\"id\":\"3459\",\"type\":\"GlyphRenderer\"},{\"id\":\"3524\",\"type\":\"GlyphRenderer\"},{\"id\":\"3820\",\"type\":\"GlyphRenderer\"},{\"id\":\"3889\",\"type\":\"GlyphRenderer\"},{\"id\":\"3960\",\"type\":\"GlyphRenderer\"},{\"id\":\"4033\",\"type\":\"GlyphRenderer\"},{\"id\":\"4108\",\"type\":\"GlyphRenderer\"},{\"id\":\"4185\",\"type\":\"GlyphRenderer\"},{\"id\":\"4264\",\"type\":\"GlyphRenderer\"},{\"id\":\"4345\",\"type\":\"GlyphRenderer\"},{\"id\":\"4639\",\"type\":\"GlyphRenderer\"},{\"id\":\"5347\",\"type\":\"GlyphRenderer\"}],\"title\":{\"id\":\"3210\",\"type\":\"Title\"},\"toolbar\":{\"id\":\"3155\",\"type\":\"Toolbar\"},\"toolbar_location\":\"below\",\"x_range\":{\"id\":\"3131\",\"type\":\"DataRange1d\"},\"x_scale\":{\"id\":\"3135\",\"type\":\"LinearScale\"},\"y_range\":{\"id\":\"3133\",\"type\":\"DataRange1d\"},\"y_scale\":{\"id\":\"3137\",\"type\":\"LinearScale\"}},\"id\":\"3130\",\"subtype\":\"Figure\",\"type\":\"Plot\"},{\"attributes\":{},\"id\":\"4259\",\"type\":\"Selection\"},{\"attributes\":{\"line_alpha\":0.5,\"line_dash\":[6],\"x\":{\"field\":\"x\"},\"y\":{\"field\":\"y\"}},\"id\":\"4106\",\"type\":\"Line\"},{\"attributes\":{\"callback\":null},\"id\":\"3131\",\"type\":\"DataRange1d\"},{\"attributes\":{\"bottom_units\":\"screen\",\"fill_alpha\":{\"value\":0.5},\"fill_color\":{\"value\":\"lightgrey\"},\"left_units\":\"screen\",\"level\":\"overlay\",\"line_alpha\":{\"value\":1.0},\"line_color\":{\"value\":\"black\"},\"line_dash\":[4,4],\"line_width\":{\"value\":2},\"render_mode\":\"css\",\"right_units\":\"screen\",\"top_units\":\"screen\"},\"id\":\"3218\",\"type\":\"BoxAnnotation\"},{\"attributes\":{\"fill_alpha\":{\"value\":0.1},\"fill_color\":{\"value\":\"#1f77b4\"},\"line_alpha\":{\"value\":0.1},\"line_color\":{\"value\":\"#1f77b4\"},\"line_dash\":[6],\"radius\":{\"units\":\"data\",\"value\":0.4},\"x\":{\"value\":0.5},\"y\":{\"value\":0.5}},\"id\":\"3523\",\"type\":\"Circle\"},{\"attributes\":{\"line_alpha\":0.1,\"line_color\":\"#1f77b4\",\"line_dash\":[6],\"x\":{\"field\":\"x\"},\"y\":{\"field\":\"y\"}},\"id\":\"4263\",\"type\":\"Line\"},{\"attributes\":{\"data_source\":{\"id\":\"4261\",\"type\":\"ColumnDataSource\"},\"glyph\":{\"id\":\"4262\",\"type\":\"Line\"},\"hover_glyph\":null,\"muted_glyph\":null,\"nonselection_glyph\":{\"id\":\"4263\",\"type\":\"Line\"},\"selection_glyph\":null,\"view\":{\"id\":\"4265\",\"type\":\"CDSView\"}},\"id\":\"4264\",\"type\":\"GlyphRenderer\"},{\"attributes\":{\"source\":{\"id\":\"4261\",\"type\":\"ColumnDataSource\"}},\"id\":\"4265\",\"type\":\"CDSView\"},{\"attributes\":{},\"id\":\"5108\",\"type\":\"UnionRenderers\"},{\"attributes\":{},\"id\":\"3955\",\"type\":\"Selection\"},{\"attributes\":{\"line_alpha\":0.5,\"line_dash\":[6],\"x\":{\"field\":\"x\"},\"y\":{\"field\":\"y\"}},\"id\":\"4343\",\"type\":\"Line\"},{\"attributes\":{},\"id\":\"4718\",\"type\":\"UnionRenderers\"},{\"attributes\":{\"callback\":null,\"data\":{\"desc\":[\"What was the modality of the task\",\"Was was the difficulty of the task\",\"What was the valence of the task\",\"How interesting was the task\",\"Was the task too repetitive\",\"Would you change the timing of the task\",\"Would you recommend the task to your colleagues?\",\"Were you aware of body motion associated with the task\"],\"x\":[0.5,0.14644660940672627,0.0,0.14644660940672616,0.4999999999999999,0.8535533905932737,1.0,0.8535533905932738],\"y\":[1.0,0.8535533905932737,0.5000000000000001,0.14644660940672627,0.0,0.14644660940672616,0.4999999999999999,0.8535533905932737]},\"selected\":{\"id\":\"4719\",\"type\":\"Selection\"},\"selection_policy\":{\"id\":\"4718\",\"type\":\"UnionRenderers\"}},\"id\":\"4635\",\"type\":\"ColumnDataSource\"},{\"attributes\":{\"fill_color\":{\"value\":\"black\"},\"x\":{\"field\":\"x\"},\"y\":{\"field\":\"y\"}},\"id\":\"4637\",\"type\":\"Circle\"},{\"attributes\":{\"line_alpha\":0.5,\"line_dash\":[6],\"x\":{\"field\":\"x\"},\"y\":{\"field\":\"y\"}},\"id\":\"4262\",\"type\":\"Line\"},{\"attributes\":{\"data_source\":{\"id\":\"3456\",\"type\":\"ColumnDataSource\"},\"glyph\":{\"id\":\"3457\",\"type\":\"Circle\"},\"hover_glyph\":null,\"muted_glyph\":null,\"nonselection_glyph\":{\"id\":\"3458\",\"type\":\"Circle\"},\"selection_glyph\":null,\"view\":{\"id\":\"3460\",\"type\":\"CDSView\"}},\"id\":\"3459\",\"type\":\"GlyphRenderer\"},{\"attributes\":{\"data_source\":{\"id\":\"3521\",\"type\":\"ColumnDataSource\"},\"glyph\":{\"id\":\"3522\",\"type\":\"Circle\"},\"hover_glyph\":null,\"muted_glyph\":null,\"nonselection_glyph\":{\"id\":\"3523\",\"type\":\"Circle\"},\"selection_glyph\":null,\"view\":{\"id\":\"3525\",\"type\":\"CDSView\"}},\"id\":\"3524\",\"type\":\"GlyphRenderer\"},{\"attributes\":{\"callback\":null,\"data\":{\"x\":[0.5,0.0],\"y\":[0.5,0.5000000000000001]},\"selected\":{\"id\":\"4028\",\"type\":\"Selection\"},\"selection_policy\":{\"id\":\"4027\",\"type\":\"UnionRenderers\"}},\"id\":\"3957\",\"type\":\"ColumnDataSource\"},{\"attributes\":{\"source\":{\"id\":\"4635\",\"type\":\"ColumnDataSource\"}},\"id\":\"4640\",\"type\":\"CDSView\"},{\"attributes\":{\"text\":\"\"},\"id\":\"3210\",\"type\":\"Title\"},{\"attributes\":{\"fill_alpha\":{\"value\":0.1},\"fill_color\":{\"value\":\"#1f77b4\"},\"line_alpha\":{\"value\":0.1},\"line_color\":{\"value\":\"#1f77b4\"},\"x\":{\"field\":\"x\"},\"y\":{\"field\":\"y\"}},\"id\":\"4638\",\"type\":\"Circle\"},{\"attributes\":{},\"id\":\"3954\",\"type\":\"UnionRenderers\"},{\"attributes\":{\"data_source\":{\"id\":\"4635\",\"type\":\"ColumnDataSource\"},\"glyph\":{\"id\":\"4637\",\"type\":\"Circle\"},\"hover_glyph\":null,\"muted_glyph\":null,\"nonselection_glyph\":{\"id\":\"4638\",\"type\":\"Circle\"},\"selection_glyph\":null,\"view\":{\"id\":\"4640\",\"type\":\"CDSView\"}},\"id\":\"4639\",\"type\":\"GlyphRenderer\"},{\"attributes\":{},\"id\":\"4719\",\"type\":\"Selection\"},{\"attributes\":{\"source\":{\"id\":\"3521\",\"type\":\"ColumnDataSource\"}},\"id\":\"3525\",\"type\":\"CDSView\"},{\"attributes\":{},\"id\":\"4258\",\"type\":\"UnionRenderers\"},{\"attributes\":{\"data_source\":{\"id\":\"5344\",\"type\":\"ColumnDataSource\"},\"glyph\":{\"id\":\"5345\",\"type\":\"Patch\"},\"hover_glyph\":null,\"muted_glyph\":null,\"nonselection_glyph\":{\"id\":\"5346\",\"type\":\"Patch\"},\"selection_glyph\":null,\"view\":{\"id\":\"5348\",\"type\":\"CDSView\"}},\"id\":\"5347\",\"type\":\"GlyphRenderer\"},{\"attributes\":{\"callback\":null,\"data\":{\"x\":[0.5,0.8535533905932738],\"y\":[0.5,0.8535533905932737]},\"selected\":{\"id\":\"4423\",\"type\":\"Selection\"},\"selection_policy\":{\"id\":\"4422\",\"type\":\"UnionRenderers\"}},\"id\":\"4342\",\"type\":\"ColumnDataSource\"},{\"attributes\":{\"source\":{\"id\":\"5344\",\"type\":\"ColumnDataSource\"}},\"id\":\"5348\",\"type\":\"CDSView\"},{\"attributes\":{\"fill_alpha\":0.3,\"fill_color\":\"blue\",\"line_color\":\"blue\",\"line_width\":2,\"x\":{\"field\":\"x\"},\"y\":{\"field\":\"y\"}},\"id\":\"5345\",\"type\":\"Patch\"},{\"attributes\":{\"fill_color\":{\"value\":null},\"line_alpha\":{\"value\":0.5},\"line_dash\":[6],\"radius\":{\"units\":\"data\",\"value\":0.3},\"x\":{\"value\":0.5},\"y\":{\"value\":0.5}},\"id\":\"3457\",\"type\":\"Circle\"},{\"attributes\":{\"callback\":null,\"data\":{\"x\":{\"__ndarray__\":\"AAAAAAAA4D9oiAEzw77CP5iZmZmZmbk/3DpA4TY22T/////////fP4Wx/ygMDek/zczMzMzM7D+2px+urS7qPw==\",\"dtype\":\"float64\",\"shape\":[8]},\"y\":{\"__ndarray__\":\"AAAAAAAA6D/mnT8zT1DrPwAAAAAAAOA/3DpA4TY22T+YmZmZmZm5P+o5AVzPy8s//v//////3z+1px+urS7qPw==\",\"dtype\":\"float64\",\"shape\":[8]}},\"selected\":{\"id\":\"5429\",\"type\":\"Selection\"},\"selection_policy\":{\"id\":\"5428\",\"type\":\"UnionRenderers\"}},\"id\":\"5344\",\"type\":\"ColumnDataSource\"},{\"attributes\":{\"fill_alpha\":0.1,\"fill_color\":\"#1f77b4\",\"line_alpha\":0.1,\"line_color\":\"#1f77b4\",\"line_width\":2,\"x\":{\"field\":\"x\"},\"y\":{\"field\":\"y\"}},\"id\":\"5346\",\"type\":\"Patch\"},{\"attributes\":{\"line_alpha\":0.5,\"line_dash\":[6],\"x\":{\"field\":\"x\"},\"y\":{\"field\":\"y\"}},\"id\":\"4183\",\"type\":\"Line\"},{\"attributes\":{\"callback\":null,\"data\":{\"text\":[\"Dim 1\",\"Dim 2\",\"Dim 3\",\"Dim 4\",\"Dim 5\",\"Dim 6\",\"Dim 7\",\"Dim 8\"],\"x\":[0.5,0.09644660940672627,-0.05,0.09644660940672616,0.4499999999999999,0.8535533905932737,1.0,0.8535533905932738],\"y\":[1.0,0.8535533905932737,0.5000000000000001,0.09644660940672627,-0.05,0.09644660940672616,0.4499999999999999,0.8535533905932737]},\"selected\":{\"id\":\"5109\",\"type\":\"Selection\"},\"selection_policy\":{\"id\":\"5108\",\"type\":\"UnionRenderers\"}},\"id\":\"5025\",\"type\":\"ColumnDataSource\"},{\"attributes\":{\"source\":{\"id\":\"5025\",\"type\":\"ColumnDataSource\"},\"x\":{\"field\":\"x\"},\"y\":{\"field\":\"y\"}},\"id\":\"5026\",\"type\":\"LabelSet\"},{\"attributes\":{\"dimension\":1,\"ticker\":{\"id\":\"3145\",\"type\":\"BasicTicker\"},\"visible\":false},\"id\":\"3148\",\"type\":\"Grid\"},{\"attributes\":{\"source\":{\"id\":\"4182\",\"type\":\"ColumnDataSource\"}},\"id\":\"4186\",\"type\":\"CDSView\"},{\"attributes\":{},\"id\":\"3216\",\"type\":\"UnionRenderers\"},{\"attributes\":{},\"id\":\"3883\",\"type\":\"UnionRenderers\"},{\"attributes\":{},\"id\":\"4422\",\"type\":\"UnionRenderers\"},{\"attributes\":{\"callback\":null,\"data\":{\"x\":[0.5,0.14644660940672627],\"y\":[0.5,0.8535533905932737]},\"selected\":{\"id\":\"3955\",\"type\":\"Selection\"},\"selection_policy\":{\"id\":\"3954\",\"type\":\"UnionRenderers\"}},\"id\":\"3886\",\"type\":\"ColumnDataSource\"},{\"attributes\":{\"callback\":null,\"data\":{\"x\":[0.5,0.8535533905932737],\"y\":[0.5,0.14644660940672616]},\"selected\":{\"id\":\"4259\",\"type\":\"Selection\"},\"selection_policy\":{\"id\":\"4258\",\"type\":\"UnionRenderers\"}},\"id\":\"4182\",\"type\":\"ColumnDataSource\"},{\"attributes\":{\"line_alpha\":0.1,\"line_color\":\"#1f77b4\",\"line_dash\":[6],\"x\":{\"field\":\"x\"},\"y\":{\"field\":\"y\"}},\"id\":\"4344\",\"type\":\"Line\"},{\"attributes\":{},\"id\":\"3884\",\"type\":\"Selection\"},{\"attributes\":{\"active_drag\":\"auto\",\"active_inspect\":\"auto\",\"active_multi\":null,\"active_scroll\":\"auto\",\"active_tap\":\"auto\",\"logo\":null,\"tools\":[{\"id\":\"3149\",\"type\":\"PanTool\"},{\"id\":\"3150\",\"type\":\"WheelZoomTool\"},{\"id\":\"3151\",\"type\":\"BoxZoomTool\"},{\"id\":\"3152\",\"type\":\"SaveTool\"},{\"id\":\"3153\",\"type\":\"ResetTool\"},{\"id\":\"3154\",\"type\":\"HelpTool\"},{\"id\":\"4721\",\"type\":\"HoverTool\"}]},\"id\":\"3155\",\"type\":\"Toolbar\"},{\"attributes\":{\"line_alpha\":0.1,\"line_color\":\"#1f77b4\",\"line_dash\":[6],\"x\":{\"field\":\"x\"},\"y\":{\"field\":\"y\"}},\"id\":\"4184\",\"type\":\"Line\"},{\"attributes\":{},\"id\":\"5109\",\"type\":\"Selection\"},{\"attributes\":{},\"id\":\"3212\",\"type\":\"BasicTickFormatter\"},{\"attributes\":{\"callback\":null,\"data\":{},\"selected\":{\"id\":\"3217\",\"type\":\"Selection\"},\"selection_policy\":{\"id\":\"3216\",\"type\":\"UnionRenderers\"}},\"id\":\"3162\",\"type\":\"ColumnDataSource\"},{\"attributes\":{\"fill_color\":{\"value\":null},\"line_alpha\":{\"value\":0.5},\"line_dash\":[6],\"radius\":{\"units\":\"data\",\"value\":0.1},\"x\":{\"value\":0.5},\"y\":{\"value\":0.5}},\"id\":\"3333\",\"type\":\"Circle\"},{\"attributes\":{},\"id\":\"3214\",\"type\":\"BasicTickFormatter\"},{\"attributes\":{\"fill_color\":{\"value\":null},\"line_alpha\":{\"value\":0.5},\"radius\":{\"units\":\"data\",\"value\":0.5},\"x\":{\"value\":0.5},\"y\":{\"value\":0.5}},\"id\":\"3274\",\"type\":\"Circle\"},{\"attributes\":{},\"id\":\"3149\",\"type\":\"PanTool\"},{\"attributes\":{\"data_source\":{\"id\":\"3886\",\"type\":\"ColumnDataSource\"},\"glyph\":{\"id\":\"3887\",\"type\":\"Line\"},\"hover_glyph\":null,\"muted_glyph\":null,\"nonselection_glyph\":{\"id\":\"3888\",\"type\":\"Line\"},\"selection_glyph\":null,\"view\":{\"id\":\"3890\",\"type\":\"CDSView\"}},\"id\":\"3889\",\"type\":\"GlyphRenderer\"},{\"attributes\":{\"callback\":null,\"data\":{},\"selected\":{\"id\":\"3330\",\"type\":\"Selection\"},\"selection_policy\":{\"id\":\"3329\",\"type\":\"UnionRenderers\"}},\"id\":\"3273\",\"type\":\"ColumnDataSource\"},{\"attributes\":{\"formatter\":{\"id\":\"3212\",\"type\":\"BasicTickFormatter\"},\"ticker\":{\"id\":\"3145\",\"type\":\"BasicTicker\"},\"visible\":false},\"id\":\"3144\",\"type\":\"LinearAxis\"},{\"attributes\":{},\"id\":\"3150\",\"type\":\"WheelZoomTool\"},{\"attributes\":{\"callback\":null,\"data\":{},\"selected\":{\"id\":\"3391\",\"type\":\"Selection\"},\"selection_policy\":{\"id\":\"3390\",\"type\":\"UnionRenderers\"}},\"id\":\"3332\",\"type\":\"ColumnDataSource\"},{\"attributes\":{\"line_alpha\":0.1,\"line_color\":\"#1f77b4\",\"line_dash\":[6],\"x\":{\"field\":\"x\"},\"y\":{\"field\":\"y\"}},\"id\":\"3888\",\"type\":\"Line\"},{\"attributes\":{\"overlay\":{\"id\":\"3218\",\"type\":\"BoxAnnotation\"}},\"id\":\"3151\",\"type\":\"BoxZoomTool\"},{\"attributes\":{},\"id\":\"4339\",\"type\":\"UnionRenderers\"},{\"attributes\":{},\"id\":\"3152\",\"type\":\"SaveTool\"},{\"attributes\":{},\"id\":\"3585\",\"type\":\"UnionRenderers\"},{\"attributes\":{},\"id\":\"3135\",\"type\":\"LinearScale\"},{\"attributes\":{\"fill_alpha\":{\"value\":0.1},\"fill_color\":{\"value\":\"#1f77b4\"},\"line_alpha\":{\"value\":0.1},\"line_color\":{\"value\":\"#1f77b4\"},\"radius\":{\"units\":\"data\",\"value\":0.5},\"x\":{\"value\":0.5},\"y\":{\"value\":0.5}},\"id\":\"3275\",\"type\":\"Circle\"},{\"attributes\":{},\"id\":\"4340\",\"type\":\"Selection\"},{\"attributes\":{},\"id\":\"3153\",\"type\":\"ResetTool\"},{\"attributes\":{\"data_source\":{\"id\":\"3273\",\"type\":\"ColumnDataSource\"},\"glyph\":{\"id\":\"3274\",\"type\":\"Circle\"},\"hover_glyph\":null,\"muted_glyph\":null,\"nonselection_glyph\":{\"id\":\"3275\",\"type\":\"Circle\"},\"selection_glyph\":null,\"view\":{\"id\":\"3277\",\"type\":\"CDSView\"}},\"id\":\"3276\",\"type\":\"GlyphRenderer\"},{\"attributes\":{\"data_source\":{\"id\":\"3957\",\"type\":\"ColumnDataSource\"},\"glyph\":{\"id\":\"3958\",\"type\":\"Line\"},\"hover_glyph\":null,\"muted_glyph\":null,\"nonselection_glyph\":{\"id\":\"3959\",\"type\":\"Line\"},\"selection_glyph\":null,\"view\":{\"id\":\"3961\",\"type\":\"CDSView\"}},\"id\":\"3960\",\"type\":\"GlyphRenderer\"},{\"attributes\":{\"fill_alpha\":{\"value\":0.1},\"fill_color\":{\"value\":\"#1f77b4\"},\"line_alpha\":{\"value\":0.1},\"line_color\":{\"value\":\"#1f77b4\"},\"radius\":{\"units\":\"data\",\"value\":0.5},\"x\":{\"value\":0.5},\"y\":{\"value\":0.5}},\"id\":\"3164\",\"type\":\"Circle\"},{\"attributes\":{},\"id\":\"3154\",\"type\":\"HelpTool\"},{\"attributes\":{\"source\":{\"id\":\"3273\",\"type\":\"ColumnDataSource\"}},\"id\":\"3277\",\"type\":\"CDSView\"},{\"attributes\":{\"source\":{\"id\":\"3957\",\"type\":\"ColumnDataSource\"}},\"id\":\"3961\",\"type\":\"CDSView\"},{\"attributes\":{\"line_alpha\":0.5,\"line_dash\":[6],\"x\":{\"field\":\"x\"},\"y\":{\"field\":\"y\"}},\"id\":\"4031\",\"type\":\"Line\"},{\"attributes\":{\"callback\":null,\"data\":{},\"selected\":{\"id\":\"3454\",\"type\":\"Selection\"},\"selection_policy\":{\"id\":\"3453\",\"type\":\"UnionRenderers\"}},\"id\":\"3393\",\"type\":\"ColumnDataSource\"},{\"attributes\":{},\"id\":\"4027\",\"type\":\"UnionRenderers\"},{\"attributes\":{\"data_source\":{\"id\":\"3332\",\"type\":\"ColumnDataSource\"},\"glyph\":{\"id\":\"3333\",\"type\":\"Circle\"},\"hover_glyph\":null,\"muted_glyph\":null,\"nonselection_glyph\":{\"id\":\"3334\",\"type\":\"Circle\"},\"selection_glyph\":null,\"view\":{\"id\":\"3336\",\"type\":\"CDSView\"}},\"id\":\"3335\",\"type\":\"GlyphRenderer\"},{\"attributes\":{\"fill_color\":{\"value\":null},\"line_alpha\":{\"value\":0.5},\"radius\":{\"units\":\"data\",\"value\":0.5},\"x\":{\"value\":0.5},\"y\":{\"value\":0.5}},\"id\":\"3163\",\"type\":\"Circle\"},{\"attributes\":{\"line_alpha\":0.1,\"line_color\":\"#1f77b4\",\"line_dash\":[6],\"x\":{\"field\":\"x\"},\"y\":{\"field\":\"y\"}},\"id\":\"3959\",\"type\":\"Line\"},{\"attributes\":{\"formatter\":{\"id\":\"3214\",\"type\":\"BasicTickFormatter\"},\"ticker\":{\"id\":\"3140\",\"type\":\"BasicTicker\"},\"visible\":false},\"id\":\"3139\",\"type\":\"LinearAxis\"},{\"attributes\":{\"source\":{\"id\":\"3162\",\"type\":\"ColumnDataSource\"}},\"id\":\"3166\",\"type\":\"CDSView\"},{\"attributes\":{},\"id\":\"4028\",\"type\":\"Selection\"},{\"attributes\":{\"fill_alpha\":{\"value\":0.1},\"fill_color\":{\"value\":\"#1f77b4\"},\"line_alpha\":{\"value\":0.1},\"line_color\":{\"value\":\"#1f77b4\"},\"line_dash\":[6],\"radius\":{\"units\":\"data\",\"value\":0.3},\"x\":{\"value\":0.5},\"y\":{\"value\":0.5}},\"id\":\"3458\",\"type\":\"Circle\"},{\"attributes\":{},\"id\":\"3329\",\"type\":\"UnionRenderers\"},{\"attributes\":{\"line_alpha\":0.1,\"line_color\":\"#1f77b4\",\"line_dash\":[6],\"x\":{\"field\":\"x\"},\"y\":{\"field\":\"y\"}},\"id\":\"4032\",\"type\":\"Line\"},{\"attributes\":{\"data_source\":{\"id\":\"4030\",\"type\":\"ColumnDataSource\"},\"glyph\":{\"id\":\"4031\",\"type\":\"Line\"},\"hover_glyph\":null,\"muted_glyph\":null,\"nonselection_glyph\":{\"id\":\"4032\",\"type\":\"Line\"},\"selection_glyph\":null,\"view\":{\"id\":\"4034\",\"type\":\"CDSView\"}},\"id\":\"4033\",\"type\":\"GlyphRenderer\"},{\"attributes\":{},\"id\":\"3330\",\"type\":\"Selection\"},{\"attributes\":{\"data_source\":{\"id\":\"3162\",\"type\":\"ColumnDataSource\"},\"glyph\":{\"id\":\"3163\",\"type\":\"Circle\"},\"hover_glyph\":null,\"muted_glyph\":null,\"nonselection_glyph\":{\"id\":\"3164\",\"type\":\"Circle\"},\"selection_glyph\":null,\"view\":{\"id\":\"3166\",\"type\":\"CDSView\"}},\"id\":\"3165\",\"type\":\"GlyphRenderer\"},{\"attributes\":{},\"id\":\"3391\",\"type\":\"Selection\"},{\"attributes\":{\"source\":{\"id\":\"3886\",\"type\":\"ColumnDataSource\"}},\"id\":\"3890\",\"type\":\"CDSView\"},{\"attributes\":{\"source\":{\"id\":\"3332\",\"type\":\"ColumnDataSource\"}},\"id\":\"3336\",\"type\":\"CDSView\"},{\"attributes\":{\"fill_alpha\":{\"value\":0.1},\"fill_color\":{\"value\":\"#1f77b4\"},\"line_alpha\":{\"value\":0.1},\"line_color\":{\"value\":\"#1f77b4\"},\"line_dash\":[6],\"radius\":{\"units\":\"data\",\"value\":0.1},\"x\":{\"value\":0.5},\"y\":{\"value\":0.5}},\"id\":\"3334\",\"type\":\"Circle\"},{\"attributes\":{\"callback\":null,\"data\":{\"x\":[0.5,0.4999999999999999],\"y\":[0.5,0.0]},\"selected\":{\"id\":\"4180\",\"type\":\"Selection\"},\"selection_policy\":{\"id\":\"4179\",\"type\":\"UnionRenderers\"}},\"id\":\"4105\",\"type\":\"ColumnDataSource\"},{\"attributes\":{},\"id\":\"3217\",\"type\":\"Selection\"},{\"attributes\":{},\"id\":\"3137\",\"type\":\"LinearScale\"},{\"attributes\":{\"source\":{\"id\":\"3817\",\"type\":\"ColumnDataSource\"}},\"id\":\"3821\",\"type\":\"CDSView\"},{\"attributes\":{\"data_source\":{\"id\":\"4182\",\"type\":\"ColumnDataSource\"},\"glyph\":{\"id\":\"4183\",\"type\":\"Line\"},\"hover_glyph\":null,\"muted_glyph\":null,\"nonselection_glyph\":{\"id\":\"4184\",\"type\":\"Line\"},\"selection_glyph\":null,\"view\":{\"id\":\"4186\",\"type\":\"CDSView\"}},\"id\":\"4185\",\"type\":\"GlyphRenderer\"},{\"attributes\":{\"source\":{\"id\":\"4030\",\"type\":\"ColumnDataSource\"}},\"id\":\"4034\",\"type\":\"CDSView\"},{\"attributes\":{\"data_source\":{\"id\":\"3817\",\"type\":\"ColumnDataSource\"},\"glyph\":{\"id\":\"3818\",\"type\":\"Line\"},\"hover_glyph\":null,\"muted_glyph\":null,\"nonselection_glyph\":{\"id\":\"3819\",\"type\":\"Line\"},\"selection_glyph\":null,\"view\":{\"id\":\"3821\",\"type\":\"CDSView\"}},\"id\":\"3820\",\"type\":\"GlyphRenderer\"},{\"attributes\":{},\"id\":\"3140\",\"type\":\"BasicTicker\"},{\"attributes\":{\"fill_color\":{\"value\":null},\"line_alpha\":{\"value\":0.5},\"line_dash\":[6],\"radius\":{\"units\":\"data\",\"value\":0.2},\"x\":{\"value\":0.5},\"y\":{\"value\":0.5}},\"id\":\"3394\",\"type\":\"Circle\"},{\"attributes\":{\"line_alpha\":0.1,\"line_color\":\"#1f77b4\",\"line_dash\":[6],\"x\":{\"field\":\"x\"},\"y\":{\"field\":\"y\"}},\"id\":\"3819\",\"type\":\"Line\"},{\"attributes\":{},\"id\":\"4102\",\"type\":\"UnionRenderers\"},{\"attributes\":{\"callback\":null,\"data\":{\"x\":[0.5,0.14644660940672616],\"y\":[0.5,0.14644660940672627]},\"selected\":{\"id\":\"4103\",\"type\":\"Selection\"},\"selection_policy\":{\"id\":\"4102\",\"type\":\"UnionRenderers\"}},\"id\":\"4030\",\"type\":\"ColumnDataSource\"},{\"attributes\":{},\"id\":\"3518\",\"type\":\"UnionRenderers\"},{\"attributes\":{},\"id\":\"3519\",\"type\":\"Selection\"},{\"attributes\":{},\"id\":\"4103\",\"type\":\"Selection\"},{\"attributes\":{},\"id\":\"3390\",\"type\":\"UnionRenderers\"},{\"attributes\":{},\"id\":\"5429\",\"type\":\"Selection\"},{\"attributes\":{\"line_alpha\":0.5,\"line_dash\":[6],\"x\":{\"field\":\"x\"},\"y\":{\"field\":\"y\"}},\"id\":\"3958\",\"type\":\"Line\"},{\"attributes\":{\"ticker\":{\"id\":\"3140\",\"type\":\"BasicTicker\"},\"visible\":false},\"id\":\"3143\",\"type\":\"Grid\"},{\"attributes\":{\"source\":{\"id\":\"3456\",\"type\":\"ColumnDataSource\"}},\"id\":\"3460\",\"type\":\"CDSView\"},{\"attributes\":{\"line_alpha\":0.1,\"line_color\":\"#1f77b4\",\"line_dash\":[6],\"x\":{\"field\":\"x\"},\"y\":{\"field\":\"y\"}},\"id\":\"4107\",\"type\":\"Line\"},{\"attributes\":{},\"id\":\"4423\",\"type\":\"Selection\"},{\"attributes\":{\"data_source\":{\"id\":\"3393\",\"type\":\"ColumnDataSource\"},\"glyph\":{\"id\":\"3394\",\"type\":\"Circle\"},\"hover_glyph\":null,\"muted_glyph\":null,\"nonselection_glyph\":{\"id\":\"3395\",\"type\":\"Circle\"},\"selection_glyph\":null,\"view\":{\"id\":\"3397\",\"type\":\"CDSView\"}},\"id\":\"3396\",\"type\":\"GlyphRenderer\"},{\"attributes\":{\"data_source\":{\"id\":\"4105\",\"type\":\"ColumnDataSource\"},\"glyph\":{\"id\":\"4106\",\"type\":\"Line\"},\"hover_glyph\":null,\"muted_glyph\":null,\"nonselection_glyph\":{\"id\":\"4107\",\"type\":\"Line\"},\"selection_glyph\":null,\"view\":{\"id\":\"4109\",\"type\":\"CDSView\"}},\"id\":\"4108\",\"type\":\"GlyphRenderer\"},{\"attributes\":{\"source\":{\"id\":\"3393\",\"type\":\"ColumnDataSource\"}},\"id\":\"3397\",\"type\":\"CDSView\"},{\"attributes\":{\"fill_alpha\":{\"value\":0.1},\"fill_color\":{\"value\":\"#1f77b4\"},\"line_alpha\":{\"value\":0.1},\"line_color\":{\"value\":\"#1f77b4\"},\"line_dash\":[6],\"radius\":{\"units\":\"data\",\"value\":0.2},\"x\":{\"value\":0.5},\"y\":{\"value\":0.5}},\"id\":\"3395\",\"type\":\"Circle\"},{\"attributes\":{\"callback\":null,\"data\":{},\"selected\":{\"id\":\"3519\",\"type\":\"Selection\"},\"selection_policy\":{\"id\":\"3518\",\"type\":\"UnionRenderers\"}},\"id\":\"3456\",\"type\":\"ColumnDataSource\"},{\"attributes\":{},\"id\":\"3586\",\"type\":\"Selection\"},{\"attributes\":{\"source\":{\"id\":\"4105\",\"type\":\"ColumnDataSource\"}},\"id\":\"4109\",\"type\":\"CDSView\"},{\"attributes\":{\"line_alpha\":0.5,\"line_dash\":[6],\"x\":{\"field\":\"x\"},\"y\":{\"field\":\"y\"}},\"id\":\"3887\",\"type\":\"Line\"},{\"attributes\":{\"callback\":null,\"data\":{\"x\":[0.5,1.0],\"y\":[0.5,0.4999999999999999]},\"selected\":{\"id\":\"4340\",\"type\":\"Selection\"},\"selection_policy\":{\"id\":\"4339\",\"type\":\"UnionRenderers\"}},\"id\":\"4261\",\"type\":\"ColumnDataSource\"},{\"attributes\":{\"source\":{\"id\":\"4342\",\"type\":\"ColumnDataSource\"}},\"id\":\"4346\",\"type\":\"CDSView\"},{\"attributes\":{\"callback\":null,\"data\":{},\"selected\":{\"id\":\"3586\",\"type\":\"Selection\"},\"selection_policy\":{\"id\":\"3585\",\"type\":\"UnionRenderers\"}},\"id\":\"3521\",\"type\":\"ColumnDataSource\"},{\"attributes\":{},\"id\":\"3145\",\"type\":\"BasicTicker\"},{\"attributes\":{},\"id\":\"4179\",\"type\":\"UnionRenderers\"},{\"attributes\":{\"callback\":null},\"id\":\"3133\",\"type\":\"DataRange1d\"},{\"attributes\":{},\"id\":\"4180\",\"type\":\"Selection\"},{\"attributes\":{\"data_source\":{\"id\":\"4342\",\"type\":\"ColumnDataSource\"},\"glyph\":{\"id\":\"4343\",\"type\":\"Line\"},\"hover_glyph\":null,\"muted_glyph\":null,\"nonselection_glyph\":{\"id\":\"4344\",\"type\":\"Line\"},\"selection_glyph\":null,\"view\":{\"id\":\"4346\",\"type\":\"CDSView\"}},\"id\":\"4345\",\"type\":\"GlyphRenderer\"},{\"attributes\":{\"callback\":null,\"renderers\":[{\"id\":\"4639\",\"type\":\"GlyphRenderer\"}],\"tooltips\":[[\"Dim\",\"@desc\"]]},\"id\":\"4721\",\"type\":\"HoverTool\"},{\"attributes\":{},\"id\":\"3453\",\"type\":\"UnionRenderers\"},{\"attributes\":{\"fill_color\":{\"value\":null},\"line_alpha\":{\"value\":0.5},\"line_dash\":[6],\"radius\":{\"units\":\"data\",\"value\":0.4},\"x\":{\"value\":0.5},\"y\":{\"value\":0.5}},\"id\":\"3522\",\"type\":\"Circle\"},{\"attributes\":{},\"id\":\"3454\",\"type\":\"Selection\"},{\"attributes\":{},\"id\":\"5428\",\"type\":\"UnionRenderers\"},{\"attributes\":{\"callback\":null,\"data\":{\"x\":[0.5,0.5],\"y\":[0.5,1.0]},\"selected\":{\"id\":\"3884\",\"type\":\"Selection\"},\"selection_policy\":{\"id\":\"3883\",\"type\":\"UnionRenderers\"}},\"id\":\"3817\",\"type\":\"ColumnDataSource\"},{\"attributes\":{\"line_alpha\":0.5,\"line_dash\":[6],\"x\":{\"field\":\"x\"},\"y\":{\"field\":\"y\"}},\"id\":\"3818\",\"type\":\"Line\"}],\"root_ids\":[\"3130\"]},\"title\":\"Bokeh Application\",\"version\":\"1.4.0\"}};\n",
       "  var render_items = [{\"docid\":\"6752da51-610e-48e6-a43c-66df88895bb2\",\"roots\":{\"3130\":\"d067dfab-750a-4eda-95ca-cbf341251327\"}}];\n",
       "  root.Bokeh.embed.embed_items_notebook(docs_json, render_items);\n",
       "\n",
       "  }\n",
       "  if (root.Bokeh !== undefined) {\n",
       "    embed_document(root);\n",
       "  } else {\n",
       "    var attempts = 0;\n",
       "    var timer = setInterval(function(root) {\n",
       "      if (root.Bokeh !== undefined) {\n",
       "        clearInterval(timer);\n",
       "        embed_document(root);\n",
       "      } else {\n",
       "        attempts++;\n",
       "        if (attempts > 100) {\n",
       "          clearInterval(timer);\n",
       "          console.log(\"Bokeh: ERROR: Unable to run BokehJS code because BokehJS library is missing\");\n",
       "        }\n",
       "      }\n",
       "    }, 10, root)\n",
       "  }\n",
       "})(window);"
      ],
      "application/vnd.bokehjs_exec.v0+json": ""
     },
     "metadata": {
      "application/vnd.bokehjs_exec.v0+json": {
       "id": "3130"
      }
     },
     "output_type": "display_data"
    }
   ],
   "source": [
    "# Compute the polar coordinates for the available data\n",
    "# ====================================================\n",
    "xt, yt = radar_patch(np.array(values), theta, centre)\n",
    "# Use Bokeh Patch Element to draw the data\n",
    "# ========================================\n",
    "p.patch(x=xt, y=yt, fill_alpha=0.3, fill_color='blue', line_color='blue', line_width=2)\n",
    "show(p)"
   ]
  },
  {
   "cell_type": "code",
   "execution_count": 25,
   "metadata": {},
   "outputs": [
    {
     "data": {
      "text/html": [
       "\n",
       "\n",
       "\n",
       "\n",
       "\n",
       "\n",
       "  <div class=\"bk-root\" id=\"27e6a475-e82e-4796-a545-aba194c52de6\" data-root-id=\"3130\"></div>\n"
      ]
     },
     "metadata": {},
     "output_type": "display_data"
    },
    {
     "data": {
      "application/javascript": [
       "(function(root) {\n",
       "  function embed_document(root) {\n",
       "    \n",
       "  var docs_json = {\"e60b87ce-c1ce-4ccc-b84c-f5fff58ccd63\":{\"roots\":{\"references\":[{\"attributes\":{\"below\":[{\"id\":\"3139\",\"type\":\"LinearAxis\"}],\"center\":[{\"id\":\"3143\",\"type\":\"Grid\"},{\"id\":\"3148\",\"type\":\"Grid\"},{\"id\":\"5026\",\"type\":\"LabelSet\"}],\"left\":[{\"id\":\"3144\",\"type\":\"LinearAxis\"}],\"match_aspect\":true,\"renderers\":[{\"id\":\"3165\",\"type\":\"GlyphRenderer\"},{\"id\":\"3276\",\"type\":\"GlyphRenderer\"},{\"id\":\"3335\",\"type\":\"GlyphRenderer\"},{\"id\":\"3396\",\"type\":\"GlyphRenderer\"},{\"id\":\"3459\",\"type\":\"GlyphRenderer\"},{\"id\":\"3524\",\"type\":\"GlyphRenderer\"},{\"id\":\"3820\",\"type\":\"GlyphRenderer\"},{\"id\":\"3889\",\"type\":\"GlyphRenderer\"},{\"id\":\"3960\",\"type\":\"GlyphRenderer\"},{\"id\":\"4033\",\"type\":\"GlyphRenderer\"},{\"id\":\"4108\",\"type\":\"GlyphRenderer\"},{\"id\":\"4185\",\"type\":\"GlyphRenderer\"},{\"id\":\"4264\",\"type\":\"GlyphRenderer\"},{\"id\":\"4345\",\"type\":\"GlyphRenderer\"},{\"id\":\"4639\",\"type\":\"GlyphRenderer\"},{\"id\":\"5347\",\"type\":\"GlyphRenderer\"},{\"id\":\"5683\",\"type\":\"GlyphRenderer\"}],\"title\":{\"id\":\"3210\",\"type\":\"Title\"},\"toolbar\":{\"id\":\"3155\",\"type\":\"Toolbar\"},\"toolbar_location\":\"below\",\"x_range\":{\"id\":\"3131\",\"type\":\"DataRange1d\"},\"x_scale\":{\"id\":\"3135\",\"type\":\"LinearScale\"},\"y_range\":{\"id\":\"3133\",\"type\":\"DataRange1d\"},\"y_scale\":{\"id\":\"3137\",\"type\":\"LinearScale\"}},\"id\":\"3130\",\"subtype\":\"Figure\",\"type\":\"Plot\"},{\"attributes\":{},\"id\":\"4259\",\"type\":\"Selection\"},{\"attributes\":{\"line_alpha\":0.5,\"line_dash\":[6],\"x\":{\"field\":\"x\"},\"y\":{\"field\":\"y\"}},\"id\":\"4106\",\"type\":\"Line\"},{\"attributes\":{\"callback\":null,\"data\":{\"desc\":[\"Visual\",\"Very difficult\",\"Very positive\",\"Extremely Interesting\",\"Stongly Agree\",\"Strongly Disagree\",\"Strongly Agree\",\"Yes\"],\"xt\":{\"__ndarray__\":\"AAAAAAAA4D9oiAEzw77CP5iZmZmZmbk/3DpA4TY22T/////////fP4Wx/ygMDek/zczMzMzM7D+2px+urS7qPw==\",\"dtype\":\"float64\",\"shape\":[8]},\"yt\":{\"__ndarray__\":\"AAAAAAAA6D/mnT8zT1DrPwAAAAAAAOA/3DpA4TY22T+YmZmZmZm5P+o5AVzPy8s//v//////3z+1px+urS7qPw==\",\"dtype\":\"float64\",\"shape\":[8]}},\"selected\":{\"id\":\"5767\",\"type\":\"Selection\"},\"selection_policy\":{\"id\":\"5766\",\"type\":\"UnionRenderers\"}},\"id\":\"5679\",\"type\":\"ColumnDataSource\"},{\"attributes\":{\"callback\":null},\"id\":\"3131\",\"type\":\"DataRange1d\"},{\"attributes\":{\"fill_color\":{\"value\":\"black\"},\"x\":{\"field\":\"xt\"},\"y\":{\"field\":\"yt\"}},\"id\":\"5681\",\"type\":\"Circle\"},{\"attributes\":{\"bottom_units\":\"screen\",\"fill_alpha\":{\"value\":0.5},\"fill_color\":{\"value\":\"lightgrey\"},\"left_units\":\"screen\",\"level\":\"overlay\",\"line_alpha\":{\"value\":1.0},\"line_color\":{\"value\":\"black\"},\"line_dash\":[4,4],\"line_width\":{\"value\":2},\"render_mode\":\"css\",\"right_units\":\"screen\",\"top_units\":\"screen\"},\"id\":\"3218\",\"type\":\"BoxAnnotation\"},{\"attributes\":{\"fill_alpha\":{\"value\":0.1},\"fill_color\":{\"value\":\"#1f77b4\"},\"line_alpha\":{\"value\":0.1},\"line_color\":{\"value\":\"#1f77b4\"},\"line_dash\":[6],\"radius\":{\"units\":\"data\",\"value\":0.4},\"x\":{\"value\":0.5},\"y\":{\"value\":0.5}},\"id\":\"3523\",\"type\":\"Circle\"},{\"attributes\":{\"line_alpha\":0.1,\"line_color\":\"#1f77b4\",\"line_dash\":[6],\"x\":{\"field\":\"x\"},\"y\":{\"field\":\"y\"}},\"id\":\"4263\",\"type\":\"Line\"},{\"attributes\":{\"data_source\":{\"id\":\"4261\",\"type\":\"ColumnDataSource\"},\"glyph\":{\"id\":\"4262\",\"type\":\"Line\"},\"hover_glyph\":null,\"muted_glyph\":null,\"nonselection_glyph\":{\"id\":\"4263\",\"type\":\"Line\"},\"selection_glyph\":null,\"view\":{\"id\":\"4265\",\"type\":\"CDSView\"}},\"id\":\"4264\",\"type\":\"GlyphRenderer\"},{\"attributes\":{\"source\":{\"id\":\"5679\",\"type\":\"ColumnDataSource\"}},\"id\":\"5684\",\"type\":\"CDSView\"},{\"attributes\":{\"source\":{\"id\":\"4261\",\"type\":\"ColumnDataSource\"}},\"id\":\"4265\",\"type\":\"CDSView\"},{\"attributes\":{\"fill_alpha\":{\"value\":0.1},\"fill_color\":{\"value\":\"#1f77b4\"},\"line_alpha\":{\"value\":0.1},\"line_color\":{\"value\":\"#1f77b4\"},\"x\":{\"field\":\"xt\"},\"y\":{\"field\":\"yt\"}},\"id\":\"5682\",\"type\":\"Circle\"},{\"attributes\":{},\"id\":\"5108\",\"type\":\"UnionRenderers\"},{\"attributes\":{\"data_source\":{\"id\":\"5679\",\"type\":\"ColumnDataSource\"},\"glyph\":{\"id\":\"5681\",\"type\":\"Circle\"},\"hover_glyph\":null,\"muted_glyph\":null,\"nonselection_glyph\":{\"id\":\"5682\",\"type\":\"Circle\"},\"selection_glyph\":null,\"view\":{\"id\":\"5684\",\"type\":\"CDSView\"}},\"id\":\"5683\",\"type\":\"GlyphRenderer\"},{\"attributes\":{},\"id\":\"3955\",\"type\":\"Selection\"},{\"attributes\":{\"line_alpha\":0.5,\"line_dash\":[6],\"x\":{\"field\":\"x\"},\"y\":{\"field\":\"y\"}},\"id\":\"4343\",\"type\":\"Line\"},{\"attributes\":{},\"id\":\"4718\",\"type\":\"UnionRenderers\"},{\"attributes\":{\"callback\":null,\"data\":{\"desc\":[\"What was the modality of the task\",\"Was was the difficulty of the task\",\"What was the valence of the task\",\"How interesting was the task\",\"Was the task too repetitive\",\"Would you change the timing of the task\",\"Would you recommend the task to your colleagues?\",\"Were you aware of body motion associated with the task\"],\"x\":[0.5,0.14644660940672627,0.0,0.14644660940672616,0.4999999999999999,0.8535533905932737,1.0,0.8535533905932738],\"y\":[1.0,0.8535533905932737,0.5000000000000001,0.14644660940672627,0.0,0.14644660940672616,0.4999999999999999,0.8535533905932737]},\"selected\":{\"id\":\"4719\",\"type\":\"Selection\"},\"selection_policy\":{\"id\":\"4718\",\"type\":\"UnionRenderers\"}},\"id\":\"4635\",\"type\":\"ColumnDataSource\"},{\"attributes\":{\"fill_color\":{\"value\":\"black\"},\"x\":{\"field\":\"x\"},\"y\":{\"field\":\"y\"}},\"id\":\"4637\",\"type\":\"Circle\"},{\"attributes\":{\"line_alpha\":0.5,\"line_dash\":[6],\"x\":{\"field\":\"x\"},\"y\":{\"field\":\"y\"}},\"id\":\"4262\",\"type\":\"Line\"},{\"attributes\":{},\"id\":\"5767\",\"type\":\"Selection\"},{\"attributes\":{\"data_source\":{\"id\":\"3456\",\"type\":\"ColumnDataSource\"},\"glyph\":{\"id\":\"3457\",\"type\":\"Circle\"},\"hover_glyph\":null,\"muted_glyph\":null,\"nonselection_glyph\":{\"id\":\"3458\",\"type\":\"Circle\"},\"selection_glyph\":null,\"view\":{\"id\":\"3460\",\"type\":\"CDSView\"}},\"id\":\"3459\",\"type\":\"GlyphRenderer\"},{\"attributes\":{\"data_source\":{\"id\":\"3521\",\"type\":\"ColumnDataSource\"},\"glyph\":{\"id\":\"3522\",\"type\":\"Circle\"},\"hover_glyph\":null,\"muted_glyph\":null,\"nonselection_glyph\":{\"id\":\"3523\",\"type\":\"Circle\"},\"selection_glyph\":null,\"view\":{\"id\":\"3525\",\"type\":\"CDSView\"}},\"id\":\"3524\",\"type\":\"GlyphRenderer\"},{\"attributes\":{\"callback\":null,\"data\":{\"x\":[0.5,0.0],\"y\":[0.5,0.5000000000000001]},\"selected\":{\"id\":\"4028\",\"type\":\"Selection\"},\"selection_policy\":{\"id\":\"4027\",\"type\":\"UnionRenderers\"}},\"id\":\"3957\",\"type\":\"ColumnDataSource\"},{\"attributes\":{\"source\":{\"id\":\"4635\",\"type\":\"ColumnDataSource\"}},\"id\":\"4640\",\"type\":\"CDSView\"},{\"attributes\":{},\"id\":\"5766\",\"type\":\"UnionRenderers\"},{\"attributes\":{\"text\":\"\"},\"id\":\"3210\",\"type\":\"Title\"},{\"attributes\":{\"fill_alpha\":{\"value\":0.1},\"fill_color\":{\"value\":\"#1f77b4\"},\"line_alpha\":{\"value\":0.1},\"line_color\":{\"value\":\"#1f77b4\"},\"x\":{\"field\":\"x\"},\"y\":{\"field\":\"y\"}},\"id\":\"4638\",\"type\":\"Circle\"},{\"attributes\":{},\"id\":\"3954\",\"type\":\"UnionRenderers\"},{\"attributes\":{\"data_source\":{\"id\":\"4635\",\"type\":\"ColumnDataSource\"},\"glyph\":{\"id\":\"4637\",\"type\":\"Circle\"},\"hover_glyph\":null,\"muted_glyph\":null,\"nonselection_glyph\":{\"id\":\"4638\",\"type\":\"Circle\"},\"selection_glyph\":null,\"view\":{\"id\":\"4640\",\"type\":\"CDSView\"}},\"id\":\"4639\",\"type\":\"GlyphRenderer\"},{\"attributes\":{},\"id\":\"4719\",\"type\":\"Selection\"},{\"attributes\":{\"source\":{\"id\":\"3521\",\"type\":\"ColumnDataSource\"}},\"id\":\"3525\",\"type\":\"CDSView\"},{\"attributes\":{},\"id\":\"4258\",\"type\":\"UnionRenderers\"},{\"attributes\":{\"data_source\":{\"id\":\"5344\",\"type\":\"ColumnDataSource\"},\"glyph\":{\"id\":\"5345\",\"type\":\"Patch\"},\"hover_glyph\":null,\"muted_glyph\":null,\"nonselection_glyph\":{\"id\":\"5346\",\"type\":\"Patch\"},\"selection_glyph\":null,\"view\":{\"id\":\"5348\",\"type\":\"CDSView\"}},\"id\":\"5347\",\"type\":\"GlyphRenderer\"},{\"attributes\":{\"callback\":null,\"data\":{\"x\":[0.5,0.8535533905932738],\"y\":[0.5,0.8535533905932737]},\"selected\":{\"id\":\"4423\",\"type\":\"Selection\"},\"selection_policy\":{\"id\":\"4422\",\"type\":\"UnionRenderers\"}},\"id\":\"4342\",\"type\":\"ColumnDataSource\"},{\"attributes\":{\"source\":{\"id\":\"5344\",\"type\":\"ColumnDataSource\"}},\"id\":\"5348\",\"type\":\"CDSView\"},{\"attributes\":{\"fill_alpha\":0.3,\"fill_color\":\"blue\",\"line_color\":\"blue\",\"line_width\":2,\"x\":{\"field\":\"x\"},\"y\":{\"field\":\"y\"}},\"id\":\"5345\",\"type\":\"Patch\"},{\"attributes\":{\"fill_color\":{\"value\":null},\"line_alpha\":{\"value\":0.5},\"line_dash\":[6],\"radius\":{\"units\":\"data\",\"value\":0.3},\"x\":{\"value\":0.5},\"y\":{\"value\":0.5}},\"id\":\"3457\",\"type\":\"Circle\"},{\"attributes\":{\"callback\":null,\"data\":{\"x\":{\"__ndarray__\":\"AAAAAAAA4D9oiAEzw77CP5iZmZmZmbk/3DpA4TY22T/////////fP4Wx/ygMDek/zczMzMzM7D+2px+urS7qPw==\",\"dtype\":\"float64\",\"shape\":[8]},\"y\":{\"__ndarray__\":\"AAAAAAAA6D/mnT8zT1DrPwAAAAAAAOA/3DpA4TY22T+YmZmZmZm5P+o5AVzPy8s//v//////3z+1px+urS7qPw==\",\"dtype\":\"float64\",\"shape\":[8]}},\"selected\":{\"id\":\"5429\",\"type\":\"Selection\"},\"selection_policy\":{\"id\":\"5428\",\"type\":\"UnionRenderers\"}},\"id\":\"5344\",\"type\":\"ColumnDataSource\"},{\"attributes\":{\"callback\":null,\"renderers\":[{\"id\":\"5683\",\"type\":\"GlyphRenderer\"}],\"tooltips\":[[\"Response:\",\"@desc\"]]},\"id\":\"5771\",\"type\":\"HoverTool\"},{\"attributes\":{\"fill_alpha\":0.1,\"fill_color\":\"#1f77b4\",\"line_alpha\":0.1,\"line_color\":\"#1f77b4\",\"line_width\":2,\"x\":{\"field\":\"x\"},\"y\":{\"field\":\"y\"}},\"id\":\"5346\",\"type\":\"Patch\"},{\"attributes\":{\"line_alpha\":0.5,\"line_dash\":[6],\"x\":{\"field\":\"x\"},\"y\":{\"field\":\"y\"}},\"id\":\"4183\",\"type\":\"Line\"},{\"attributes\":{\"callback\":null,\"data\":{\"text\":[\"Dim 1\",\"Dim 2\",\"Dim 3\",\"Dim 4\",\"Dim 5\",\"Dim 6\",\"Dim 7\",\"Dim 8\"],\"x\":[0.5,0.09644660940672627,-0.05,0.09644660940672616,0.4499999999999999,0.8535533905932737,1.0,0.8535533905932738],\"y\":[1.0,0.8535533905932737,0.5000000000000001,0.09644660940672627,-0.05,0.09644660940672616,0.4499999999999999,0.8535533905932737]},\"selected\":{\"id\":\"5109\",\"type\":\"Selection\"},\"selection_policy\":{\"id\":\"5108\",\"type\":\"UnionRenderers\"}},\"id\":\"5025\",\"type\":\"ColumnDataSource\"},{\"attributes\":{\"source\":{\"id\":\"5025\",\"type\":\"ColumnDataSource\"},\"x\":{\"field\":\"x\"},\"y\":{\"field\":\"y\"}},\"id\":\"5026\",\"type\":\"LabelSet\"},{\"attributes\":{\"dimension\":1,\"ticker\":{\"id\":\"3145\",\"type\":\"BasicTicker\"},\"visible\":false},\"id\":\"3148\",\"type\":\"Grid\"},{\"attributes\":{\"source\":{\"id\":\"4182\",\"type\":\"ColumnDataSource\"}},\"id\":\"4186\",\"type\":\"CDSView\"},{\"attributes\":{},\"id\":\"3216\",\"type\":\"UnionRenderers\"},{\"attributes\":{},\"id\":\"3883\",\"type\":\"UnionRenderers\"},{\"attributes\":{},\"id\":\"4422\",\"type\":\"UnionRenderers\"},{\"attributes\":{\"callback\":null,\"data\":{\"x\":[0.5,0.14644660940672627],\"y\":[0.5,0.8535533905932737]},\"selected\":{\"id\":\"3955\",\"type\":\"Selection\"},\"selection_policy\":{\"id\":\"3954\",\"type\":\"UnionRenderers\"}},\"id\":\"3886\",\"type\":\"ColumnDataSource\"},{\"attributes\":{\"callback\":null,\"data\":{\"x\":[0.5,0.8535533905932737],\"y\":[0.5,0.14644660940672616]},\"selected\":{\"id\":\"4259\",\"type\":\"Selection\"},\"selection_policy\":{\"id\":\"4258\",\"type\":\"UnionRenderers\"}},\"id\":\"4182\",\"type\":\"ColumnDataSource\"},{\"attributes\":{\"line_alpha\":0.1,\"line_color\":\"#1f77b4\",\"line_dash\":[6],\"x\":{\"field\":\"x\"},\"y\":{\"field\":\"y\"}},\"id\":\"4344\",\"type\":\"Line\"},{\"attributes\":{},\"id\":\"3884\",\"type\":\"Selection\"},{\"attributes\":{\"active_drag\":\"auto\",\"active_inspect\":\"auto\",\"active_multi\":null,\"active_scroll\":\"auto\",\"active_tap\":\"auto\",\"logo\":null,\"tools\":[{\"id\":\"3149\",\"type\":\"PanTool\"},{\"id\":\"3150\",\"type\":\"WheelZoomTool\"},{\"id\":\"3151\",\"type\":\"BoxZoomTool\"},{\"id\":\"3152\",\"type\":\"SaveTool\"},{\"id\":\"3153\",\"type\":\"ResetTool\"},{\"id\":\"3154\",\"type\":\"HelpTool\"},{\"id\":\"4721\",\"type\":\"HoverTool\"},{\"id\":\"5771\",\"type\":\"HoverTool\"}]},\"id\":\"3155\",\"type\":\"Toolbar\"},{\"attributes\":{\"line_alpha\":0.1,\"line_color\":\"#1f77b4\",\"line_dash\":[6],\"x\":{\"field\":\"x\"},\"y\":{\"field\":\"y\"}},\"id\":\"4184\",\"type\":\"Line\"},{\"attributes\":{},\"id\":\"5109\",\"type\":\"Selection\"},{\"attributes\":{},\"id\":\"3212\",\"type\":\"BasicTickFormatter\"},{\"attributes\":{\"callback\":null,\"data\":{},\"selected\":{\"id\":\"3217\",\"type\":\"Selection\"},\"selection_policy\":{\"id\":\"3216\",\"type\":\"UnionRenderers\"}},\"id\":\"3162\",\"type\":\"ColumnDataSource\"},{\"attributes\":{\"fill_color\":{\"value\":null},\"line_alpha\":{\"value\":0.5},\"line_dash\":[6],\"radius\":{\"units\":\"data\",\"value\":0.1},\"x\":{\"value\":0.5},\"y\":{\"value\":0.5}},\"id\":\"3333\",\"type\":\"Circle\"},{\"attributes\":{},\"id\":\"3214\",\"type\":\"BasicTickFormatter\"},{\"attributes\":{\"fill_color\":{\"value\":null},\"line_alpha\":{\"value\":0.5},\"radius\":{\"units\":\"data\",\"value\":0.5},\"x\":{\"value\":0.5},\"y\":{\"value\":0.5}},\"id\":\"3274\",\"type\":\"Circle\"},{\"attributes\":{},\"id\":\"3149\",\"type\":\"PanTool\"},{\"attributes\":{\"data_source\":{\"id\":\"3886\",\"type\":\"ColumnDataSource\"},\"glyph\":{\"id\":\"3887\",\"type\":\"Line\"},\"hover_glyph\":null,\"muted_glyph\":null,\"nonselection_glyph\":{\"id\":\"3888\",\"type\":\"Line\"},\"selection_glyph\":null,\"view\":{\"id\":\"3890\",\"type\":\"CDSView\"}},\"id\":\"3889\",\"type\":\"GlyphRenderer\"},{\"attributes\":{\"callback\":null,\"data\":{},\"selected\":{\"id\":\"3330\",\"type\":\"Selection\"},\"selection_policy\":{\"id\":\"3329\",\"type\":\"UnionRenderers\"}},\"id\":\"3273\",\"type\":\"ColumnDataSource\"},{\"attributes\":{\"formatter\":{\"id\":\"3212\",\"type\":\"BasicTickFormatter\"},\"ticker\":{\"id\":\"3145\",\"type\":\"BasicTicker\"},\"visible\":false},\"id\":\"3144\",\"type\":\"LinearAxis\"},{\"attributes\":{},\"id\":\"3150\",\"type\":\"WheelZoomTool\"},{\"attributes\":{\"callback\":null,\"data\":{},\"selected\":{\"id\":\"3391\",\"type\":\"Selection\"},\"selection_policy\":{\"id\":\"3390\",\"type\":\"UnionRenderers\"}},\"id\":\"3332\",\"type\":\"ColumnDataSource\"},{\"attributes\":{\"line_alpha\":0.1,\"line_color\":\"#1f77b4\",\"line_dash\":[6],\"x\":{\"field\":\"x\"},\"y\":{\"field\":\"y\"}},\"id\":\"3888\",\"type\":\"Line\"},{\"attributes\":{\"overlay\":{\"id\":\"3218\",\"type\":\"BoxAnnotation\"}},\"id\":\"3151\",\"type\":\"BoxZoomTool\"},{\"attributes\":{},\"id\":\"4339\",\"type\":\"UnionRenderers\"},{\"attributes\":{},\"id\":\"3152\",\"type\":\"SaveTool\"},{\"attributes\":{},\"id\":\"3585\",\"type\":\"UnionRenderers\"},{\"attributes\":{},\"id\":\"3135\",\"type\":\"LinearScale\"},{\"attributes\":{\"fill_alpha\":{\"value\":0.1},\"fill_color\":{\"value\":\"#1f77b4\"},\"line_alpha\":{\"value\":0.1},\"line_color\":{\"value\":\"#1f77b4\"},\"radius\":{\"units\":\"data\",\"value\":0.5},\"x\":{\"value\":0.5},\"y\":{\"value\":0.5}},\"id\":\"3275\",\"type\":\"Circle\"},{\"attributes\":{},\"id\":\"4340\",\"type\":\"Selection\"},{\"attributes\":{},\"id\":\"3153\",\"type\":\"ResetTool\"},{\"attributes\":{\"data_source\":{\"id\":\"3273\",\"type\":\"ColumnDataSource\"},\"glyph\":{\"id\":\"3274\",\"type\":\"Circle\"},\"hover_glyph\":null,\"muted_glyph\":null,\"nonselection_glyph\":{\"id\":\"3275\",\"type\":\"Circle\"},\"selection_glyph\":null,\"view\":{\"id\":\"3277\",\"type\":\"CDSView\"}},\"id\":\"3276\",\"type\":\"GlyphRenderer\"},{\"attributes\":{\"data_source\":{\"id\":\"3957\",\"type\":\"ColumnDataSource\"},\"glyph\":{\"id\":\"3958\",\"type\":\"Line\"},\"hover_glyph\":null,\"muted_glyph\":null,\"nonselection_glyph\":{\"id\":\"3959\",\"type\":\"Line\"},\"selection_glyph\":null,\"view\":{\"id\":\"3961\",\"type\":\"CDSView\"}},\"id\":\"3960\",\"type\":\"GlyphRenderer\"},{\"attributes\":{\"fill_alpha\":{\"value\":0.1},\"fill_color\":{\"value\":\"#1f77b4\"},\"line_alpha\":{\"value\":0.1},\"line_color\":{\"value\":\"#1f77b4\"},\"radius\":{\"units\":\"data\",\"value\":0.5},\"x\":{\"value\":0.5},\"y\":{\"value\":0.5}},\"id\":\"3164\",\"type\":\"Circle\"},{\"attributes\":{},\"id\":\"3154\",\"type\":\"HelpTool\"},{\"attributes\":{\"source\":{\"id\":\"3273\",\"type\":\"ColumnDataSource\"}},\"id\":\"3277\",\"type\":\"CDSView\"},{\"attributes\":{\"source\":{\"id\":\"3957\",\"type\":\"ColumnDataSource\"}},\"id\":\"3961\",\"type\":\"CDSView\"},{\"attributes\":{\"line_alpha\":0.5,\"line_dash\":[6],\"x\":{\"field\":\"x\"},\"y\":{\"field\":\"y\"}},\"id\":\"4031\",\"type\":\"Line\"},{\"attributes\":{\"callback\":null,\"data\":{},\"selected\":{\"id\":\"3454\",\"type\":\"Selection\"},\"selection_policy\":{\"id\":\"3453\",\"type\":\"UnionRenderers\"}},\"id\":\"3393\",\"type\":\"ColumnDataSource\"},{\"attributes\":{},\"id\":\"4027\",\"type\":\"UnionRenderers\"},{\"attributes\":{\"data_source\":{\"id\":\"3332\",\"type\":\"ColumnDataSource\"},\"glyph\":{\"id\":\"3333\",\"type\":\"Circle\"},\"hover_glyph\":null,\"muted_glyph\":null,\"nonselection_glyph\":{\"id\":\"3334\",\"type\":\"Circle\"},\"selection_glyph\":null,\"view\":{\"id\":\"3336\",\"type\":\"CDSView\"}},\"id\":\"3335\",\"type\":\"GlyphRenderer\"},{\"attributes\":{\"fill_color\":{\"value\":null},\"line_alpha\":{\"value\":0.5},\"radius\":{\"units\":\"data\",\"value\":0.5},\"x\":{\"value\":0.5},\"y\":{\"value\":0.5}},\"id\":\"3163\",\"type\":\"Circle\"},{\"attributes\":{\"line_alpha\":0.1,\"line_color\":\"#1f77b4\",\"line_dash\":[6],\"x\":{\"field\":\"x\"},\"y\":{\"field\":\"y\"}},\"id\":\"3959\",\"type\":\"Line\"},{\"attributes\":{\"formatter\":{\"id\":\"3214\",\"type\":\"BasicTickFormatter\"},\"ticker\":{\"id\":\"3140\",\"type\":\"BasicTicker\"},\"visible\":false},\"id\":\"3139\",\"type\":\"LinearAxis\"},{\"attributes\":{\"source\":{\"id\":\"3162\",\"type\":\"ColumnDataSource\"}},\"id\":\"3166\",\"type\":\"CDSView\"},{\"attributes\":{},\"id\":\"4028\",\"type\":\"Selection\"},{\"attributes\":{\"fill_alpha\":{\"value\":0.1},\"fill_color\":{\"value\":\"#1f77b4\"},\"line_alpha\":{\"value\":0.1},\"line_color\":{\"value\":\"#1f77b4\"},\"line_dash\":[6],\"radius\":{\"units\":\"data\",\"value\":0.3},\"x\":{\"value\":0.5},\"y\":{\"value\":0.5}},\"id\":\"3458\",\"type\":\"Circle\"},{\"attributes\":{},\"id\":\"3329\",\"type\":\"UnionRenderers\"},{\"attributes\":{\"line_alpha\":0.1,\"line_color\":\"#1f77b4\",\"line_dash\":[6],\"x\":{\"field\":\"x\"},\"y\":{\"field\":\"y\"}},\"id\":\"4032\",\"type\":\"Line\"},{\"attributes\":{\"data_source\":{\"id\":\"4030\",\"type\":\"ColumnDataSource\"},\"glyph\":{\"id\":\"4031\",\"type\":\"Line\"},\"hover_glyph\":null,\"muted_glyph\":null,\"nonselection_glyph\":{\"id\":\"4032\",\"type\":\"Line\"},\"selection_glyph\":null,\"view\":{\"id\":\"4034\",\"type\":\"CDSView\"}},\"id\":\"4033\",\"type\":\"GlyphRenderer\"},{\"attributes\":{},\"id\":\"3330\",\"type\":\"Selection\"},{\"attributes\":{\"data_source\":{\"id\":\"3162\",\"type\":\"ColumnDataSource\"},\"glyph\":{\"id\":\"3163\",\"type\":\"Circle\"},\"hover_glyph\":null,\"muted_glyph\":null,\"nonselection_glyph\":{\"id\":\"3164\",\"type\":\"Circle\"},\"selection_glyph\":null,\"view\":{\"id\":\"3166\",\"type\":\"CDSView\"}},\"id\":\"3165\",\"type\":\"GlyphRenderer\"},{\"attributes\":{},\"id\":\"3391\",\"type\":\"Selection\"},{\"attributes\":{\"source\":{\"id\":\"3886\",\"type\":\"ColumnDataSource\"}},\"id\":\"3890\",\"type\":\"CDSView\"},{\"attributes\":{\"source\":{\"id\":\"3332\",\"type\":\"ColumnDataSource\"}},\"id\":\"3336\",\"type\":\"CDSView\"},{\"attributes\":{\"fill_alpha\":{\"value\":0.1},\"fill_color\":{\"value\":\"#1f77b4\"},\"line_alpha\":{\"value\":0.1},\"line_color\":{\"value\":\"#1f77b4\"},\"line_dash\":[6],\"radius\":{\"units\":\"data\",\"value\":0.1},\"x\":{\"value\":0.5},\"y\":{\"value\":0.5}},\"id\":\"3334\",\"type\":\"Circle\"},{\"attributes\":{\"callback\":null,\"data\":{\"x\":[0.5,0.4999999999999999],\"y\":[0.5,0.0]},\"selected\":{\"id\":\"4180\",\"type\":\"Selection\"},\"selection_policy\":{\"id\":\"4179\",\"type\":\"UnionRenderers\"}},\"id\":\"4105\",\"type\":\"ColumnDataSource\"},{\"attributes\":{},\"id\":\"3217\",\"type\":\"Selection\"},{\"attributes\":{},\"id\":\"3137\",\"type\":\"LinearScale\"},{\"attributes\":{\"source\":{\"id\":\"3817\",\"type\":\"ColumnDataSource\"}},\"id\":\"3821\",\"type\":\"CDSView\"},{\"attributes\":{\"data_source\":{\"id\":\"4182\",\"type\":\"ColumnDataSource\"},\"glyph\":{\"id\":\"4183\",\"type\":\"Line\"},\"hover_glyph\":null,\"muted_glyph\":null,\"nonselection_glyph\":{\"id\":\"4184\",\"type\":\"Line\"},\"selection_glyph\":null,\"view\":{\"id\":\"4186\",\"type\":\"CDSView\"}},\"id\":\"4185\",\"type\":\"GlyphRenderer\"},{\"attributes\":{\"source\":{\"id\":\"4030\",\"type\":\"ColumnDataSource\"}},\"id\":\"4034\",\"type\":\"CDSView\"},{\"attributes\":{\"data_source\":{\"id\":\"3817\",\"type\":\"ColumnDataSource\"},\"glyph\":{\"id\":\"3818\",\"type\":\"Line\"},\"hover_glyph\":null,\"muted_glyph\":null,\"nonselection_glyph\":{\"id\":\"3819\",\"type\":\"Line\"},\"selection_glyph\":null,\"view\":{\"id\":\"3821\",\"type\":\"CDSView\"}},\"id\":\"3820\",\"type\":\"GlyphRenderer\"},{\"attributes\":{},\"id\":\"3140\",\"type\":\"BasicTicker\"},{\"attributes\":{\"fill_color\":{\"value\":null},\"line_alpha\":{\"value\":0.5},\"line_dash\":[6],\"radius\":{\"units\":\"data\",\"value\":0.2},\"x\":{\"value\":0.5},\"y\":{\"value\":0.5}},\"id\":\"3394\",\"type\":\"Circle\"},{\"attributes\":{\"line_alpha\":0.1,\"line_color\":\"#1f77b4\",\"line_dash\":[6],\"x\":{\"field\":\"x\"},\"y\":{\"field\":\"y\"}},\"id\":\"3819\",\"type\":\"Line\"},{\"attributes\":{},\"id\":\"4102\",\"type\":\"UnionRenderers\"},{\"attributes\":{\"callback\":null,\"data\":{\"x\":[0.5,0.14644660940672616],\"y\":[0.5,0.14644660940672627]},\"selected\":{\"id\":\"4103\",\"type\":\"Selection\"},\"selection_policy\":{\"id\":\"4102\",\"type\":\"UnionRenderers\"}},\"id\":\"4030\",\"type\":\"ColumnDataSource\"},{\"attributes\":{},\"id\":\"3518\",\"type\":\"UnionRenderers\"},{\"attributes\":{},\"id\":\"3519\",\"type\":\"Selection\"},{\"attributes\":{},\"id\":\"4103\",\"type\":\"Selection\"},{\"attributes\":{},\"id\":\"3390\",\"type\":\"UnionRenderers\"},{\"attributes\":{},\"id\":\"5429\",\"type\":\"Selection\"},{\"attributes\":{\"line_alpha\":0.5,\"line_dash\":[6],\"x\":{\"field\":\"x\"},\"y\":{\"field\":\"y\"}},\"id\":\"3958\",\"type\":\"Line\"},{\"attributes\":{\"ticker\":{\"id\":\"3140\",\"type\":\"BasicTicker\"},\"visible\":false},\"id\":\"3143\",\"type\":\"Grid\"},{\"attributes\":{\"source\":{\"id\":\"3456\",\"type\":\"ColumnDataSource\"}},\"id\":\"3460\",\"type\":\"CDSView\"},{\"attributes\":{\"line_alpha\":0.1,\"line_color\":\"#1f77b4\",\"line_dash\":[6],\"x\":{\"field\":\"x\"},\"y\":{\"field\":\"y\"}},\"id\":\"4107\",\"type\":\"Line\"},{\"attributes\":{},\"id\":\"4423\",\"type\":\"Selection\"},{\"attributes\":{\"data_source\":{\"id\":\"3393\",\"type\":\"ColumnDataSource\"},\"glyph\":{\"id\":\"3394\",\"type\":\"Circle\"},\"hover_glyph\":null,\"muted_glyph\":null,\"nonselection_glyph\":{\"id\":\"3395\",\"type\":\"Circle\"},\"selection_glyph\":null,\"view\":{\"id\":\"3397\",\"type\":\"CDSView\"}},\"id\":\"3396\",\"type\":\"GlyphRenderer\"},{\"attributes\":{\"data_source\":{\"id\":\"4105\",\"type\":\"ColumnDataSource\"},\"glyph\":{\"id\":\"4106\",\"type\":\"Line\"},\"hover_glyph\":null,\"muted_glyph\":null,\"nonselection_glyph\":{\"id\":\"4107\",\"type\":\"Line\"},\"selection_glyph\":null,\"view\":{\"id\":\"4109\",\"type\":\"CDSView\"}},\"id\":\"4108\",\"type\":\"GlyphRenderer\"},{\"attributes\":{\"source\":{\"id\":\"3393\",\"type\":\"ColumnDataSource\"}},\"id\":\"3397\",\"type\":\"CDSView\"},{\"attributes\":{\"fill_alpha\":{\"value\":0.1},\"fill_color\":{\"value\":\"#1f77b4\"},\"line_alpha\":{\"value\":0.1},\"line_color\":{\"value\":\"#1f77b4\"},\"line_dash\":[6],\"radius\":{\"units\":\"data\",\"value\":0.2},\"x\":{\"value\":0.5},\"y\":{\"value\":0.5}},\"id\":\"3395\",\"type\":\"Circle\"},{\"attributes\":{\"callback\":null,\"data\":{},\"selected\":{\"id\":\"3519\",\"type\":\"Selection\"},\"selection_policy\":{\"id\":\"3518\",\"type\":\"UnionRenderers\"}},\"id\":\"3456\",\"type\":\"ColumnDataSource\"},{\"attributes\":{},\"id\":\"3586\",\"type\":\"Selection\"},{\"attributes\":{\"source\":{\"id\":\"4105\",\"type\":\"ColumnDataSource\"}},\"id\":\"4109\",\"type\":\"CDSView\"},{\"attributes\":{\"line_alpha\":0.5,\"line_dash\":[6],\"x\":{\"field\":\"x\"},\"y\":{\"field\":\"y\"}},\"id\":\"3887\",\"type\":\"Line\"},{\"attributes\":{\"callback\":null,\"data\":{\"x\":[0.5,1.0],\"y\":[0.5,0.4999999999999999]},\"selected\":{\"id\":\"4340\",\"type\":\"Selection\"},\"selection_policy\":{\"id\":\"4339\",\"type\":\"UnionRenderers\"}},\"id\":\"4261\",\"type\":\"ColumnDataSource\"},{\"attributes\":{\"source\":{\"id\":\"4342\",\"type\":\"ColumnDataSource\"}},\"id\":\"4346\",\"type\":\"CDSView\"},{\"attributes\":{\"callback\":null,\"data\":{},\"selected\":{\"id\":\"3586\",\"type\":\"Selection\"},\"selection_policy\":{\"id\":\"3585\",\"type\":\"UnionRenderers\"}},\"id\":\"3521\",\"type\":\"ColumnDataSource\"},{\"attributes\":{},\"id\":\"3145\",\"type\":\"BasicTicker\"},{\"attributes\":{},\"id\":\"4179\",\"type\":\"UnionRenderers\"},{\"attributes\":{\"callback\":null},\"id\":\"3133\",\"type\":\"DataRange1d\"},{\"attributes\":{},\"id\":\"4180\",\"type\":\"Selection\"},{\"attributes\":{\"data_source\":{\"id\":\"4342\",\"type\":\"ColumnDataSource\"},\"glyph\":{\"id\":\"4343\",\"type\":\"Line\"},\"hover_glyph\":null,\"muted_glyph\":null,\"nonselection_glyph\":{\"id\":\"4344\",\"type\":\"Line\"},\"selection_glyph\":null,\"view\":{\"id\":\"4346\",\"type\":\"CDSView\"}},\"id\":\"4345\",\"type\":\"GlyphRenderer\"},{\"attributes\":{\"callback\":null,\"renderers\":[{\"id\":\"4639\",\"type\":\"GlyphRenderer\"}],\"tooltips\":[[\"Dim\",\"@desc\"]]},\"id\":\"4721\",\"type\":\"HoverTool\"},{\"attributes\":{},\"id\":\"3453\",\"type\":\"UnionRenderers\"},{\"attributes\":{\"fill_color\":{\"value\":null},\"line_alpha\":{\"value\":0.5},\"line_dash\":[6],\"radius\":{\"units\":\"data\",\"value\":0.4},\"x\":{\"value\":0.5},\"y\":{\"value\":0.5}},\"id\":\"3522\",\"type\":\"Circle\"},{\"attributes\":{},\"id\":\"3454\",\"type\":\"Selection\"},{\"attributes\":{},\"id\":\"5428\",\"type\":\"UnionRenderers\"},{\"attributes\":{\"callback\":null,\"data\":{\"x\":[0.5,0.5],\"y\":[0.5,1.0]},\"selected\":{\"id\":\"3884\",\"type\":\"Selection\"},\"selection_policy\":{\"id\":\"3883\",\"type\":\"UnionRenderers\"}},\"id\":\"3817\",\"type\":\"ColumnDataSource\"},{\"attributes\":{\"line_alpha\":0.5,\"line_dash\":[6],\"x\":{\"field\":\"x\"},\"y\":{\"field\":\"y\"}},\"id\":\"3818\",\"type\":\"Line\"}],\"root_ids\":[\"3130\"]},\"title\":\"Bokeh Application\",\"version\":\"1.4.0\"}};\n",
       "  var render_items = [{\"docid\":\"e60b87ce-c1ce-4ccc-b84c-f5fff58ccd63\",\"roots\":{\"3130\":\"27e6a475-e82e-4796-a545-aba194c52de6\"}}];\n",
       "  root.Bokeh.embed.embed_items_notebook(docs_json, render_items);\n",
       "\n",
       "  }\n",
       "  if (root.Bokeh !== undefined) {\n",
       "    embed_document(root);\n",
       "  } else {\n",
       "    var attempts = 0;\n",
       "    var timer = setInterval(function(root) {\n",
       "      if (root.Bokeh !== undefined) {\n",
       "        clearInterval(timer);\n",
       "        embed_document(root);\n",
       "      } else {\n",
       "        attempts++;\n",
       "        if (attempts > 100) {\n",
       "          clearInterval(timer);\n",
       "          console.log(\"Bokeh: ERROR: Unable to run BokehJS code because BokehJS library is missing\");\n",
       "        }\n",
       "      }\n",
       "    }, 10, root)\n",
       "  }\n",
       "})(window);"
      ],
      "application/vnd.bokehjs_exec.v0+json": ""
     },
     "metadata": {
      "application/vnd.bokehjs_exec.v0+json": {
       "id": "3130"
      }
     },
     "output_type": "display_data"
    }
   ],
   "source": [
    "# Patch hovering\n",
    "patch_dots_TOOLTIPS = [(\"Response:\",\"@desc\")]\n",
    "patch_dots_src = ColumnDataSource({'xt':xt,'yt':yt,'desc':responses})\n",
    "patch_dots = p.circle(x='xt',y='yt',color='black', source=patch_dots_src)\n",
    "patch_dots_hover = HoverTool(renderers=[patch_dots], tooltips=patch_dots_TOOLTIPS)\n",
    "p.add_tools(patch_dots_hover)\n",
    "show(p)"
   ]
  },
  {
   "cell_type": "code",
   "execution_count": null,
   "metadata": {},
   "outputs": [],
   "source": [
    "def generate_radar_chart_from_vals(vals, strs, QD, color='black'):\n",
    "    centre   = 0.5\n",
    "    num_vars = len(vals)\n",
    "    theta    = np.linspace(0, 2*np.pi, num_vars, endpoint=False)\n",
    "    theta   += np.pi/2\n",
    "    verts    = unit_poly_verts(theta, centre)\n",
    "    x        = [v[0] for v in verts] \n",
    "    y        = [v[1] for v in verts]\n",
    "\n",
    "    p =figure(match_aspect=True)\n",
    "    # Draw Outter Dots\n",
    "    out_dots_TOOLTIPS = [(\"Q:\", \"@desc\")]\n",
    "    out_dots_src = ColumnDataSource({'x':x,'y':y,'desc':list(QD.values())})\n",
    "    g_out_dots = p.circle(x='x',y='y', color='black', source=out_dots_src)\n",
    "    out_dots_hover = HoverTool(renderers=[g_out_dots], tooltips=out_dots_TOOLTIPS)\n",
    "    p.add_tools(out_dots_hover)\n",
    "\n",
    "    # Draw Outter Circle\n",
    "    p.circle(x=0.5,y=0.5,radius=0.5, fill_color=None, line_color='black', line_alpha=0.5)\n",
    "\n",
    "    # Draw concentrical lines\n",
    "    for i,j in zip(x,y):\n",
    "        p.line(x=[centre,i],y=[centre,j], line_color='black', line_dash='dashed', line_alpha=0.5)\n",
    "\n",
    "    #Draw intermediate circles\n",
    "    p.circle(x=0.5,y=0.5,radius=.5, line_color='black', fill_color=None, line_alpha=0.5)\n",
    "    p.circle(x=0.5,y=0.5,radius=.1, line_color='black', fill_color=None, line_alpha=0.5, line_dash='dashed')\n",
    "    p.circle(x=0.5,y=0.5,radius=.2, line_color='black', fill_color=None, line_alpha=0.5, line_dash='dashed')\n",
    "    p.circle(x=0.5,y=0.5,radius=.3, line_color='black', fill_color=None, line_alpha=0.5, line_dash='dashed')\n",
    "    p.circle(x=0.5,y=0.5,radius=.4, line_color='black', fill_color=None, line_alpha=0.5, line_dash='dashed')\n",
    "\n",
    "    # Visual Aspects\n",
    "    p.xgrid.visible=False\n",
    "    p.ygrid.visible=False\n",
    "    p.xaxis.visible=False\n",
    "    p.yaxis.visible=False\n",
    "    p.toolbar.logo=None\n",
    "    p.toolbar_location='below'\n",
    "\n",
    "    # Draw Question IDs\n",
    "    labels_txt = ['Q'+str(i).zfill(2) for i in range(1,num_vars+1)]\n",
    "    labels_src = ColumnDataSource({'x':[i if i >= 0.5 else i-.05 for i in x],'y':[i if i >= 0.5 else i-.05 for i in y],'text':labels_txt})\n",
    "    labels     = LabelSet(x=\"x\",y=\"y\",text=\"text\",source=labels_src)\n",
    "    p.add_layout(labels)\n",
    "    xt, yt = radar_patch(np.array(vals), theta, centre)\n",
    "    p.patch(x=xt, y=yt, fill_alpha=0.3, fill_color=color, line_color=color, line_width=2)\n",
    "    \n",
    "    # Patch hovering\n",
    "    patch_dots_TOOLTIPS = [(\"Response:\",\"@desc\")]\n",
    "    patch_dots_src = ColumnDataSource({'xt':xt,'yt':yt,'desc':strs})\n",
    "    patch_dots = p.circle(x='xt',y='yt',color='black', source=patch_dots_src)\n",
    "    patch_dots_hover = HoverTool(renderers=[patch_dots], tooltips=patch_dots_TOOLTIPS)\n",
    "    p.add_tools(patch_dots_hover)\n",
    "    p.width=425\n",
    "    p.height=425\n",
    "    return p"
   ]
  }
 ],
 "metadata": {
  "kernelspec": {
   "display_name": "Python 3",
   "language": "python",
   "name": "python3"
  },
  "language_info": {
   "codemirror_mode": {
    "name": "ipython",
    "version": 3
   },
   "file_extension": ".py",
   "mimetype": "text/x-python",
   "name": "python",
   "nbconvert_exporter": "python",
   "pygments_lexer": "ipython3",
   "version": "3.7.6"
  }
 },
 "nbformat": 4,
 "nbformat_minor": 4
}
